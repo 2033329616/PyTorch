{
 "cells": [
  {
   "cell_type": "markdown",
   "metadata": {},
   "source": [
    "# 生成对抗网络"
   ]
  },
  {
   "cell_type": "markdown",
   "metadata": {},
   "source": [
    "生成模型的作用是学习一个概率分布$P_{model}(X)$并按这个概率分布生成数据"
   ]
  },
  {
   "cell_type": "markdown",
   "metadata": {},
   "source": [
    "## 1. 自动编码器(Autoencoders)\n",
    "应用：1.数据去噪 2.可视化降维\n",
    "\n",
    "作为压缩算法的特点：\n",
    "1. 与数据相关程度很高，使用植物训练的自编码器用于提取动物的特征，会得到很差的结果\n",
    "2. 压缩编码后的数据是有损的\n",
    "<center>自动编码器</center>\n",
    "<img src='image/autoencoder.jpg' height='50%' width='50%'>\n",
    "上图是一个自编码器的整体架构图(出自CS231n课件)，损失函数是原图像与重构图像间的L2距离，编解码器均使用卷积神经网络来实现"
   ]
  },
  {
   "cell_type": "markdown",
   "metadata": {},
   "source": [
    "### 1.1 数据预处理"
   ]
  },
  {
   "cell_type": "code",
   "execution_count": 1,
   "metadata": {},
   "outputs": [],
   "source": [
    "import os\n",
    "import torch\n",
    "import numpy as np\n",
    "from torch import nn, optim\n",
    "import matplotlib.pyplot as plt\n",
    "from torch.autograd import Variable\n",
    "from torch.utils.data import DataLoader\n",
    "from torchvision import datasets, transforms\n",
    "from torchvision.utils import save_image\n",
    "\n",
    "use_cuda = torch.cuda.is_available()                    # gpu可用\n",
    "device = torch.device('cuda' if use_cuda else 'cpu')    # 优先使用gpu"
   ]
  },
  {
   "cell_type": "code",
   "execution_count": 2,
   "metadata": {},
   "outputs": [],
   "source": [
    "# 设置超参数(Hyperparameters)\n",
    "batch_size = 128\n",
    "learning_rate = 1e-3\n",
    "num_epochs = 20"
   ]
  },
  {
   "cell_type": "code",
   "execution_count": 3,
   "metadata": {},
   "outputs": [],
   "source": [
    "# 1.读取数据及预处理\n",
    "# Compose将各种预处理操作组合，ToTensor将图片处理为tensor，\n",
    "# Normalize(mean, variance)正则化\n",
    "data_tf = transforms.Compose([transforms.ToTensor(),                 # 数据变为tensor，范围[0,1]\n",
    "                              transforms.Normalize([0.5], [0.5])])   # 缩放到[-1,1]\n",
    "# 下载MNIST手写数字训练集\n",
    "train_dataset = datasets.MNIST(root='./data/MNIST', train=True, transform=data_tf, download=False)\n",
    "test_dataset = datasets.MNIST(root='./data/MNIST', train=False, transform=data_tf)\n",
    "# 创建数据迭代器便于训练模型\n",
    "train_loader = DataLoader(train_dataset, batch_size=batch_size, shuffle=True, num_workers=4)#, pin_memory=True)\n",
    "test_loader = DataLoader(test_dataset, batch_size=batch_size, shuffle=False)"
   ]
  },
  {
   "cell_type": "code",
   "execution_count": 4,
   "metadata": {},
   "outputs": [
    {
     "name": "stdout",
     "output_type": "stream",
     "text": [
      "1.训练数据的维度:\n",
      "torch.Size([60000, 28, 28])\n",
      "torch.Size([60000])\n",
      "2.测试数据的维度:\n",
      "torch.Size([10000, 28, 28])\n",
      "torch.Size([10000])\n"
     ]
    }
   ],
   "source": [
    "print('1.训练数据的维度:')\n",
    "print(train_dataset.train_data.shape)\n",
    "print(train_dataset.train_labels.shape)\n",
    "print('2.测试数据的维度:')\n",
    "print(test_dataset.test_data.shape)\n",
    "print(test_dataset.test_labels.shape)"
   ]
  },
  {
   "cell_type": "code",
   "execution_count": 5,
   "metadata": {},
   "outputs": [
    {
     "name": "stdout",
     "output_type": "stream",
     "text": [
      "1.0~9样本的索引: [1, 4, 17, 2, 6, 18, 3, 0, 28, 11]\n"
     ]
    },
    {
     "data": {
      "image/png": "[encoded data removed]",
      "text/plain": [
       "<matplotlib.figure.Figure at 0x17390af5c18>"
      ]
     },
     "metadata": {},
     "output_type": "display_data"
    }
   ],
   "source": [
    "# 显示数据\n",
    "%matplotlib inline\n",
    "def show_image():\n",
    "    test = test_dataset.test_labels.numpy()     # 将tensor数据转换为numpy数据\n",
    "    print(np.where(test==1))\n",
    "    sample_index = [np.where(test==i)[0][1] for i in range(10)] # np.where的输出(array([], dtype),)\n",
    "    print('1.0~9样本的索引:', sample_index)\n",
    "    sample_data = test_dataset.test_data[sample_index]          # 获取10个样本数据\n",
    "    print('2.手写体样本:')\n",
    "    for i in range(10):\n",
    "        plt.subplot(2,5,i+1)\n",
    "        sample_data = test_dataset.test_data[sample_index][i]    # torch.Size([28, 28])\n",
    "#         print(sample_data.shape)\n",
    "        plt.axis(\"off\")       # 关掉坐标轴\n",
    "        plt.imshow(sample_data, interpolation='none', cmap='gray')\n",
    "# show_image()\n",
    "def show_image2():\n",
    "#     x,y = train_loader.__iter__().next()   # 通过数据迭代器访问数据\n",
    "    x, y = next(train_loader.__iter__())\n",
    "    x, y = map(lambda x:x.numpy(), [x, y])   # 将tensor转换为numpy数据\n",
    "    sample_index = [np.where(y==i)[0][0] for i in range(10)]\n",
    "    print('1.0~9样本的索引:',sample_index)\n",
    "    for i in range(10):\n",
    "        plt.subplot(2,5,i+1)\n",
    "        sample_data = x[sample_index][i,0]    # (28,28)\n",
    "        plt.axis('off')\n",
    "        plt.imshow(sample_data, cmap='gray')\n",
    "show_image2()"
   ]
  },
  {
   "cell_type": "markdown",
   "metadata": {},
   "source": [
    "### 1.2 定义自编码器模型"
   ]
  },
  {
   "cell_type": "code",
   "execution_count": 6,
   "metadata": {},
   "outputs": [],
   "source": [
    "# 定义模型\n",
    "class AutoEncoder(nn.Module):\n",
    "    def __init__(self):\n",
    "        super().__init__()                   # 继承类的初始化  \n",
    "        self.encoder = nn.Sequential(        # 编码器部分 input (N, 1, 28, 28)\n",
    "            nn.Linear(28*28, 128),           # (N, 128)\n",
    "            nn.ReLU(),\n",
    "            nn.Linear(128, 64),              # (N, 64)\n",
    "            nn.ReLU(),\n",
    "            nn.Linear(64, 12),               # (N, 12)\n",
    "            nn.ReLU(),\n",
    "            nn.Linear(12, 3)                 # (N, 3)\n",
    "        )\n",
    "        self.decoder = nn.Sequential(\n",
    "            nn.Linear(3, 12),                # (N, 12)\n",
    "            nn.ReLU(),\n",
    "            nn.Linear(12, 64),               # (N, 64)\n",
    "            nn.ReLU(),\n",
    "            nn.Linear(64, 128),              # (N, 128)\n",
    "            nn.Linear(128, 28*28),           # (N, 28*28)\n",
    "            nn.Tanh()                        # 将数据缩放到 (-1,1)，与输入的数据范围对应!!!\n",
    "        )\n",
    "    def forward(self, x):\n",
    "        x = x.view(-1, 28*28)                # 将数据reshape为 (N, 28*28)\n",
    "        x = self.encoder(x)                  # 编码器\n",
    "        x = self.decoder(x)                  # 解码器\n",
    "        x = x.view(-1, 28, 28)               # (N, 28, 28)\n",
    "        return x\n",
    "    \n",
    "    def encode(self, x):                    # 输入数据维度    (N, 1, 28, 28)\n",
    "        x = x.view(-1, 28*28)                # 将数据reshape为 (N, 28*28)\n",
    "        x = self.encoder(x)                  # 编码器          (N, 3)\n",
    "        return x\n",
    "    def decode(self, x):                    # 输入数据维度    (N,3)\n",
    "        x = self.decoder(x)                  # 解码器\n",
    "        x = x.view(-1, 28, 28)               # (N, 28, 28)\n",
    "        return x"
   ]
  },
  {
   "cell_type": "markdown",
   "metadata": {},
   "source": [
    "### 1.3 添加损失、优化器并进行训练"
   ]
  },
  {
   "cell_type": "code",
   "execution_count": 7,
   "metadata": {},
   "outputs": [],
   "source": [
    "# 设置损失函数及优化器\n",
    "autoencoder = AutoEncoder().to(device)\n",
    "# print(autoencoder)\n",
    "criterion = nn.MSELoss()        # 均方差损失就是L2距离损失\n",
    "optimizer = optim.Adam(autoencoder.parameters(), lr=learning_rate)"
   ]
  },
  {
   "cell_type": "code",
   "execution_count": 8,
   "metadata": {
    "scrolled": false
   },
   "outputs": [
    {
     "name": "stdout",
     "output_type": "stream",
     "text": [
      "------------Epoch:0-------------\n",
      "Iter:0     loss:0.9356\n",
      "Iter:468   loss:0.2046\n",
      "------------Epoch:1-------------\n",
      "Iter:0     loss:0.1945\n",
      "Iter:468   loss:0.1734\n",
      "------------Epoch:2-------------\n",
      "Iter:0     loss:0.1798\n",
      "Iter:468   loss:0.1601\n",
      "------------Epoch:3-------------\n",
      "Iter:0     loss:0.1626\n",
      "Iter:468   loss:0.1596\n",
      "------------Epoch:4-------------\n",
      "Iter:0     loss:0.1692\n",
      "Iter:468   loss:0.1357\n",
      "------------Epoch:5-------------\n",
      "Iter:0     loss:0.1513\n",
      "Iter:468   loss:0.1593\n",
      "------------Epoch:6-------------\n",
      "Iter:0     loss:0.1517\n",
      "Iter:468   loss:0.1570\n",
      "------------Epoch:7-------------\n",
      "Iter:0     loss:0.1418\n",
      "Iter:468   loss:0.1535\n",
      "------------Epoch:8-------------\n",
      "Iter:0     loss:0.1636\n",
      "Iter:468   loss:0.1486\n",
      "------------Epoch:9-------------\n",
      "Iter:0     loss:0.1455\n",
      "Iter:468   loss:0.1570\n",
      "------------Epoch:10-------------\n",
      "Iter:0     loss:0.1472\n",
      "Iter:468   loss:0.1316\n",
      "------------Epoch:11-------------\n",
      "Iter:0     loss:0.1402\n",
      "Iter:468   loss:0.1512\n",
      "------------Epoch:12-------------\n",
      "Iter:0     loss:0.1450\n",
      "Iter:468   loss:0.1340\n",
      "------------Epoch:13-------------\n",
      "Iter:0     loss:0.1418\n",
      "Iter:468   loss:0.1490\n",
      "------------Epoch:14-------------\n",
      "Iter:0     loss:0.1415\n",
      "Iter:468   loss:0.1324\n",
      "------------Epoch:15-------------\n",
      "Iter:0     loss:0.1368\n",
      "Iter:468   loss:0.1446\n",
      "------------Epoch:16-------------\n",
      "Iter:0     loss:0.1501\n",
      "Iter:468   loss:0.1429\n",
      "------------Epoch:17-------------\n",
      "Iter:0     loss:0.1399\n",
      "Iter:468   loss:0.1301\n",
      "------------Epoch:18-------------\n",
      "Iter:0     loss:0.1418\n",
      "Iter:468   loss:0.1379\n",
      "------------Epoch:19-------------\n",
      "Iter:0     loss:0.1457\n",
      "Iter:468   loss:0.1436\n",
      "Wall time: 1min 57s\n"
     ]
    }
   ],
   "source": [
    "%%time\n",
    "# 开始训练模型\n",
    "num_epochs = 20\n",
    "pltX, pltY = [], []\n",
    "epoch_end = len(train_loader) - 1\n",
    "for epoch in range(num_epochs):\n",
    "    print('------------Epoch:%d-------------' % epoch)\n",
    "    pltX.append(epoch)\n",
    "    for iteration, data in enumerate(train_loader):\n",
    "        x, _ = data                               # 读入图像数据，只是用x就行\n",
    "        x = x.to(device)                          # 转换数据类型\n",
    "#         x = x.type(torch.cuda.FloatTensor)\n",
    "\n",
    "        out = autoencoder(x)                      # (N, 28, 28)\n",
    "        loss = criterion(out, x.squeeze())        # 计算L2损失\n",
    "#         print(loss)\n",
    "        print_loss = loss.data.item()             # tensor转换为一个数\n",
    "        \n",
    "        # 优化模型\n",
    "        optimizer.zero_grad()                     # 梯度归零\n",
    "        loss.backward()                           # 反向传播\n",
    "        optimizer.step()                          # 更新参数\n",
    "        \n",
    "        if iteration % 500 == 0 or iteration == epoch_end:\n",
    "            print('Iter:{:<5} loss:{:.4f}'.format(iteration, loss.data))\n",
    "    pltY.append(print_loss)"
   ]
  },
  {
   "cell_type": "code",
   "execution_count": 9,
   "metadata": {},
   "outputs": [
    {
     "data": {
      "image/png": "[encoded data removed]",
      "text/plain": [
       "<matplotlib.figure.Figure at 0x17397e68940>"
      ]
     },
     "metadata": {},
     "output_type": "display_data"
    }
   ],
   "source": [
    "# 绘制loss曲线\n",
    "plt.title('loss function output curve')\n",
    "plt.xlabel('epochs')\n",
    "plt.ylabel('loss')\n",
    "plt.plot(pltX, pltY)\n",
    "plt.show()"
   ]
  },
  {
   "cell_type": "markdown",
   "metadata": {},
   "source": [
    "损失函数很难看，但整体是在下降的，如果增加批次大的大小，或训练更多的epoch可以画出较平滑的图像"
   ]
  },
  {
   "cell_type": "markdown",
   "metadata": {},
   "source": [
    "### 1.4 测试与评估模型"
   ]
  },
  {
   "cell_type": "code",
   "execution_count": 10,
   "metadata": {},
   "outputs": [
    {
     "data": {
      "image/png": "[encoded data removed]",
      "text/plain": [
       "<matplotlib.figure.Figure at 0x173a1333320>"
      ]
     },
     "metadata": {},
     "output_type": "display_data"
    }
   ],
   "source": [
    "# 测试模型性能\n",
    "autoencoder.eval()                              # 模型进入测试模式\n",
    "test_x, _ = next(test_loader.__iter__())        # torch.Size([64, 1, 28, 28])\n",
    "# print(test_x.shape)\n",
    "test_x = test_x.to(device)\n",
    "with torch.no_grad():\n",
    "    out = autoencoder(test_x)\n",
    "#     print(out.shape)\n",
    "scale = lambda x:(x-x.min())/(x.max()-x.min())   # 将范围归一化到[0,1]\n",
    "test_x, out = map(scale, [test_x, out])          # 将数值范围缩放到[0,1]便于显示\n",
    "show_number = 5\n",
    "for i in range(show_number):\n",
    "\n",
    "    # 绘制测试的原图\n",
    "    plt.subplot(2, show_number, i+1)\n",
    "    plt.title('original')\n",
    "    test_x_img = test_x[i,0]                     # (28,28)\n",
    "    plt.axis('off')\n",
    "    plt.imshow(test_x_img, cmap='gray')\n",
    "    \n",
    "    # 绘制生成的原图\n",
    "    plt.subplot(2, show_number, show_number+i+1)\n",
    "    plt.title('generate')\n",
    "    out_x_img = out[i]\n",
    "    plt.axis('off')\n",
    "    plt.imshow(out_x_img, cmap='gray')"
   ]
  },
  {
   "cell_type": "markdown",
   "metadata": {},
   "source": [
    "总结：\n",
    "1. 解码器部分输出一定要缩放到(-1,1)范围，经过一个tanh()非线性函数处理就行"
   ]
  },
  {
   "cell_type": "markdown",
   "metadata": {},
   "source": [
    "### 基于卷积的自编码器\n",
    "使用全连接层作为编码和解码器会丢失一些空间信息，导致重构的图像轮廓是模糊的，使用卷积神经网络会得到更好的效果，使轮廓更加清晰\n",
    "$$out = (input-1)*s+w-2*p$$"
   ]
  },
  {
   "cell_type": "code",
   "execution_count": 11,
   "metadata": {},
   "outputs": [],
   "source": [
    "# 定义基于CNN的自编码器\n",
    "class AutoEncoderCNN(nn.Module):\n",
    "    def __init__(self):\n",
    "        super().__init__()\n",
    "        self.encoder = nn.Sequential(                                # input (N, 1, 28, 28)\n",
    "            nn.Conv2d(1, 16, kernel_size=3, stride=3, padding=1),    # (N,16,10,10)\n",
    "            nn.BatchNorm2d(16),\n",
    "            nn.ReLU(),\n",
    "            nn.MaxPool2d(2, stride=2),                               # (N,16,5,5)\n",
    "            nn.Conv2d(16, 8, kernel_size=3, stride=2, padding=1),    # (N,8,3,3)\n",
    "            nn.BatchNorm2d(8),\n",
    "            nn.ReLU(),\n",
    "            nn.MaxPool2d(2, stride=1)                                # (N,8,2,2)\n",
    "        )\n",
    "        self.decoder = nn.Sequential(\n",
    "            nn.ConvTranspose2d(8, 16, kernel_size=3, stride=2),      # (N,16,5,5)\n",
    "            nn.ReLU(),\n",
    "            nn.ConvTranspose2d(16, 8, 5, stride=3, padding=1),       # (N,8,15,15)\n",
    "            nn.ReLU(),\n",
    "            nn.ConvTranspose2d(8, 1, 2, stride=2, padding=1),        # (N,1,28,28)\n",
    "            nn.Tanh()                                                # 缩放数据到 (-1,1) \n",
    "        )        \n",
    "        self._init_weights()                                         # 初始化权重和偏置\n",
    "        \n",
    "    def forward(self, x):\n",
    "        encode = self.encoder(x)\n",
    "        decode = self.decoder(encode)\n",
    "        return encode, decode\n",
    "    \n",
    "    def _init_weights(self):\n",
    "        for m in self.modules():\n",
    "            if isinstance(m, nn.Conv2d):\n",
    "                nn.init.kaiming_normal_(m.weight.data)\n",
    "                nn.init.zeros_(m.bias.data)\n",
    "            elif isinstance(m, nn.BatchNorm2d):\n",
    "                nn.init.ones_(m.weight.data)\n",
    "                nn.init.zeros_(m.bias.data)"
   ]
  },
  {
   "cell_type": "code",
   "execution_count": 12,
   "metadata": {},
   "outputs": [],
   "source": [
    "cnn_autoencoder = AutoEncoderCNN().to(device)\n",
    "criterion = nn.MSELoss()    # L2损失\n",
    "optimizer = optim.Adam(cnn_autoencoder.parameters(), lr=1e-3, weight_decay=1e-5)"
   ]
  },
  {
   "cell_type": "code",
   "execution_count": 13,
   "metadata": {
    "scrolled": false
   },
   "outputs": [
    {
     "name": "stdout",
     "output_type": "stream",
     "text": [
      "------------Epoch:0-------------\n",
      "Iter:0     loss:0.8545\n",
      "Iter:468   loss:0.2585\n",
      "------------Epoch:1-------------\n",
      "Iter:0     loss:0.2531\n",
      "Iter:468   loss:0.1529\n",
      "------------Epoch:2-------------\n",
      "Iter:0     loss:0.1499\n",
      "Iter:468   loss:0.1295\n",
      "------------Epoch:3-------------\n",
      "Iter:0     loss:0.1215\n",
      "Iter:468   loss:0.1269\n",
      "------------Epoch:4-------------\n",
      "Iter:0     loss:0.1259\n",
      "Iter:468   loss:0.1066\n",
      "------------Epoch:5-------------\n",
      "Iter:0     loss:0.1224\n",
      "Iter:468   loss:0.1149\n",
      "------------Epoch:6-------------\n",
      "Iter:0     loss:0.1081\n",
      "Iter:468   loss:0.1118\n",
      "------------Epoch:7-------------\n",
      "Iter:0     loss:0.1089\n",
      "Iter:468   loss:0.1084\n",
      "------------Epoch:8-------------\n",
      "Iter:0     loss:0.1141\n",
      "Iter:468   loss:0.1071\n",
      "------------Epoch:9-------------\n",
      "Iter:0     loss:0.1054\n",
      "Iter:468   loss:0.1073\n",
      "------------Epoch:10-------------\n",
      "Iter:0     loss:0.1002\n",
      "Iter:468   loss:0.1021\n",
      "------------Epoch:11-------------\n",
      "Iter:0     loss:0.1038\n",
      "Iter:468   loss:0.1040\n",
      "------------Epoch:12-------------\n",
      "Iter:0     loss:0.0956\n",
      "Iter:468   loss:0.1066\n",
      "------------Epoch:13-------------\n",
      "Iter:0     loss:0.0944\n",
      "Iter:468   loss:0.0923\n",
      "------------Epoch:14-------------\n",
      "Iter:0     loss:0.0960\n",
      "Iter:468   loss:0.0962\n",
      "------------Epoch:15-------------\n",
      "Iter:0     loss:0.0967\n",
      "Iter:468   loss:0.0935\n",
      "------------Epoch:16-------------\n",
      "Iter:0     loss:0.0952\n",
      "Iter:468   loss:0.0867\n",
      "------------Epoch:17-------------\n",
      "Iter:0     loss:0.0946\n",
      "Iter:468   loss:0.0900\n",
      "------------Epoch:18-------------\n",
      "Iter:0     loss:0.0916\n",
      "Iter:468   loss:0.0942\n",
      "------------Epoch:19-------------\n",
      "Iter:0     loss:0.0865\n",
      "Iter:468   loss:0.0921\n",
      "------------Epoch:20-------------\n",
      "Iter:0     loss:0.0977\n",
      "Iter:468   loss:0.0866\n",
      "------------Epoch:21-------------\n",
      "Iter:0     loss:0.0915\n",
      "Iter:468   loss:0.0910\n",
      "------------Epoch:22-------------\n",
      "Iter:0     loss:0.0835\n",
      "Iter:468   loss:0.0898\n",
      "------------Epoch:23-------------\n",
      "Iter:0     loss:0.0891\n",
      "Iter:468   loss:0.0855\n",
      "------------Epoch:24-------------\n",
      "Iter:0     loss:0.0929\n",
      "Iter:468   loss:0.0874\n",
      "------------Epoch:25-------------\n",
      "Iter:0     loss:0.0872\n",
      "Iter:468   loss:0.0956\n",
      "------------Epoch:26-------------\n",
      "Iter:0     loss:0.0890\n",
      "Iter:468   loss:0.0858\n",
      "------------Epoch:27-------------\n",
      "Iter:0     loss:0.0841\n",
      "Iter:468   loss:0.0870\n",
      "------------Epoch:28-------------\n",
      "Iter:0     loss:0.0877\n",
      "Iter:468   loss:0.0889\n",
      "------------Epoch:29-------------\n",
      "Iter:0     loss:0.0850\n",
      "Iter:468   loss:0.0958\n",
      "------------Epoch:30-------------\n",
      "Iter:0     loss:0.0857\n",
      "Iter:468   loss:0.0891\n",
      "------------Epoch:31-------------\n",
      "Iter:0     loss:0.0865\n",
      "Iter:468   loss:0.0868\n",
      "------------Epoch:32-------------\n",
      "Iter:0     loss:0.0828\n",
      "Iter:468   loss:0.0894\n",
      "------------Epoch:33-------------\n",
      "Iter:0     loss:0.0934\n",
      "Iter:468   loss:0.0859\n",
      "------------Epoch:34-------------\n",
      "Iter:0     loss:0.0837\n",
      "Iter:468   loss:0.0928\n",
      "------------Epoch:35-------------\n",
      "Iter:0     loss:0.0857\n",
      "Iter:468   loss:0.0843\n",
      "------------Epoch:36-------------\n",
      "Iter:0     loss:0.0881\n",
      "Iter:468   loss:0.0829\n",
      "------------Epoch:37-------------\n",
      "Iter:0     loss:0.0882\n",
      "Iter:468   loss:0.0783\n",
      "------------Epoch:38-------------\n",
      "Iter:0     loss:0.0890\n",
      "Iter:468   loss:0.0884\n",
      "------------Epoch:39-------------\n",
      "Iter:0     loss:0.0858\n",
      "Iter:468   loss:0.0886\n",
      "Wall time: 3min 49s\n"
     ]
    }
   ],
   "source": [
    "%%time\n",
    "# 开始训练模型\n",
    "num_epochs = 40\n",
    "pltX, pltY = [], []\n",
    "epoch_end = len(train_loader) - 1\n",
    "for epoch in range(num_epochs):\n",
    "    print('------------Epoch:%d-------------' % epoch)\n",
    "    for iteration, data in enumerate(train_loader):\n",
    "        x, _ = data                               # 读入图像数据，只是用x就行\n",
    "        x = x.to(device)                          # 转换数据类型\n",
    "#         x = x.type(torch.cuda.FloatTensor)\n",
    "\n",
    "        _, out = cnn_autoencoder(x)               # (N,1,28, 28)\n",
    "        loss = criterion(out, x)               # 计算L2损失\n",
    "#         print(loss)\n",
    "        print_loss = loss.data.item()             # tensor转换为一个数\n",
    "        \n",
    "        # 优化模型\n",
    "        optimizer.zero_grad()                     # 梯度归零\n",
    "        loss.backward()                           # 反向传播\n",
    "        optimizer.step()                          # 更新参数\n",
    "        \n",
    "        if iteration % 500 == 0 or iteration == epoch_end:\n",
    "#             pltX.append(epoch)\n",
    "            pltY.append(print_loss)\n",
    "            print('Iter:{:<5} loss:{:.4f}'.format(iteration, loss.data))\n",
    "save_image(out, './image/autoencoder_sample.png')"
   ]
  },
  {
   "cell_type": "code",
   "execution_count": 14,
   "metadata": {},
   "outputs": [
    {
     "data": {
      "image/png": "[encoded data removed]",
      "text/plain": [
       "<matplotlib.figure.Figure at 0x173a89a93c8>"
      ]
     },
     "metadata": {},
     "output_type": "display_data"
    },
    {
     "data": {
      "image/png": "[encoded data removed]",
      "text/plain": [
       "<matplotlib.figure.Figure at 0x173a1324320>"
      ]
     },
     "metadata": {},
     "output_type": "display_data"
    }
   ],
   "source": [
    "# 绘制loss曲线\n",
    "import imageio        # 读取图像\n",
    "plt.title('loss function output curve')\n",
    "plt.plot(pltY)    # 每500个迭代记录一次loss\n",
    "plt.show()\n",
    "img = imageio.imread('./image/autoencoder_sample.png')       # (H,W,C)\n",
    "plt.title('sample')\n",
    "plt.axis('off')\n",
    "plt.imshow(img)\n",
    "plt.show()"
   ]
  },
  {
   "cell_type": "code",
   "execution_count": 15,
   "metadata": {},
   "outputs": [
    {
     "data": {
      "image/png": "[encoded data removed]",
      "text/plain": [
       "<matplotlib.figure.Figure at 0x173ae480400>"
      ]
     },
     "metadata": {},
     "output_type": "display_data"
    }
   ],
   "source": [
    "# 测试模型性能\n",
    "cnn_autoencoder.eval()                              # 模型进入测试模式\n",
    "test_x, _ = next(test_loader.__iter__())        # torch.Size([64, 1, 28, 28])\n",
    "# print(test_x.shape)\n",
    "test_x = test_x.to(device)\n",
    "with torch.no_grad():\n",
    "    _, out = cnn_autoencoder(test_x)\n",
    "#     print(out.shape)\n",
    "scale = lambda x:(x-x.min())/(x.max()-x.min())   # 将范围归一化到[0,1]\n",
    "test_x, out = map(scale, [test_x, out])          # 将数值范围缩放到[0,1]便于显示\n",
    "show_number = 5\n",
    "for i in range(show_number):\n",
    "\n",
    "    # 绘制测试的原图\n",
    "    plt.subplot(2, show_number, i+1)\n",
    "#     plt.title('original')\n",
    "    test_x_img = test_x[i,0]                     # (28,28)\n",
    "    plt.axis('off')\n",
    "    plt.imshow(test_x_img, cmap='gray')\n",
    "    \n",
    "    # 绘制生成的原图\n",
    "    plt.subplot(2, show_number, show_number+i+1)\n",
    "#     plt.title('generate')\n",
    "    out_x_img = out[i,0]\n",
    "    plt.axis('off')\n",
    "    plt.imshow(out_x_img, cmap='gray')"
   ]
  },
  {
   "cell_type": "markdown",
   "metadata": {},
   "source": [
    "总结\n",
    "1. 每个样本的损失为 $\\ell(x, y) = L = \\{l_1,\\dots,l_N\\}^\\top, \\quad\n",
    "    l_n = \\left( x_n - y_n \\right)^2$，一般**MSE损失**是将各批次的损失取平均即    \n",
    "$$\\ell = \\frac{1}{N}\\sum_{i=1}^N(x_i - y_i)^2$$    \n",
    "使用`nn.MSELoss()`可以实现上述公式(默认)\n",
    "\n",
    "2. **L2损失**公式：\n",
    "$$\\ell =\\|x-y\\|^2 = \\sum_{i=1}^N(x_i - y_i)^2$$\n",
    "使用`nn.MSELoss(reduction='sum')`表示没有除以N的操作，直接将该批次中各数据的损失$(x_i - y_i)^2$累加，实际中一般会**除以2**，在计算梯度的时候可以使系数变为1，参考[tensorflow l2_loss](https://www.tensorflow.org/api_docs/python/tf/nn/l2_loss)\n",
    "3. 损失函数输出的标量值大小与回传的梯度大小有关，所以最后的损失与学习率乘积的结果回传后可以有效的更新权重，在SGD中损失函数大小可能影响比较大，但Adam算法中有归一化梯度的过程，所以损失值的大小对算法影响较小"
   ]
  }
 ],
 "metadata": {
  "kernelspec": {
   "display_name": "Python 3",
   "language": "python",
   "name": "python3"
  },
  "language_info": {
   "codemirror_mode": {
    "name": "ipython",
    "version": 3
   },
   "file_extension": ".py",
   "mimetype": "text/x-python",
   "name": "python",
   "nbconvert_exporter": "python",
   "pygments_lexer": "ipython3",
   "version": "3.6.4"
  }
 },
 "nbformat": 4,
 "nbformat_minor": 2
}
