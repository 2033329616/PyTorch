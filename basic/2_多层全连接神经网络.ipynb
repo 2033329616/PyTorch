{
 "cells": [
  {
   "cell_type": "markdown",
   "metadata": {},
   "source": [
    "# 多层全连接神经网络"
   ]
  },
  {
   "cell_type": "markdown",
   "metadata": {},
   "source": [
    "## 1 线性模型"
   ]
  },
  {
   "cell_type": "markdown",
   "metadata": {},
   "source": [
    "### 1.1 一维线性回归"
   ]
  },
  {
   "cell_type": "code",
   "execution_count": 1,
   "metadata": {},
   "outputs": [],
   "source": [
    "import torch\n",
    "import numpy as np\n",
    "from torch import nn, optim\n",
    "from torch.autograd import Variable\n",
    "import matplotlib.pyplot as plt"
   ]
  },
  {
   "cell_type": "code",
   "execution_count": 2,
   "metadata": {},
   "outputs": [
    {
     "data": {
      "image/png": "[encoded data removed]",
      "text/plain": [
       "<matplotlib.figure.Figure at 0x298b2db40f0>"
      ]
     },
     "metadata": {},
     "output_type": "display_data"
    }
   ],
   "source": [
    "# 1.创建数据\n",
    "x_train = np.array([3.3, 4.4, 5.5, 6.71, 6.93, 4.168, 9.779, 6.182, 7.59,\\\n",
    "                    2.167, 7.042, 10.791, 5.313, 7.997, 3.1], dtype=np.float32)\n",
    "y_train = np.array([1.7, 2.76, 2.09, 3.19, 1.694, 1.573, 3.366, 2.596, 2.53, 1.221,\\\n",
    "                   2.827, 3.465, 1.65, 2.904, 1.3], dtype=np.float32)\n",
    "x_train = np.reshape(x_train, [-1, 1])  # 转换为列向量\n",
    "y_train = np.reshape(y_train, [-1, 1])\n",
    "plt.plot(x_train, y_train, '.')\n",
    "plt.title('x-y raw data')\n",
    "plt.xlabel('x')\n",
    "plt.ylabel('y')\n",
    "plt.show()"
   ]
  },
  {
   "cell_type": "code",
   "execution_count": 3,
   "metadata": {},
   "outputs": [
    {
     "data": {
      "text/plain": [
       "torch.Size([15, 1])"
      ]
     },
     "execution_count": 3,
     "metadata": {},
     "output_type": "execute_result"
    }
   ],
   "source": [
    "# 将numpy的数据转换为torch的tensor\n",
    "x_train = torch.from_numpy(x_train)\n",
    "y_train = torch.from_numpy(y_train)\n",
    "x_train.shape"
   ]
  },
  {
   "cell_type": "code",
   "execution_count": 4,
   "metadata": {},
   "outputs": [],
   "source": [
    "# 2.构建一维线性回归模型，即 y = w*x + b\n",
    "class LinearRegression(nn.Module):\n",
    "    def __init__(self):\n",
    "        super().__init__()              # python3中继承类的初始化方法\n",
    "        self.linear = nn.Linear(1, 1)   # 定义一维的输入和输出\n",
    "    def forward(self, x):               # 模型的前向传播\n",
    "        output = self.linear(x)         # 计算output=w*x+b\n",
    "        return output"
   ]
  },
  {
   "cell_type": "code",
   "execution_count": 5,
   "metadata": {},
   "outputs": [
    {
     "name": "stdout",
     "output_type": "stream",
     "text": [
      "1.一维线性回归模型:\n",
      " LinearRegression(\n",
      "  (linear): Linear(in_features=1, out_features=1, bias=True)\n",
      ")\n"
     ]
    }
   ],
   "source": [
    "# 3.实例化一个模型，并定义损失函数和优化函数\n",
    "# if torch.cuda.is_available():\n",
    "#     model = LinearRegression().cuda()   # 将模型放到GPU上执行\n",
    "# else:\n",
    "#     model = LinearRegression()\n",
    "model = LinearRegression().cuda() if torch.cuda.is_available() else LinearRegression()\n",
    "print('1.一维线性回归模型:\\n',model)\n",
    "criterion = nn.MSELoss()                             # 使用均分误差损失\n",
    "optimizer = optim.SGD(model.parameters(), lr=1e-3)   # 使用SGD优化方法"
   ]
  },
  {
   "cell_type": "code",
   "execution_count": 6,
   "metadata": {},
   "outputs": [
    {
     "name": "stdout",
     "output_type": "stream",
     "text": [
      "Epoch[20/300], loss: 0.651944\n",
      "Epoch[40/300], loss: 0.337481\n",
      "Epoch[60/300], loss: 0.327421\n",
      "Epoch[80/300], loss: 0.325576\n",
      "Epoch[100/300], loss: 0.323968\n",
      "Epoch[120/300], loss: 0.322383\n",
      "Epoch[140/300], loss: 0.320815\n",
      "Epoch[160/300], loss: 0.319262\n",
      "Epoch[180/300], loss: 0.317725\n",
      "Epoch[200/300], loss: 0.316204\n",
      "Epoch[220/300], loss: 0.314699\n",
      "Epoch[240/300], loss: 0.313208\n",
      "Epoch[260/300], loss: 0.311734\n",
      "Epoch[280/300], loss: 0.310274\n",
      "Epoch[300/300], loss: 0.308829\n"
     ]
    },
    {
     "name": "stderr",
     "output_type": "stream",
     "text": [
      "D:\\ProgramData\\Anaconda3\\lib\\site-packages\\ipykernel_launcher.py:15: UserWarning: invalid index of a 0-dim tensor. This will be an error in PyTorch 0.5. Use tensor.item() to convert a 0-dim tensor to a Python number\n",
      "  from ipykernel import kernelapp as app\n"
     ]
    }
   ],
   "source": [
    "# 4.开始训练模型\n",
    "num_epochs = 300\n",
    "# 先将训练数据变为Variable\n",
    "inputs, target = (Variable(x_train).cuda(), Variable(y_train).cuda()) \\\n",
    "                if torch.cuda.is_available() \\\n",
    "                else (Variable(x_train), Variable(y_train))\n",
    "for epoch in range(num_epochs):\n",
    "    # forward\n",
    "    out = model(inputs)                # 先进行前向传播\n",
    "    loss = criterion(out, target)      # 计算损失函数\n",
    "    # backward\n",
    "    optimizer.zero_grad()              # 每次反向传播先归零梯度\n",
    "    loss.backward()                    # 反向传播\n",
    "    optimizer.step()                   # 更新参数\n",
    "    # validate\n",
    "    if (epoch + 1) % 20 == 0:\n",
    "        print('Epoch[{}/{}], loss: {:.6f}'.format(epoch+1, num_epochs, loss.data[0]))"
   ]
  },
  {
   "cell_type": "code",
   "execution_count": 7,
   "metadata": {},
   "outputs": [
    {
     "data": {
      "image/png": "[encoded data removed]",
      "text/plain": [
       "<matplotlib.figure.Figure at 0x298b2dbd898>"
      ]
     },
     "metadata": {},
     "output_type": "display_data"
    }
   ],
   "source": [
    "# 5.评估模型性能\n",
    "# %pylab    \n",
    "model.eval()                     # 模型变成测试模式\n",
    "model.cpu()\n",
    "predict = model(inputs)          # 对输入数据的输出进行预测\n",
    "predict = predict.data.numpy()   # 转换为numpy数据才可以画图\n",
    "plt.plot(x_train.numpy(), y_train.numpy(), 'ro', label='Original Data')\n",
    "# 是一条直线，所以顺序不会影响绘图\n",
    "plt.plot(x_train.numpy(), predict, label='Fitting Line')  \n",
    "plt.legend(['Original Data', 'Fitting Line'])\n",
    "plt.show()"
   ]
  },
  {
   "cell_type": "markdown",
   "metadata": {},
   "source": [
    "小结:\n",
    "1. 创建数据或数据的读取及预处理\n",
    "2. 构建网络模型\n",
    "3. 实例化模型并定义损失函数及优化方法\n",
    "4. 读入数据训练网络，同时输出准确率的验证结果\n",
    "5. 测试模型的性能并可视化"
   ]
  },
  {
   "cell_type": "markdown",
   "metadata": {},
   "source": [
    "### 1.2 多项式回归\n",
    "每一维特征属性的次数不唯一"
   ]
  },
  {
   "cell_type": "code",
   "execution_count": 8,
   "metadata": {},
   "outputs": [
    {
     "name": "stdout",
     "output_type": "stream",
     "text": [
      "1.拼接后的矩阵:\n",
      " tensor([[   1.,    1.,    1.],\n",
      "        [   2.,    4.,    8.],\n",
      "        [   3.,    9.,   27.],\n",
      "        [   4.,   16.,   64.],\n",
      "        [   5.,   25.,  125.],\n",
      "        [   6.,   36.,  216.],\n",
      "        [   7.,   49.,  343.]])\n",
      "2.满足多项式的输出:\n",
      " tensor([[   6.8000],\n",
      "        [  33.1000],\n",
      "        [  94.2000],\n",
      "        [ 204.5000],\n",
      "        [ 378.4000],\n",
      "        [ 630.3000],\n",
      "        [ 974.6000]])\n"
     ]
    }
   ],
   "source": [
    "# 1.数据的创建和预处理\n",
    "def make_features(x):\n",
    "    \"\"\"使数据X处理为多项式矩阵[x, x^2, x^3]\"\"\"\n",
    "    x =x.unsqueeze(1)            # 参数1变为列向量，参数0变为行向量\n",
    "    # 拼接的是tensor组成的列表，1表示按列拼接，0表示按行拼接 (0行1列)\n",
    "    return torch.cat([x**i for i in range(1,4)], 1)   # 按列拼接为矩阵\n",
    "# 使数据满足y=0.9+0.5*x+3*x^2+2.4*x^3关系，向量化为y = X*W + b\n",
    "w_target = torch.Tensor([0.5, 3, 2.4]).unsqueeze(1)   # 权重变为列向量\n",
    "b_target = torch.Tensor([0.9])\n",
    "def func(x):    # 构建函数关系式\n",
    "    return x.mm(w_target) + b_target    # y = X*W + b，得到列向量\n",
    "\n",
    "test = torch.Tensor([1,2,3,4,5,6,7])\n",
    "test_out = make_features(test)\n",
    "print('1.拼接后的矩阵:\\n', test_out)\n",
    "out = func(test_out)\n",
    "print('2.满足多项式的输出:\\n', out)"
   ]
  },
  {
   "cell_type": "code",
   "execution_count": 9,
   "metadata": {},
   "outputs": [],
   "source": [
    "# 上述函数合并为一个process_data\n",
    "def process_data(input_x):           # 预处理数据\n",
    "    input_x = input_x.unsqueeze(1)   # 得到列向量\n",
    "    concat_x = torch.cat([input_x**i for i in range(1,4)], 1)  # 按列拼接为矩阵\n",
    "    w_target = torch.Tensor([0.5, 3, 2.4]).unsqueeze(1)        # 权重变为列向量\n",
    "    b_target = torch.Tensor([0.9])\n",
    "    output_y = concat_x.mm(w_target) + b_target                # 使数据符合多项式\n",
    "    return concat_x, output_y\n",
    "# test = torch.Tensor([1,2,3,4,5,6,7])\n",
    "# x, y = process_data(test)\n",
    "def get_batch(batch_size=32):      # 返回batch_size的(x,y)数据对用于训练\n",
    "    random_data = torch.randn(batch_size)            # 随机产生高斯分布的数据\n",
    "    x_train, y_train = process_data(random_data)     # 产生符合要求的数据\n",
    "    inputs, target = (Variable(x_train).cuda(), Variable(y_train).cuda()) \\\n",
    "                if torch.cuda.is_available() \\\n",
    "                else (Variable(x_train), Variable(y_train))\n",
    "    return inputs, target"
   ]
  },
  {
   "cell_type": "code",
   "execution_count": 10,
   "metadata": {},
   "outputs": [],
   "source": [
    "# 2.构建模型并定义损失函数及优化方法\n",
    "# 定义模型\n",
    "class poly_model(nn.Module):\n",
    "    def __init__(self):\n",
    "        super().__init__()\n",
    "        self.poly = nn.Linear(3,1)   # y = X*W + b, x为3维，y为1维\n",
    "    def forward(self, x):\n",
    "        return self.poly(x)\n",
    "model = poly_model().cuda() if torch.cuda.is_available() else poly_model()\n",
    "# 定义损失函数与优化方法\n",
    "criterion = nn.MSELoss()\n",
    "optimizer = optim.SGD(model.parameters(), lr=1e-3)"
   ]
  },
  {
   "cell_type": "code",
   "execution_count": 11,
   "metadata": {},
   "outputs": [
    {
     "name": "stdout",
     "output_type": "stream",
     "text": [
      "Epoch[101], loss: 6.727279\n",
      "Epoch[201], loss: 3.678730\n",
      "Epoch[301], loss: 0.678043\n",
      "Epoch[401], loss: 0.451646\n",
      "Epoch[501], loss: 0.125422\n"
     ]
    },
    {
     "name": "stderr",
     "output_type": "stream",
     "text": [
      "D:\\ProgramData\\Anaconda3\\lib\\site-packages\\ipykernel_launcher.py:7: UserWarning: invalid index of a 0-dim tensor. This will be an error in PyTorch 0.5. Use tensor.item() to convert a 0-dim tensor to a Python number\n",
      "  import sys\n"
     ]
    },
    {
     "name": "stdout",
     "output_type": "stream",
     "text": [
      "Epoch[601], loss: 0.069808\n",
      "Epoch[701], loss: 0.075340\n",
      "Epoch[801], loss: 0.045415\n",
      "Epoch[901], loss: 0.053066\n",
      "Epoch[1001], loss: 0.058583\n",
      "Epoch[1101], loss: 0.033587\n",
      "Epoch[1201], loss: 0.026736\n",
      "Epoch[1301], loss: 0.024441\n",
      "Epoch[1401], loss: 0.022915\n",
      "Epoch[1501], loss: 0.015074\n",
      "Epoch[1601], loss: 0.012988\n",
      "Epoch[1701], loss: 0.010690\n",
      "Epoch[1801], loss: 0.008125\n",
      "Epoch[1901], loss: 0.012129\n",
      "Epoch[2001], loss: 0.004535\n",
      "Epoch[2101], loss: 0.006193\n",
      "Epoch[2201], loss: 0.005225\n",
      "Epoch[2301], loss: 0.004225\n",
      "Epoch[2401], loss: 0.003014\n",
      "Epoch[2501], loss: 0.003235\n",
      "Epoch[2601], loss: 0.002025\n"
     ]
    }
   ],
   "source": [
    "# 3.训练模型\n",
    "epoch = 0\n",
    "while True:\n",
    "    batch_x, batch_y = get_batch()       # 获取数据\n",
    "    output = model(batch_x)              # 前向传播\n",
    "    loss = criterion(output, batch_y)    # 计算损失函数\n",
    "    print_loss = loss.data[0]\n",
    "    optimizer.zero_grad()                # 梯度归零\n",
    "    loss.backward()                      # 误差反向传播\n",
    "    optimizer.step()                     # 更新参数\n",
    "    epoch += 1        \n",
    "    if print_loss < 1e-3:\n",
    "        break\n",
    "    if epoch % 100 == 0:\n",
    "        print('Epoch[{}], loss: {:.6f}'.format(epoch+1, print_loss))"
   ]
  },
  {
   "cell_type": "code",
   "execution_count": 12,
   "metadata": {},
   "outputs": [
    {
     "data": {
      "image/png": "[encoded data removed]",
      "text/plain": [
       "<matplotlib.figure.Figure at 0x298b2f265f8>"
      ]
     },
     "metadata": {},
     "output_type": "display_data"
    }
   ],
   "source": [
    "# 4.评估模型性能\n",
    "# %pylab    \n",
    "model.eval()                     # 模型变成测试模式\n",
    "model.cpu()\n",
    "test_x, test_y = get_batch(64)\n",
    "predict = model(test_x)          # 对输入数据的输出进行预测\n",
    "predict = predict.data.numpy()   # 转换为numpy数据才可以画图\n",
    "test_x = test_x[:,0].unsqueeze(1)\n",
    "plt.plot(test_x.numpy(), test_y.numpy(), 'ro', label='Original Data')\n",
    "# 由于数据大小顺序是乱的，故无法画出曲线？？？\n",
    "# plt.plot(test_x.numpy(), predict, 'b.',label='Fitting Data')\n",
    "plt_data = np.concatenate((test_x.numpy(), predict), axis=1)\n",
    "# 将数据按第一行排序后绘制直线\n",
    "plt_data = plt_data[plt_data[:,0].argsort()]\n",
    "plt.plot(plt_data[:,0], plt_data[:,1], 'b-', label='Fitting Line')\n",
    "plt.legend()\n",
    "plt.show()"
   ]
  },
  {
   "cell_type": "markdown",
   "metadata": {},
   "source": [
    "## 2 分类问题"
   ]
  },
  {
   "cell_type": "markdown",
   "metadata": {},
   "source": [
    "### 2.1 Logistic回归\n",
    "Logistic回归中，输出y=1的对数概率是x的线性函数：\n",
    "\n",
    "1. 拟合决策边界(线性或多项式都行)\n",
    "2. 建立决策边界和分类概率的关系，得到分类概率"
   ]
  },
  {
   "cell_type": "code",
   "execution_count": 13,
   "metadata": {},
   "outputs": [
    {
     "name": "stdout",
     "output_type": "stream",
     "text": [
      "Populating the interactive namespace from numpy and matplotlib\n"
     ]
    },
    {
     "name": "stderr",
     "output_type": "stream",
     "text": [
      "D:\\ProgramData\\Anaconda3\\lib\\site-packages\\IPython\\core\\magics\\pylab.py:160: UserWarning: pylab import has clobbered these variables: ['test']\n",
      "`%matplotlib` prevents importing * from pylab and numpy\n",
      "  \"\\n`%matplotlib` prevents importing * from pylab and numpy\"\n"
     ]
    }
   ],
   "source": [
    "import torch\n",
    "import numpy as np\n",
    "from torch import nn, optim\n",
    "%pylab inline\n",
    "import matplotlib.pyplot as plt\n",
    "from torch.autograd import Variable"
   ]
  },
  {
   "cell_type": "code",
   "execution_count": 14,
   "metadata": {},
   "outputs": [
    {
     "data": {
      "image/png": "[encoded data removed]",
      "text/plain": [
       "<matplotlib.figure.Figure at 0x298b2f54978>"
      ]
     },
     "metadata": {},
     "output_type": "display_data"
    }
   ],
   "source": [
    "# 1.读取数据\n",
    "def get_data(file_name):\n",
    "    with open(file_name) as file:\n",
    "        data_list = file.read().split('\\n')     # 使用readlines会包含回车符\n",
    "        # 使用map函数将子列表的每个元素转换为float\n",
    "        data_list = [list(map(float, row.split(','))) for row in data_list]\n",
    "        # 使用filter函数过滤数据，两类数据分开\n",
    "        label0 = np.array(list(filter(lambda x: x[-1]==0, data_list)))\n",
    "        label1 = np.array(list(filter(lambda x: x[-1]==1, data_list)))\n",
    "    x0, y0 = label0[:, 0], label0[:, 1]\n",
    "    x1, y1 = label1[:, 0], label1[:, 1]\n",
    "    plt.plot(x0, y0, 'ro', label='label_0')\n",
    "    plt.plot(x1, y1, 'bo', label='label_1')\n",
    "    plt.legend(loc='best')\n",
    "    plt.title('train data')\n",
    "    plt.show()\n",
    "    \n",
    "    x_train = np.concatenate((label0[:,:2], label1[:, :2]), axis=0)  # 按行拼接\n",
    "    y_train = np.array([0]*label0.shape[0] + [1]*label1.shape[0])    # 构建label\n",
    "    data_train = np.concatenate((x_train, y_train[:,np.newaxis]), axis=1)\n",
    "#     print(data_train)\n",
    "    return data_train        # 返回 numpy格式的训练数据\n",
    "mydata = get_data('data.txt')"
   ]
  },
  {
   "cell_type": "code",
   "execution_count": 15,
   "metadata": {},
   "outputs": [],
   "source": [
    "# 产生训练模型的batch数据\n",
    "import random\n",
    "def get_batch(data, batch_size=100):                     # 生成数据的迭代器\n",
    "    \"\"\"data:特征+标签的numpy数据\n",
    "       batch_size:批次的大小\n",
    "       返回批次训练数据的生成器\"\"\"\n",
    "    train_data = data\n",
    "    order = list(range(len(train_data)))\n",
    "    random.shuffle(order)               # shuffle作用于多维数组会出现重复的行！！！\n",
    "    train_data = train_data[order]\n",
    "    index = 0\n",
    "#     print(type(data))\n",
    "    while True:\n",
    "        if index + batch_size < len(train_data):\n",
    "            total_data = train_data[index: index+batch_size] # 按照行访问数据\n",
    "            index += batch_size\n",
    "        else:\n",
    "            total_data = train_data[index:] \n",
    "            index = 0 \n",
    "        yield total_data[:, :2], total_data[:, -1:]\n",
    "g = get_batch(mydata)"
   ]
  },
  {
   "cell_type": "code",
   "execution_count": 16,
   "metadata": {},
   "outputs": [
    {
     "name": "stdout",
     "output_type": "stream",
     "text": [
      "(100, 2)\n",
      "(100, 1)\n"
     ]
    }
   ],
   "source": [
    "test_x, test_y = next(g)\n",
    "# print(test_x)\n",
    "print(test_x.shape)\n",
    "print(test_y.shape)"
   ]
  },
  {
   "cell_type": "code",
   "execution_count": 17,
   "metadata": {},
   "outputs": [],
   "source": [
    "# 2.定义模型、损失函数及优化方法\n",
    "class LogisticRegression(nn.Module):\n",
    "    def __init__(self):\n",
    "        super().__init__()\n",
    "        self.linear = nn.Linear(2, 1)   # 模型两个特征，一个输出\n",
    "        self.sigm   = nn.Sigmoid()\n",
    "    def forward(self, x):\n",
    "        x = self.linear(x)\n",
    "        out = self.sigm(x)\n",
    "        return out\n",
    "logistic_model = LogisticRegression().cuda() if torch.cuda.is_available() \\\n",
    "                 else LogisticRegression()\n",
    "criterion = nn.BCELoss()\n",
    "optimizer = optim.SGD(logistic_model.parameters(), lr=1e-3, momentum=0.9)"
   ]
  },
  {
   "cell_type": "markdown",
   "metadata": {},
   "source": [
    "**BCELoss()**\n",
    "\n",
    "定义: $loss(o,t)=\\frac{1}{n}\\sum_i{(t_i \\cdot log(o_i)+(1-t_i) \\cdot log(1-o_i))}$"
   ]
  },
  {
   "cell_type": "code",
   "execution_count": 18,
   "metadata": {},
   "outputs": [
    {
     "name": "stderr",
     "output_type": "stream",
     "text": [
      "D:\\ProgramData\\Anaconda3\\lib\\site-packages\\ipykernel_launcher.py:11: UserWarning: invalid index of a 0-dim tensor. This will be an error in PyTorch 0.5. Use tensor.item() to convert a 0-dim tensor to a Python number\n",
      "  # This is added back by InteractiveShellApp.init_path()\n",
      "D:\\ProgramData\\Anaconda3\\lib\\site-packages\\ipykernel_launcher.py:16: UserWarning: invalid index of a 0-dim tensor. This will be an error in PyTorch 0.5. Use tensor.item() to convert a 0-dim tensor to a Python number\n",
      "  app.launch_new_instance()\n"
     ]
    },
    {
     "name": "stdout",
     "output_type": "stream",
     "text": [
      "----------\n",
      "epoch 10000\n",
      "loss is 16.5786\n",
      "acc is 0.4000\n",
      "----------\n",
      "epoch 20000\n",
      "loss is 16.5786\n",
      "acc is 0.4000\n",
      "----------\n",
      "epoch 30000\n",
      "loss is 16.5786\n",
      "acc is 0.4000\n",
      "----------\n",
      "epoch 40000\n",
      "loss is 16.5786\n",
      "acc is 0.4000\n",
      "----------\n",
      "epoch 50000\n",
      "loss is 16.5786\n",
      "acc is 0.4000\n"
     ]
    }
   ],
   "source": [
    "# 3.训练网络\n",
    "num_epochs = 50000\n",
    "gen = get_batch(mydata, batch_size=100)\n",
    "for epoch in range(num_epochs):\n",
    "    x, y = next(gen)\n",
    "    x, y = map(torch.Tensor, (x,y))    # 将x，y转换为张量\n",
    "    x_train, y_train = (Variable(x).cuda(), Variable(y).cuda()) \\\n",
    "                       if torch.cuda.is_available() \\\n",
    "                       else (Variable(x), Variable(y))  # 转换为Variable\n",
    "    # 前向传播\n",
    "    out = logistic_model(x_train)     # 计算输出\n",
    "    loss = criterion(out, y_train)    # 计算损失函数\n",
    "    print_loss = loss.data[0]         # 获取损失函数的值\n",
    "    mask = out.ge(0.5).float()        # 大于0.5的设置为1，否则设置为0\n",
    "    correct = (mask == y_train).sum()     # 统计预测正确的个数，这里得到整型tensor\n",
    "#     print(correct.dtype)\n",
    "    # 必须转换为numpy运算才行\n",
    "    acc = correct.data[0].numpy() / y_train.shape[0]   # 计算准确率size(0)\n",
    "#     print(acc)\n",
    "    # 反向传播\n",
    "    optimizer.zero_grad()\n",
    "    loss.backward()\n",
    "    optimizer.step()\n",
    "    # 输出验证的结果\n",
    "    if (epoch + 1) % 10000 == 0:\n",
    "        print('-'*10)\n",
    "        print('epoch {}'.format(epoch+1))\n",
    "        print('loss is {:.4f}'.format(print_loss))\n",
    "        print('acc is {:.4f}'.format(acc))"
   ]
  },
  {
   "cell_type": "code",
   "execution_count": 19,
   "metadata": {},
   "outputs": [
    {
     "data": {
      "image/png": "[encoded data removed]",
      "text/plain": [
       "<matplotlib.figure.Figure at 0x298b2f4ae10>"
      ]
     },
     "metadata": {},
     "output_type": "display_data"
    },
    {
     "data": {
      "text/plain": [
       "[<matplotlib.lines.Line2D at 0x298b2fa1080>]"
      ]
     },
     "execution_count": 19,
     "metadata": {},
     "output_type": "execute_result"
    },
    {
     "data": {
      "image/png": "[encoded data removed]",
      "text/plain": [
       "<matplotlib.figure.Figure at 0x298b2de9828>"
      ]
     },
     "metadata": {},
     "output_type": "display_data"
    }
   ],
   "source": [
    "# 4.绘制拟合曲线\n",
    "mydata = get_data('data.txt')\n",
    "w0, w1 = logistic_model.linear.weight[0]      # 模型得到的变量均为Variable类型\n",
    "w0, w1 = w0.data.numpy(), w1.data.numpy()\n",
    "b = logistic_model.linear.bias.data.numpy()\n",
    "plot_x = np.arange(30, 100, 0.1)\n",
    "plot_y = (-w0 * plot_x - b) / w1\n",
    "plt.plot(plot_x, plot_y)"
   ]
  },
  {
   "cell_type": "markdown",
   "metadata": {},
   "source": [
    "小结:\n",
    "- random.shuffle()处理一维的列表和numpy数组时只是打乱顺序，但在处理多维numpy数组时，该函数会将数组的行随机的重复，所以要格外注意\n",
    "- 在PyTorch中，在计算数值时最好转换到相同的格式，如都是numpy格式或tensor格式，防止出错\n",
    "- 在PyTorch中，注意IntTensor()数据运算的'/'符号被认为整除符号，转换为float型计算除法"
   ]
  },
  {
   "cell_type": "code",
   "execution_count": 20,
   "metadata": {},
   "outputs": [
    {
     "name": "stdout",
     "output_type": "stream",
     "text": [
      "1.原数据:\n",
      " [[ 1  3  2  0  5]\n",
      " [ 2  4  3  1  6]\n",
      " [ 0  2  1 -1  4]]\n",
      "2.按第3列排序:\n",
      " [[ 0  2  1 -1  4]\n",
      " [ 1  3  2  0  5]\n",
      " [ 2  4  3  1  6]]\n",
      "3.按第2行排序:\n",
      " [[ 0  1  2  3  5]\n",
      " [ 1  2  3  4  6]\n",
      " [-1  0  1  2  4]]\n"
     ]
    }
   ],
   "source": [
    "# numpy数组排序\n",
    "a = np.array([[1,3,2,0,5],[2, 4,3,1,6], [0, 2, 1, -1, 4]])\n",
    "data = np.array(a)\n",
    "print('1.原数据:\\n', data)\n",
    "print('2.按第3列排序:\\n', data[data[:,2].argsort()] )  # 按第3列排序\n",
    "print('3.按第2行排序:\\n', data[:,data[1].argsort()])   # 按第2行排列"
   ]
  },
  {
   "cell_type": "code",
   "execution_count": null,
   "metadata": {},
   "outputs": [],
   "source": []
  },
  {
   "cell_type": "code",
   "execution_count": null,
   "metadata": {},
   "outputs": [],
   "source": []
  },
  {
   "cell_type": "code",
   "execution_count": null,
   "metadata": {},
   "outputs": [],
   "source": []
  },
  {
   "cell_type": "code",
   "execution_count": null,
   "metadata": {},
   "outputs": [],
   "source": []
  }
 ],
 "metadata": {
  "kernelspec": {
   "display_name": "Python 3",
   "language": "python",
   "name": "python3"
  },
  "language_info": {
   "codemirror_mode": {
    "name": "ipython",
    "version": 3
   },
   "file_extension": ".py",
   "mimetype": "text/x-python",
   "name": "python",
   "nbconvert_exporter": "python",
   "pygments_lexer": "ipython3",
   "version": "3.6.4"
  }
 },
 "nbformat": 4,
 "nbformat_minor": 2
}
