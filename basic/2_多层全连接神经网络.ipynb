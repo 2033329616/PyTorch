{
 "cells": [
  {
   "cell_type": "markdown",
   "metadata": {},
   "source": [
    "# 多层全连接神经网络"
   ]
  },
  {
   "cell_type": "markdown",
   "metadata": {},
   "source": [
    "## 1 线性模型"
   ]
  },
  {
   "cell_type": "markdown",
   "metadata": {},
   "source": [
    "### 1.1 一维线性回归"
   ]
  },
  {
   "cell_type": "code",
   "execution_count": 1,
   "metadata": {},
   "outputs": [],
   "source": [
    "import torch\n",
    "import numpy as np\n",
    "from torch import nn, optim\n",
    "from torch.autograd import Variable\n",
    "import matplotlib.pyplot as plt"
   ]
  },
  {
   "cell_type": "code",
   "execution_count": 2,
   "metadata": {},
   "outputs": [
    {
     "data": {
      "image/png": "[encoded data removed]",
      "text/plain": [
       "<matplotlib.figure.Figure at 0x2728ba05128>"
      ]
     },
     "metadata": {},
     "output_type": "display_data"
    }
   ],
   "source": [
    "# 1.创建数据\n",
    "x_train = np.array([3.3, 4.4, 5.5, 6.71, 6.93, 4.168, 9.779, 6.182, 7.59,\\\n",
    "                    2.167, 7.042, 10.791, 5.313, 7.997, 3.1], dtype=np.float32)\n",
    "y_train = np.array([1.7, 2.76, 2.09, 3.19, 1.694, 1.573, 3.366, 2.596, 2.53, 1.221,\\\n",
    "                   2.827, 3.465, 1.65, 2.904, 1.3], dtype=np.float32)\n",
    "x_train = np.reshape(x_train, [-1, 1])  # 转换为列向量\n",
    "y_train = np.reshape(y_train, [-1, 1])\n",
    "plt.plot(x_train, y_train, '.')\n",
    "plt.title('x-y raw data')\n",
    "plt.xlabel('x')\n",
    "plt.ylabel('y')\n",
    "plt.show()"
   ]
  },
  {
   "cell_type": "code",
   "execution_count": 3,
   "metadata": {},
   "outputs": [
    {
     "data": {
      "text/plain": [
       "torch.Size([15, 1])"
      ]
     },
     "execution_count": 3,
     "metadata": {},
     "output_type": "execute_result"
    }
   ],
   "source": [
    "# 将numpy的数据转换为torch的tensor\n",
    "x_train = torch.from_numpy(x_train)\n",
    "y_train = torch.from_numpy(y_train)\n",
    "x_train.shape"
   ]
  },
  {
   "cell_type": "code",
   "execution_count": 4,
   "metadata": {},
   "outputs": [],
   "source": [
    "# 2.构建一维线性回归模型，即 y = w*x + b\n",
    "class LinearRegression(nn.Module):\n",
    "    def __init__(self):\n",
    "        super().__init__()              # python3中继承类的初始化方法\n",
    "        self.linear = nn.Linear(1, 1)   # 定义一维的输入和输出\n",
    "    def forward(self, x):               # 模型的前向传播\n",
    "        output = self.linear(x)         # 计算output=w*x+b\n",
    "        return output"
   ]
  },
  {
   "cell_type": "code",
   "execution_count": 5,
   "metadata": {},
   "outputs": [
    {
     "name": "stdout",
     "output_type": "stream",
     "text": [
      "1.一维线性回归模型:\n",
      " LinearRegression(\n",
      "  (linear): Linear(in_features=1, out_features=1, bias=True)\n",
      ")\n"
     ]
    }
   ],
   "source": [
    "# 3.实例化一个模型，并定义损失函数和优化函数\n",
    "# if torch.cuda.is_available():\n",
    "#     model = LinearRegression().cuda()   # 将模型放到GPU上执行\n",
    "# else:\n",
    "#     model = LinearRegression()\n",
    "model = LinearRegression().cuda() if torch.cuda.is_available() else LinearRegression()\n",
    "print('1.一维线性回归模型:\\n',model)\n",
    "criterion = nn.MSELoss()                             # 使用均分误差损失\n",
    "optimizer = optim.SGD(model.parameters(), lr=1e-3)   # 使用SGD优化方法"
   ]
  },
  {
   "cell_type": "code",
   "execution_count": 6,
   "metadata": {},
   "outputs": [
    {
     "name": "stdout",
     "output_type": "stream",
     "text": [
      "Epoch[20/300], loss: 0.593925\n",
      "Epoch[40/300], loss: 0.225431\n",
      "Epoch[60/300], loss: 0.215045\n",
      "Epoch[80/300], loss: 0.214309\n",
      "Epoch[100/300], loss: 0.213838\n",
      "Epoch[120/300], loss: 0.213379\n",
      "Epoch[140/300], loss: 0.212925\n",
      "Epoch[160/300], loss: 0.212475\n",
      "Epoch[180/300], loss: 0.212029\n",
      "Epoch[200/300], loss: 0.211589\n",
      "Epoch[220/300], loss: 0.211153\n",
      "Epoch[240/300], loss: 0.210721\n",
      "Epoch[260/300], loss: 0.210294\n",
      "Epoch[280/300], loss: 0.209871\n",
      "Epoch[300/300], loss: 0.209452\n"
     ]
    },
    {
     "name": "stderr",
     "output_type": "stream",
     "text": [
      "D:\\ProgramData\\Anaconda3\\lib\\site-packages\\ipykernel_launcher.py:15: UserWarning: invalid index of a 0-dim tensor. This will be an error in PyTorch 0.5. Use tensor.item() to convert a 0-dim tensor to a Python number\n",
      "  from ipykernel import kernelapp as app\n"
     ]
    }
   ],
   "source": [
    "# 4.开始训练模型\n",
    "num_epochs = 300\n",
    "# 先将训练数据变为Variable\n",
    "inputs, target = (Variable(x_train).cuda(), Variable(y_train).cuda()) \\\n",
    "                if torch.cuda.is_available() \\\n",
    "                else (Variable(x_train), Variable(y_train))\n",
    "for epoch in range(num_epochs):\n",
    "    # forward\n",
    "    out = model(inputs)                # 先进行前向传播\n",
    "    loss = criterion(out, target)      # 计算损失函数\n",
    "    # backward\n",
    "    optimizer.zero_grad()              # 每次反向传播先归零梯度\n",
    "    loss.backward()                    # 反向传播\n",
    "    optimizer.step()                   # 更新参数\n",
    "    # validate\n",
    "    if (epoch + 1) % 20 == 0:\n",
    "        print('Epoch[{}/{}], loss: {:.6f}'.format(epoch+1, num_epochs, loss.data[0]))"
   ]
  },
  {
   "cell_type": "code",
   "execution_count": 7,
   "metadata": {},
   "outputs": [
    {
     "data": {
      "image/png": "[encoded data removed]",
      "text/plain": [
       "<matplotlib.figure.Figure at 0x2728baaf710>"
      ]
     },
     "metadata": {},
     "output_type": "display_data"
    }
   ],
   "source": [
    "# 5.评估模型性能\n",
    "# %pylab    \n",
    "model.eval()                     # 模型变成测试模式\n",
    "model.cpu()\n",
    "predict = model(inputs)          # 对输入数据的输出进行预测\n",
    "predict = predict.data.numpy()   # 转换为numpy数据才可以画图\n",
    "plt.plot(x_train.numpy(), y_train.numpy(), 'ro', label='Original Data')\n",
    "plt.plot(x_train.numpy(), predict, label='Fitting Line')\n",
    "plt.legend(['Original Data', 'Fitting Line'])\n",
    "plt.show()"
   ]
  },
  {
   "cell_type": "markdown",
   "metadata": {},
   "source": [
    "小结:\n",
    "1. 创建数据或数据的读取及预处理\n",
    "2. 构建网络模型\n",
    "3. 实例化模型并定义损失函数及优化方法\n",
    "4. 读入数据训练网络，同时输出准确率的验证结果\n",
    "5. 测试模型的性能并可视化"
   ]
  },
  {
   "cell_type": "code",
   "execution_count": null,
   "metadata": {},
   "outputs": [],
   "source": []
  },
  {
   "cell_type": "code",
   "execution_count": null,
   "metadata": {},
   "outputs": [],
   "source": []
  }
 ],
 "metadata": {
  "kernelspec": {
   "display_name": "Python 3",
   "language": "python",
   "name": "python3"
  },
  "language_info": {
   "codemirror_mode": {
    "name": "ipython",
    "version": 3
   },
   "file_extension": ".py",
   "mimetype": "text/x-python",
   "name": "python",
   "nbconvert_exporter": "python",
   "pygments_lexer": "ipython3",
   "version": "3.6.4"
  }
 },
 "nbformat": 4,
 "nbformat_minor": 2
}
