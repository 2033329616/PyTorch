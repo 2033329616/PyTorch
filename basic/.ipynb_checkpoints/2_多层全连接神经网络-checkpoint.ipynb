{
 "cells": [
  {
   "cell_type": "markdown",
   "metadata": {},
   "source": [
    "# 多层全连接神经网络"
   ]
  },
  {
   "cell_type": "markdown",
   "metadata": {},
   "source": [
    "## 1 线性模型"
   ]
  },
  {
   "cell_type": "markdown",
   "metadata": {},
   "source": [
    "### 1.1 一维线性回归"
   ]
  },
  {
   "cell_type": "code",
   "execution_count": 1,
   "metadata": {},
   "outputs": [],
   "source": [
    "import torch\n",
    "import numpy as np\n",
    "from torch import nn, optim\n",
    "from torch.autograd import Variable\n",
    "import matplotlib.pyplot as plt"
   ]
  },
  {
   "cell_type": "code",
   "execution_count": 2,
   "metadata": {},
   "outputs": [
    {
     "data": {
      "image/png": "[encoded data removed]",
      "text/plain": [
       "<matplotlib.figure.Figure at 0x175eb0940b8>"
      ]
     },
     "metadata": {},
     "output_type": "display_data"
    }
   ],
   "source": [
    "# 1.创建数据\n",
    "x_train = np.array([3.3, 4.4, 5.5, 6.71, 6.93, 4.168, 9.779, 6.182, 7.59,\\\n",
    "                    2.167, 7.042, 10.791, 5.313, 7.997, 3.1], dtype=np.float32)\n",
    "y_train = np.array([1.7, 2.76, 2.09, 3.19, 1.694, 1.573, 3.366, 2.596, 2.53, 1.221,\\\n",
    "                   2.827, 3.465, 1.65, 2.904, 1.3], dtype=np.float32)\n",
    "x_train = np.reshape(x_train, [-1, 1])  # 转换为列向量\n",
    "y_train = np.reshape(y_train, [-1, 1])\n",
    "plt.plot(x_train, y_train, '.')\n",
    "plt.title('x-y raw data')\n",
    "plt.xlabel('x')\n",
    "plt.ylabel('y')\n",
    "plt.show()"
   ]
  },
  {
   "cell_type": "code",
   "execution_count": 3,
   "metadata": {},
   "outputs": [
    {
     "data": {
      "text/plain": [
       "torch.Size([15, 1])"
      ]
     },
     "execution_count": 3,
     "metadata": {},
     "output_type": "execute_result"
    }
   ],
   "source": [
    "# 将numpy的数据转换为torch的tensor\n",
    "x_train = torch.from_numpy(x_train)\n",
    "y_train = torch.from_numpy(y_train)\n",
    "x_train.shape"
   ]
  },
  {
   "cell_type": "code",
   "execution_count": 4,
   "metadata": {},
   "outputs": [],
   "source": [
    "# 2.构建一维线性回归模型，即 y = w*x + b\n",
    "class LinearRegression(nn.Module):\n",
    "    def __init__(self):\n",
    "        super().__init__()              # python3中继承类的初始化方法\n",
    "        self.linear = nn.Linear(1, 1)   # 定义一维的输入和输出\n",
    "    def forward(self, x):               # 模型的前向传播\n",
    "        output = self.linear(x)         # 计算output=w*x+b\n",
    "        return output"
   ]
  },
  {
   "cell_type": "code",
   "execution_count": 5,
   "metadata": {},
   "outputs": [
    {
     "name": "stdout",
     "output_type": "stream",
     "text": [
      "1.一维线性回归模型:\n",
      " LinearRegression(\n",
      "  (linear): Linear(in_features=1, out_features=1, bias=True)\n",
      ")\n"
     ]
    }
   ],
   "source": [
    "# 3.实例化一个模型，并定义损失函数和优化函数\n",
    "# if torch.cuda.is_available():\n",
    "#     model = LinearRegression().cuda()   # 将模型放到GPU上执行\n",
    "# else:\n",
    "#     model = LinearRegression()\n",
    "model = LinearRegression().cuda() if torch.cuda.is_available() else LinearRegression()\n",
    "print('1.一维线性回归模型:\\n',model)\n",
    "criterion = nn.MSELoss()                             # 使用均分误差损失\n",
    "optimizer = optim.SGD(model.parameters(), lr=1e-3)   # 使用SGD优化方法"
   ]
  },
  {
   "cell_type": "code",
   "execution_count": 6,
   "metadata": {},
   "outputs": [
    {
     "name": "stdout",
     "output_type": "stream",
     "text": [
      "Epoch[20/300], loss: 1.353648\n",
      "Epoch[40/300], loss: 0.420303\n",
      "Epoch[60/300], loss: 0.392920\n",
      "Epoch[80/300], loss: 0.389962\n",
      "Epoch[100/300], loss: 0.387685\n",
      "Epoch[120/300], loss: 0.385448\n",
      "Epoch[140/300], loss: 0.383235\n",
      "Epoch[160/300], loss: 0.381044\n",
      "Epoch[180/300], loss: 0.378876\n",
      "Epoch[200/300], loss: 0.376730\n",
      "Epoch[220/300], loss: 0.374606\n",
      "Epoch[240/300], loss: 0.372503\n",
      "Epoch[260/300], loss: 0.370422\n",
      "Epoch[280/300], loss: 0.368363\n",
      "Epoch[300/300], loss: 0.366324\n"
     ]
    },
    {
     "name": "stderr",
     "output_type": "stream",
     "text": [
      "D:\\ProgramData\\Anaconda3\\lib\\site-packages\\ipykernel_launcher.py:15: UserWarning: invalid index of a 0-dim tensor. This will be an error in PyTorch 0.5. Use tensor.item() to convert a 0-dim tensor to a Python number\n",
      "  from ipykernel import kernelapp as app\n"
     ]
    }
   ],
   "source": [
    "# 4.开始训练模型\n",
    "num_epochs = 300\n",
    "# 先将训练数据变为Variable\n",
    "inputs, target = (Variable(x_train).cuda(), Variable(y_train).cuda()) \\\n",
    "                if torch.cuda.is_available() \\\n",
    "                else (Variable(x_train), Variable(y_train))\n",
    "for epoch in range(num_epochs):\n",
    "    # forward\n",
    "    out = model(inputs)                # 先进行前向传播\n",
    "    loss = criterion(out, target)      # 计算损失函数\n",
    "    # backward\n",
    "    optimizer.zero_grad()              # 每次反向传播先归零梯度\n",
    "    loss.backward()                    # 反向传播\n",
    "    optimizer.step()                   # 更新参数\n",
    "    # validate\n",
    "    if (epoch + 1) % 20 == 0:\n",
    "        print('Epoch[{}/{}], loss: {:.6f}'.format(epoch+1, num_epochs, loss.data[0]))"
   ]
  },
  {
   "cell_type": "code",
   "execution_count": 7,
   "metadata": {},
   "outputs": [
    {
     "data": {
      "image/png": "[encoded data removed]",
      "text/plain": [
       "<matplotlib.figure.Figure at 0x175eb116f60>"
      ]
     },
     "metadata": {},
     "output_type": "display_data"
    }
   ],
   "source": [
    "# 5.评估模型性能\n",
    "# %pylab    \n",
    "model.eval()                     # 模型变成测试模式\n",
    "model.cpu()\n",
    "predict = model(inputs)          # 对输入数据的输出进行预测\n",
    "predict = predict.data.numpy()   # 转换为numpy数据才可以画图\n",
    "plt.plot(x_train.numpy(), y_train.numpy(), 'ro', label='Original Data')\n",
    "# 是一条直线，所以顺序不会影响绘图\n",
    "plt.plot(x_train.numpy(), predict, label='Fitting Line')  \n",
    "plt.legend(['Original Data', 'Fitting Line'])\n",
    "plt.show()"
   ]
  },
  {
   "cell_type": "markdown",
   "metadata": {},
   "source": [
    "小结:\n",
    "1. 创建数据或数据的读取及预处理\n",
    "2. 构建网络模型\n",
    "3. 实例化模型并定义损失函数及优化方法\n",
    "4. 读入数据训练网络，同时输出准确率的验证结果\n",
    "5. 测试模型的性能并可视化"
   ]
  },
  {
   "cell_type": "markdown",
   "metadata": {},
   "source": [
    "### 1.2 多项式回归\n",
    "每一维特征属性的次数不唯一"
   ]
  },
  {
   "cell_type": "code",
   "execution_count": 8,
   "metadata": {},
   "outputs": [
    {
     "name": "stdout",
     "output_type": "stream",
     "text": [
      "1.拼接后的矩阵:\n",
      " tensor([[   1.,    1.,    1.],\n",
      "        [   2.,    4.,    8.],\n",
      "        [   3.,    9.,   27.],\n",
      "        [   4.,   16.,   64.],\n",
      "        [   5.,   25.,  125.],\n",
      "        [   6.,   36.,  216.],\n",
      "        [   7.,   49.,  343.]])\n",
      "2.满足多项式的输出:\n",
      " tensor([[   6.8000],\n",
      "        [  33.1000],\n",
      "        [  94.2000],\n",
      "        [ 204.5000],\n",
      "        [ 378.4000],\n",
      "        [ 630.3000],\n",
      "        [ 974.6000]])\n"
     ]
    }
   ],
   "source": [
    "# 1.数据的创建和预处理\n",
    "def make_features(x):\n",
    "    \"\"\"使数据X处理为多项式矩阵[x, x^2, x^3]\"\"\"\n",
    "    x =x.unsqueeze(1)            # 参数1变为列向量，参数0变为行向量\n",
    "    # 拼接的是tensor组成的列表，1表示按列拼接，0表示按行拼接 (0行1列)\n",
    "    return torch.cat([x**i for i in range(1,4)], 1)   # 按列拼接为矩阵\n",
    "# 使数据满足y=0.9+0.5*x+3*x^2+2.4*x^3关系，向量化为y = X*W + b\n",
    "w_target = torch.Tensor([0.5, 3, 2.4]).unsqueeze(1)   # 权重变为列向量\n",
    "b_target = torch.Tensor([0.9])\n",
    "def func(x):    # 构建函数关系式\n",
    "    return x.mm(w_target) + b_target    # y = X*W + b，得到列向量\n",
    "\n",
    "test = torch.Tensor([1,2,3,4,5,6,7])\n",
    "test_out = make_features(test)\n",
    "print('1.拼接后的矩阵:\\n', test_out)\n",
    "out = func(test_out)\n",
    "print('2.满足多项式的输出:\\n', out)"
   ]
  },
  {
   "cell_type": "code",
   "execution_count": 9,
   "metadata": {},
   "outputs": [],
   "source": [
    "# 上述函数合并为一个process_data\n",
    "def process_data(input_x):           # 预处理数据\n",
    "    input_x = input_x.unsqueeze(1)   # 得到列向量\n",
    "    concat_x = torch.cat([input_x**i for i in range(1,4)], 1)  # 按列拼接为矩阵\n",
    "    w_target = torch.Tensor([0.5, 3, 2.4]).unsqueeze(1)        # 权重变为列向量\n",
    "    b_target = torch.Tensor([0.9])\n",
    "    output_y = concat_x.mm(w_target) + b_target                # 使数据符合多项式\n",
    "    return concat_x, output_y\n",
    "# test = torch.Tensor([1,2,3,4,5,6,7])\n",
    "# x, y = process_data(test)\n",
    "def get_batch(batch_size=32):      # 返回batch_size的(x,y)数据对用于训练\n",
    "    random_data = torch.randn(batch_size)            # 随机产生高斯分布的数据\n",
    "    x_train, y_train = process_data(random_data)     # 产生符合要求的数据\n",
    "    inputs, target = (Variable(x_train).cuda(), Variable(y_train).cuda()) \\\n",
    "                if torch.cuda.is_available() \\\n",
    "                else (Variable(x_train), Variable(y_train))\n",
    "    return inputs, target"
   ]
  },
  {
   "cell_type": "code",
   "execution_count": 10,
   "metadata": {},
   "outputs": [],
   "source": [
    "# 2.构建模型并定义损失函数及优化方法\n",
    "# 定义模型\n",
    "class poly_model(nn.Module):\n",
    "    def __init__(self):\n",
    "        super().__init__()\n",
    "        self.poly = nn.Linear(3,1)   # y = X*W + b, x为3维，y为1维\n",
    "    def forward(self, x):\n",
    "        return self.poly(x)\n",
    "model = poly_model().cuda() if torch.cuda.is_available() else poly_model()\n",
    "# 定义损失函数与优化方法\n",
    "criterion = nn.MSELoss()\n",
    "optimizer = optim.SGD(model.parameters(), lr=1e-3)"
   ]
  },
  {
   "cell_type": "code",
   "execution_count": 11,
   "metadata": {},
   "outputs": [
    {
     "name": "stdout",
     "output_type": "stream",
     "text": [
      "Epoch[101], loss: 8.549479\n",
      "Epoch[201], loss: 1.421098\n",
      "Epoch[301], loss: 1.129042\n",
      "Epoch[401], loss: 0.114328\n",
      "Epoch[501], loss: 0.096581\n",
      "Epoch[601], loss: 0.015983\n",
      "Epoch[701], loss: 0.009357\n",
      "Epoch[801], loss: 0.005294\n",
      "Epoch[901], loss: 0.003812\n",
      "Epoch[1001], loss: 0.003300\n"
     ]
    },
    {
     "name": "stderr",
     "output_type": "stream",
     "text": [
      "D:\\ProgramData\\Anaconda3\\lib\\site-packages\\ipykernel_launcher.py:7: UserWarning: invalid index of a 0-dim tensor. This will be an error in PyTorch 0.5. Use tensor.item() to convert a 0-dim tensor to a Python number\n",
      "  import sys\n"
     ]
    },
    {
     "name": "stdout",
     "output_type": "stream",
     "text": [
      "Epoch[1101], loss: 0.002992\n",
      "Epoch[1201], loss: 0.003096\n",
      "Epoch[1301], loss: 0.002680\n",
      "Epoch[1401], loss: 0.002587\n",
      "Epoch[1501], loss: 0.003420\n",
      "Epoch[1601], loss: 0.001991\n"
     ]
    }
   ],
   "source": [
    "# 3.训练模型\n",
    "epoch = 0\n",
    "while True:\n",
    "    batch_x, batch_y = get_batch()       # 获取数据\n",
    "    output = model(batch_x)              # 前向传播\n",
    "    loss = criterion(output, batch_y)    # 计算损失函数\n",
    "    print_loss = loss.data[0]\n",
    "    optimizer.zero_grad()                # 梯度归零\n",
    "    loss.backward()                      # 误差反向传播\n",
    "    optimizer.step()                     # 更新参数\n",
    "    epoch += 1        \n",
    "    if print_loss < 1e-3:\n",
    "        break\n",
    "    if epoch % 100 == 0:\n",
    "        print('Epoch[{}], loss: {:.6f}'.format(epoch+1, print_loss))"
   ]
  },
  {
   "cell_type": "code",
   "execution_count": 12,
   "metadata": {},
   "outputs": [
    {
     "data": {
      "image/png": "[encoded data removed]",
      "text/plain": [
       "<matplotlib.figure.Figure at 0x175eb20b630>"
      ]
     },
     "metadata": {},
     "output_type": "display_data"
    }
   ],
   "source": [
    "# 4.评估模型性能\n",
    "# %pylab    \n",
    "model.eval()                     # 模型变成测试模式\n",
    "model.cpu()\n",
    "test_x, test_y = get_batch(64)\n",
    "predict = model(test_x)          # 对输入数据的输出进行预测\n",
    "predict = predict.data.numpy()   # 转换为numpy数据才可以画图\n",
    "test_x = test_x[:,0].unsqueeze(1)\n",
    "plt.plot(test_x.numpy(), test_y.numpy(), 'ro', label='Original Data')\n",
    "# 由于数据大小顺序是乱的，故无法画出曲线？？？\n",
    "# plt.plot(test_x.numpy(), predict, 'b.',label='Fitting Data')\n",
    "plt_data = np.concatenate((test_x.numpy(), predict), axis=1)\n",
    "# 将数据按第一行排序后绘制直线\n",
    "plt_data = plt_data[plt_data[:,0].argsort()]\n",
    "plt.plot(plt_data[:,0], plt_data[:,1], 'b-', label='Fitting Line')\n",
    "plt.legend()\n",
    "plt.show()"
   ]
  },
  {
   "cell_type": "markdown",
   "metadata": {},
   "source": [
    "## 2 分类问题"
   ]
  },
  {
   "cell_type": "markdown",
   "metadata": {},
   "source": [
    "### 2.1 Logistic回归\n",
    "Logistic回归中，输出y=1的对数概率是x的线性函数：\n",
    "\n",
    "1. 拟合决策边界(线性或多项式都行)\n",
    "2. 建立决策边界和分类概率的关系，得到分类概率"
   ]
  },
  {
   "cell_type": "code",
   "execution_count": 13,
   "metadata": {},
   "outputs": [
    {
     "name": "stdout",
     "output_type": "stream",
     "text": [
      "Populating the interactive namespace from numpy and matplotlib\n"
     ]
    },
    {
     "name": "stderr",
     "output_type": "stream",
     "text": [
      "D:\\ProgramData\\Anaconda3\\lib\\site-packages\\IPython\\core\\magics\\pylab.py:160: UserWarning: pylab import has clobbered these variables: ['test']\n",
      "`%matplotlib` prevents importing * from pylab and numpy\n",
      "  \"\\n`%matplotlib` prevents importing * from pylab and numpy\"\n"
     ]
    }
   ],
   "source": [
    "import torch\n",
    "import numpy as np\n",
    "from torch import nn, optim\n",
    "%pylab inline\n",
    "import matplotlib.pyplot as plt\n",
    "from torch.autograd import Variable"
   ]
  },
  {
   "cell_type": "code",
   "execution_count": 14,
   "metadata": {},
   "outputs": [
    {
     "data": {
      "image/png": "[encoded data removed]",
      "text/plain": [
       "<matplotlib.figure.Figure at 0x175eb238438>"
      ]
     },
     "metadata": {},
     "output_type": "display_data"
    }
   ],
   "source": [
    "# 1.读取数据\n",
    "def get_data(file_name):\n",
    "    with open(file_name) as file:\n",
    "        data_list = file.read().split('\\n')     # 使用readlines会包含回车符\n",
    "        # 使用map函数将子列表的每个元素转换为float\n",
    "        data_list = [list(map(float, row.split(','))) for row in data_list]\n",
    "        # 使用filter函数过滤数据，两类数据分开\n",
    "        label0 = np.array(list(filter(lambda x: x[-1]==0, data_list)))\n",
    "        label1 = np.array(list(filter(lambda x: x[-1]==1, data_list)))\n",
    "    x0, y0 = label0[:, 0], label0[:, 1]\n",
    "    x1, y1 = label1[:, 0], label1[:, 1]\n",
    "    plt.plot(x0, y0, 'ro', label='class_0')\n",
    "    plt.plot(x1, y1, 'bo', label='class_1')\n",
    "    plt.legend(loc='best')\n",
    "    plt.title('train data')\n",
    "    plt.show()\n",
    "    \n",
    "    x_train = np.concatenate((label0[:,:2], label1[:, :2]), axis=0)  # 按行拼接\n",
    "    y_train = np.array([0]*label0.shape[0] + [1]*label1.shape[0])    # 构建label\n",
    "    data_train = np.concatenate((x_train, y_train[:,np.newaxis]), axis=1)\n",
    "#     print(data_train)\n",
    "    return data_train        # 返回 numpy格式的训练数据\n",
    "mydata = get_data('data.txt')"
   ]
  },
  {
   "cell_type": "code",
   "execution_count": 15,
   "metadata": {},
   "outputs": [],
   "source": [
    "# 产生训练模型的batch数据\n",
    "import random\n",
    "def get_batch(data, batch_size=100):                     # 生成数据的迭代器\n",
    "    \"\"\"data:特征+标签的numpy数据\n",
    "       batch_size:批次的大小\n",
    "       返回批次训练数据的生成器\"\"\"\n",
    "    train_data = data\n",
    "    order = list(range(len(train_data)))\n",
    "    random.shuffle(order)               # shuffle作用于多维数组会出现重复的行！！！\n",
    "    train_data = train_data[order]\n",
    "    index = 0\n",
    "#     print(type(data))\n",
    "    while True:\n",
    "        if index + batch_size < len(train_data):\n",
    "            total_data = train_data[index: index+batch_size] # 按照行访问数据\n",
    "            index += batch_size\n",
    "        else:\n",
    "            total_data = train_data[index:] \n",
    "            index = 0 \n",
    "        yield total_data[:, :2], total_data[:, -1:]\n",
    "g = get_batch(mydata)"
   ]
  },
  {
   "cell_type": "code",
   "execution_count": 16,
   "metadata": {},
   "outputs": [
    {
     "name": "stdout",
     "output_type": "stream",
     "text": [
      "(100, 2)\n",
      "(100, 1)\n"
     ]
    }
   ],
   "source": [
    "test_x, test_y = next(g)\n",
    "# print(test_x)\n",
    "print(test_x.shape)\n",
    "print(test_y.shape)"
   ]
  },
  {
   "cell_type": "code",
   "execution_count": 17,
   "metadata": {},
   "outputs": [],
   "source": [
    "# 2.定义模型、损失函数及优化方法\n",
    "class LogisticRegression(nn.Module):\n",
    "    def __init__(self):\n",
    "        super().__init__()\n",
    "        self.linear = nn.Linear(2, 1)   # 模型两个特征，一个输出\n",
    "        self.sigm   = nn.Sigmoid()\n",
    "    def forward(self, x):\n",
    "        x = self.linear(x)\n",
    "        out = self.sigm(x)\n",
    "        return out\n",
    "logistic_model = LogisticRegression().cuda() if torch.cuda.is_available() \\\n",
    "                 else LogisticRegression()\n",
    "criterion = nn.BCELoss()\n",
    "optimizer = optim.SGD(logistic_model.parameters(), lr=1e-3, momentum=0.9)"
   ]
  },
  {
   "cell_type": "markdown",
   "metadata": {},
   "source": [
    "**BCELoss()**\n",
    "\n",
    "定义: $loss(o,t)=\\frac{1}{n}\\sum_i{(t_i \\cdot log(o_i)+(1-t_i) \\cdot log(1-o_i))}$"
   ]
  },
  {
   "cell_type": "code",
   "execution_count": 18,
   "metadata": {},
   "outputs": [
    {
     "name": "stderr",
     "output_type": "stream",
     "text": [
      "D:\\ProgramData\\Anaconda3\\lib\\site-packages\\ipykernel_launcher.py:11: UserWarning: invalid index of a 0-dim tensor. This will be an error in PyTorch 0.5. Use tensor.item() to convert a 0-dim tensor to a Python number\n",
      "  # This is added back by InteractiveShellApp.init_path()\n",
      "D:\\ProgramData\\Anaconda3\\lib\\site-packages\\ipykernel_launcher.py:16: UserWarning: invalid index of a 0-dim tensor. This will be an error in PyTorch 0.5. Use tensor.item() to convert a 0-dim tensor to a Python number\n",
      "  app.launch_new_instance()\n"
     ]
    },
    {
     "name": "stdout",
     "output_type": "stream",
     "text": [
      "----------\n",
      "epoch 10000\n",
      "loss is 0.3906\n",
      "acc is 0.9000\n",
      "----------\n",
      "epoch 20000\n",
      "loss is 0.3178\n",
      "acc is 0.9300\n",
      "----------\n",
      "epoch 30000\n",
      "loss is 0.2844\n",
      "acc is 0.9100\n",
      "----------\n",
      "epoch 40000\n",
      "loss is 0.2650\n",
      "acc is 0.9100\n",
      "----------\n",
      "epoch 50000\n",
      "loss is 0.2525\n",
      "acc is 0.9100\n"
     ]
    }
   ],
   "source": [
    "# 3.训练网络\n",
    "num_epochs = 50000\n",
    "gen = get_batch(mydata, batch_size=100)\n",
    "for epoch in range(num_epochs):\n",
    "    x, y = next(gen)\n",
    "    x, y = map(torch.Tensor, (x,y))    # 将x，y转换为张量\n",
    "    x_train, y_train = (Variable(x).cuda(), Variable(y).cuda()) \\\n",
    "                       if torch.cuda.is_available() \\\n",
    "                       else (Variable(x), Variable(y))  # 转换为Variable\n",
    "    # 前向传播\n",
    "    out = logistic_model(x_train)     # 计算输出\n",
    "    loss = criterion(out, y_train)    # 计算损失函数\n",
    "    print_loss = loss.data[0]         # 获取损失函数的值\n",
    "    mask = out.ge(0.5).float()        # 大于0.5的设置为1，否则设置为0\n",
    "    correct = (mask == y_train).sum()     # 统计预测正确的个数，这里得到整型tensor\n",
    "#     print(correct.dtype)\n",
    "    # 必须转换为numpy运算才行\n",
    "    acc = correct.data[0].numpy() / y_train.shape[0]   # 计算准确率size(0)\n",
    "#     print(acc)\n",
    "    # 反向传播\n",
    "    optimizer.zero_grad()\n",
    "    loss.backward()\n",
    "    optimizer.step()\n",
    "    # 输出验证的结果\n",
    "    if (epoch + 1) % 10000 == 0:\n",
    "        print('-'*10)\n",
    "        print('epoch {}'.format(epoch+1))\n",
    "        print('loss is {:.4f}'.format(print_loss))\n",
    "        print('acc is {:.4f}'.format(acc))"
   ]
  },
  {
   "cell_type": "code",
   "execution_count": 19,
   "metadata": {},
   "outputs": [
    {
     "data": {
      "image/png": "[encoded data removed]",
      "text/plain": [
       "<matplotlib.figure.Figure at 0x175eb20bd68>"
      ]
     },
     "metadata": {},
     "output_type": "display_data"
    }
   ],
   "source": [
    "# 4.绘制拟合曲线\n",
    "%matplotlib inline\n",
    "# mydata = get_data('data.txt')\n",
    "w0, w1 = logistic_model.linear.weight[0]      # 模型得到的变量均为Variable类型\n",
    "w0, w1 = w0.data.numpy(), w1.data.numpy()\n",
    "b = logistic_model.linear.bias.data.numpy()\n",
    "plot_x = np.arange(30, 100, 0.1)\n",
    "plot_y = (-w0 * plot_x - b) / w1\n",
    "plt.plot(plot_x, plot_y, label='Fitting Line')\n",
    "mydata = get_data('data.txt')                # pyplot画的图可以直接叠加"
   ]
  },
  {
   "cell_type": "markdown",
   "metadata": {},
   "source": [
    "小结:\n",
    "- random.shuffle()处理一维的列表和numpy数组时只是打乱顺序，但在处理多维numpy数组时，该函数会将数组的行随机的重复，所以要格外注意\n",
    "- 在PyTorch中，在计算数值时最好转换到相同的格式，如都是numpy格式或tensor格式，防止出错\n",
    "- 在PyTorch中，注意IntTensor()数据运算的'/'符号被认为整除符号，转换为float型计算除法\n",
    "- matplotlib绘制的图可以直接叠加，即使一部分图是在函数中绘制的"
   ]
  },
  {
   "cell_type": "code",
   "execution_count": 20,
   "metadata": {},
   "outputs": [
    {
     "name": "stdout",
     "output_type": "stream",
     "text": [
      "1.原数据:\n",
      " [[ 1  3  2  0  5]\n",
      " [ 2  4  3  1  6]\n",
      " [ 0  2  1 -1  4]]\n",
      "2.按第3列排序:\n",
      " [[ 0  2  1 -1  4]\n",
      " [ 1  3  2  0  5]\n",
      " [ 2  4  3  1  6]]\n",
      "3.按第2行排序:\n",
      " [[ 0  1  2  3  5]\n",
      " [ 1  2  3  4  6]\n",
      " [-1  0  1  2  4]]\n"
     ]
    }
   ],
   "source": [
    "# numpy数组排序\n",
    "a = np.array([[1,3,2,0,5],[2, 4,3,1,6], [0, 2, 1, -1, 4]])\n",
    "data = np.array(a)\n",
    "print('1.原数据:\\n', data)\n",
    "print('2.按第3列排序:\\n', data[data[:,2].argsort()] )  # 按第3列排序\n",
    "print('3.按第2行排序:\\n', data[:,data[1].argsort()])   # 按第2行排列"
   ]
  },
  {
   "cell_type": "code",
   "execution_count": 21,
   "metadata": {},
   "outputs": [],
   "source": [
    "# 该方法可以将程序写到py脚本中！！！\n",
    "# %%writefile script_name.py\n",
    "# def hello():\n",
    "#     pass"
   ]
  },
  {
   "cell_type": "markdown",
   "metadata": {},
   "source": [
    "## 3 多层全连接前向网络"
   ]
  },
  {
   "cell_type": "code",
   "execution_count": 22,
   "metadata": {},
   "outputs": [],
   "source": [
    "import torch\n",
    "import numpy as np\n",
    "from torch import nn, optim\n",
    "import matplotlib.pyplot as plt\n",
    "from torch.autograd import Variable\n",
    "from torch.utils.data import DataLoader\n",
    "from torchvision import datasets, transforms"
   ]
  },
  {
   "cell_type": "code",
   "execution_count": 23,
   "metadata": {},
   "outputs": [],
   "source": [
    "# 设置超参数(Hyperparameters)\n",
    "batch_size = 64\n",
    "learning_rate = 1e-2\n",
    "num_epochs = 20"
   ]
  },
  {
   "cell_type": "code",
   "execution_count": 24,
   "metadata": {},
   "outputs": [],
   "source": [
    "# 1.读取数据及预处理\n",
    "# Compose将各种预处理操作组合，ToTensor将图片处理为tensor，\n",
    "# Normalize(mean, variance)正则化\n",
    "data_tf = transforms.Compose([transforms.ToTensor(), \\\n",
    "                              transforms.Normalize([0.5], [0.5])])\n",
    "# 下载MNIST手写数字训练集\n",
    "train_dataset = datasets.MNIST(root='./data', train=True, transform=data_tf, download=False)\n",
    "test_dataset = datasets.MNIST(root='./data', train=False, transform=data_tf)\n",
    "# 创建数据迭代器便于训练模型\n",
    "train_loader = DataLoader(train_dataset, batch_size=batch_size, shuffle=True)\n",
    "test_loader = DataLoader(test_dataset, batch_size=batch_size, shuffle=False)"
   ]
  },
  {
   "cell_type": "code",
   "execution_count": 25,
   "metadata": {},
   "outputs": [
    {
     "name": "stdout",
     "output_type": "stream",
     "text": [
      "1.训练数据的维度:\n",
      "torch.Size([60000, 28, 28])\n",
      "torch.Size([60000])\n",
      "2.测试数据的维度:\n",
      "torch.Size([10000, 28, 28])\n",
      "torch.Size([10000])\n"
     ]
    }
   ],
   "source": [
    "print('1.训练数据的维度:')\n",
    "print(train_dataset.train_data.shape)\n",
    "print(train_dataset.train_labels.shape)\n",
    "print('2.测试数据的维度:')\n",
    "print(test_dataset.test_data.shape)\n",
    "print(test_dataset.test_labels.shape)"
   ]
  },
  {
   "cell_type": "code",
   "execution_count": 26,
   "metadata": {},
   "outputs": [
    {
     "name": "stdout",
     "output_type": "stream",
     "text": [
      "1.0~9样本的索引: [10, 5, 35, 30, 6, 15, 21, 17, 84, 9]\n",
      "2.手写体样本:\n"
     ]
    },
    {
     "data": {
      "image/png": "[encoded data removed]",
      "text/plain": [
       "<matplotlib.figure.Figure at 0x175eb0d6e80>"
      ]
     },
     "metadata": {},
     "output_type": "display_data"
    }
   ],
   "source": [
    "# 显示数据\n",
    "%matplotlib inline\n",
    "test = test_dataset.test_labels.numpy()     # 将tensor数据转换为numpy数据\n",
    "sample_index = [np.where(test==i)[0][1] for i in range(10)]\n",
    "print('1.0~9样本的索引:', sample_index)\n",
    "sample_data = test_dataset.test_data[sample_index]    # 获取10个样本数据\n",
    "print('2.手写体样本:')\n",
    "for i in range(10):\n",
    "    plt.subplot(2,5,i+1)\n",
    "    sample_data = test_dataset.test_data[sample_index][i]\n",
    "    plt.axis(\"off\")       # 关掉坐标轴\n",
    "    plt.imshow(sample_data, interpolation='none', cmap='gray')"
   ]
  },
  {
   "cell_type": "code",
   "execution_count": 27,
   "metadata": {},
   "outputs": [],
   "source": [
    "# 2.定义模型\n",
    "# (1)定义简单的模型\n",
    "class Simple_Net(nn.Module):\n",
    "    def __init__(self, in_dim, n_hidden_1, n_hidden_2, out_dim):\n",
    "        super().__init__() \n",
    "        self.layer1 = nn.Linear(in_dim, n_hidden_1)      # 定义结构\n",
    "        self.layer2 = nn.Linear(n_hidden_1, n_hidden_2)\n",
    "        self.layer3 = nn.Linear(n_hidden_2, out_dim)\n",
    "    def forward(self, x):    # 前向传播\n",
    "        x = self.layer1(x)\n",
    "        x = self.layer2(x)\n",
    "        x = self.layer3(x)\n",
    "        return x\n",
    "# (2)定义含激活函数的模型\n",
    "class Activation_Net(nn.Module):\n",
    "    def __init__(self, in_dim, n_hidden_1, n_hidden_2, out_dim):\n",
    "        super().__init__()    # 定义结构\n",
    "        self.layer1 = nn.Sequential(nn.Linear(in_dim, n_hidden_1), \\\n",
    "                                    nn.ReLU(True))  \n",
    "        self.layer2 = nn.Sequential(nn.Linear(n_hidden_1, n_hidden_2), \\\n",
    "                                    nn.ReLU(True))\n",
    "        self.layer3 = nn.Linear(n_hidden_2, out_dim)\n",
    "    def forward(self, x):    # 前向传播\n",
    "        x = self.layer1(x)\n",
    "        x = self.layer2(x)\n",
    "        x = self.layer3(x)\n",
    "        return x\n",
    "# (3)定义含批标准化的模型\n",
    "class Batch_Net(nn.Module):\n",
    "    def __init__(self, in_dim, n_hidden_1, n_hidden_2, out_dim):\n",
    "        super().__init__()    # 定义结构\n",
    "        # Sequential组合网络的层\n",
    "        self.layer1 = nn.Sequential(nn.Linear(in_dim, n_hidden_1), \\\n",
    "                                    nn.BatchNorm1d(n_hidden_1), nn.ReLU(True))  \n",
    "        self.layer2 = nn.Sequential(nn.Linear(n_hidden_1, n_hidden_2), \\\n",
    "                                    nn.BatchNorm1d(n_hidden_2), nn.ReLU(True))\n",
    "        self.layer3 = nn.Linear(n_hidden_2, out_dim)\n",
    "    def forward(self, x):    # 前向传播\n",
    "        x = self.layer1(x)\n",
    "        x = self.layer2(x)\n",
    "        x = self.layer3(x)\n",
    "        return x"
   ]
  },
  {
   "cell_type": "code",
   "execution_count": 28,
   "metadata": {},
   "outputs": [],
   "source": [
    "# 3.定义损失函数及优化方法\n",
    "# model = Simple_Net(784, 300, 100, 10)    # Activation_Net, Batch_Net\n",
    "# model = Activation_Net(784, 300, 100, 10) \n",
    "model = Batch_Net(784, 300, 100, 10) \n",
    "if torch.cuda.is_available():\n",
    "    model = model.cuda()\n",
    "criterion = nn.CrossEntropyLoss()       # 使用交叉熵损失函数\n",
    "optimizer = optim.SGD(model.parameters(), lr=learning_rate)"
   ]
  },
  {
   "cell_type": "code",
   "execution_count": 29,
   "metadata": {},
   "outputs": [
    {
     "name": "stderr",
     "output_type": "stream",
     "text": [
      "D:\\ProgramData\\Anaconda3\\lib\\site-packages\\ipykernel_launcher.py:13: UserWarning: invalid index of a 0-dim tensor. This will be an error in PyTorch 0.5. Use tensor.item() to convert a 0-dim tensor to a Python number\n",
      "  del sys.path[0]\n"
     ]
    },
    {
     "name": "stdout",
     "output_type": "stream",
     "text": [
      "Epoch 100\n",
      "loss 1.4164\n",
      "Epoch 200\n",
      "loss 0.9535\n",
      "Epoch 300\n",
      "loss 0.7836\n",
      "Epoch 400\n",
      "loss 0.7213\n",
      "Epoch 500\n",
      "loss 0.4279\n",
      "Epoch 600\n",
      "loss 0.4506\n",
      "Epoch 700\n",
      "loss 0.3839\n",
      "Epoch 800\n",
      "loss 0.3049\n",
      "Epoch 900\n",
      "loss 0.3275\n"
     ]
    }
   ],
   "source": [
    "# 4.训练模型\n",
    "# 批次数据x:[64, 1, 28, 28], y:[64]\n",
    "epoch = 0\n",
    "for data in train_loader:\n",
    "    x_train, y_train = data       # 获取训练批次数据\n",
    "    # 前向传播\n",
    "    # 注意：该处数据的维度应为[-1, input_dim]，第一个维度前面都是batch_size，\n",
    "    # 但数据集尾部会出现不足batch_size的部分，-1更合理，第2个维度是固定的\n",
    "    x_train = x_train.reshape([-1, 28*28]) # 使维度变为[-1, 28*28]\n",
    "#     print(x_train.shape)\n",
    "    out = model(x_train)                  # 计算模型输出 [64,10]\n",
    "    loss = criterion(out, y_train)        # 计算损失函数\n",
    "    print_loss = loss.data[0]\n",
    "    # 反向传播\n",
    "    optimizer.zero_grad()        # 梯度归零\n",
    "    loss.backward()              # 梯度方向传播\n",
    "    optimizer.step()             # 更新参数\n",
    "    if (epoch + 1) % 100 == 0:\n",
    "        print('Epoch {}'.format(epoch + 1))\n",
    "        print('loss {:.4f}'.format(print_loss))\n",
    "#         print('out {}'.format(out.shape))\n",
    "    epoch += 1"
   ]
  },
  {
   "cell_type": "code",
   "execution_count": 30,
   "metadata": {},
   "outputs": [
    {
     "name": "stdout",
     "output_type": "stream",
     "text": [
      "Epoch: 2 Test Loss: 0.237892, ACC: 0.953125\n",
      "Epoch: 4 Test Loss: 0.331582, ACC: 0.906250\n",
      "Epoch: 6 Test Loss: 0.399676, ACC: 0.890625\n",
      "Epoch: 8 Test Loss: 0.385936, ACC: 0.906250\n",
      "Epoch: 10 Test Loss: 0.373855, ACC: 0.859375\n",
      "Epoch: 12 Test Loss: 0.285056, ACC: 0.906250\n",
      "Epoch: 14 Test Loss: 0.265675, ACC: 0.953125\n",
      "Epoch: 16 Test Loss: 0.313558, ACC: 0.921875\n",
      "Epoch: 18 Test Loss: 0.377609, ACC: 0.890625\n",
      "Epoch: 20 Test Loss: 0.540064, ACC: 0.859375\n",
      "Epoch: 22 Test Loss: 0.242032, ACC: 0.984375\n",
      "Epoch: 24 Test Loss: 0.371329, ACC: 0.906250\n",
      "Epoch: 26 Test Loss: 0.303058, ACC: 0.937500\n",
      "Epoch: 28 Test Loss: 0.466064, ACC: 0.906250\n",
      "Epoch: 30 Test Loss: 0.327193, ACC: 0.937500\n",
      "Epoch: 32 Test Loss: 0.415637, ACC: 0.906250\n",
      "Epoch: 34 Test Loss: 0.381162, ACC: 0.890625\n",
      "Epoch: 36 Test Loss: 0.313300, ACC: 0.937500\n",
      "Epoch: 38 Test Loss: 0.472537, ACC: 0.859375\n",
      "Epoch: 40 Test Loss: 0.290053, ACC: 0.968750\n",
      "Epoch: 42 Test Loss: 0.341906, ACC: 0.937500\n",
      "Epoch: 44 Test Loss: 0.264664, ACC: 0.953125\n",
      "Epoch: 46 Test Loss: 0.322128, ACC: 0.921875\n",
      "Epoch: 48 Test Loss: 0.220195, ACC: 0.984375\n",
      "Epoch: 50 Test Loss: 0.334835, ACC: 0.875000\n",
      "Epoch: 52 Test Loss: 0.254551, ACC: 0.953125\n",
      "Epoch: 54 Test Loss: 0.186998, ACC: 0.984375\n",
      "Epoch: 56 Test Loss: 0.435757, ACC: 0.890625\n",
      "Epoch: 58 Test Loss: 0.252198, ACC: 0.953125\n",
      "Epoch: 60 Test Loss: 0.580703, ACC: 0.812500\n",
      "Epoch: 62 Test Loss: 0.418215, ACC: 0.890625\n",
      "Epoch: 64 Test Loss: 0.356559, ACC: 0.921875\n",
      "Epoch: 66 Test Loss: 0.373662, ACC: 0.921875\n",
      "Epoch: 68 Test Loss: 0.421406, ACC: 0.906250\n",
      "Epoch: 70 Test Loss: 0.329549, ACC: 0.921875\n",
      "Epoch: 72 Test Loss: 0.289465, ACC: 0.937500\n",
      "Epoch: 74 Test Loss: 0.265153, ACC: 0.968750\n",
      "Epoch: 76 Test Loss: 0.400954, ACC: 0.906250\n",
      "Epoch: 78 Test Loss: 0.390263, ACC: 0.906250\n",
      "Epoch: 80 Test Loss: 0.229895, ACC: 0.953125\n",
      "Epoch: 82 Test Loss: 0.177301, ACC: 0.968750\n",
      "Epoch: 84 Test Loss: 0.095793, ACC: 0.984375\n",
      "Epoch: 86 Test Loss: 0.096068, ACC: 0.984375\n",
      "Epoch: 88 Test Loss: 0.196916, ACC: 0.968750\n",
      "Epoch: 90 Test Loss: 0.302119, ACC: 0.953125\n",
      "Epoch: 92 Test Loss: 0.252467, ACC: 0.953125\n",
      "Epoch: 94 Test Loss: 0.339818, ACC: 0.953125\n",
      "Epoch: 96 Test Loss: 0.193306, ACC: 0.968750\n",
      "Epoch: 98 Test Loss: 0.058438, ACC: 1.000000\n",
      "Epoch: 100 Test Loss: 0.167970, ACC: 0.953125\n",
      "Epoch: 102 Test Loss: 0.167718, ACC: 0.984375\n",
      "Epoch: 104 Test Loss: 0.451536, ACC: 0.875000\n",
      "Epoch: 106 Test Loss: 0.308441, ACC: 0.921875\n",
      "Epoch: 108 Test Loss: 0.140777, ACC: 0.968750\n",
      "Epoch: 110 Test Loss: 0.123740, ACC: 0.984375\n",
      "Epoch: 112 Test Loss: 0.146803, ACC: 0.968750\n",
      "Epoch: 114 Test Loss: 0.187803, ACC: 0.984375\n",
      "Epoch: 116 Test Loss: 0.101872, ACC: 1.000000\n",
      "Epoch: 118 Test Loss: 0.243478, ACC: 0.968750\n",
      "Epoch: 120 Test Loss: 0.161888, ACC: 0.968750\n",
      "Epoch: 122 Test Loss: 0.132702, ACC: 0.968750\n",
      "Epoch: 124 Test Loss: 0.329199, ACC: 0.906250\n",
      "Epoch: 126 Test Loss: 0.143781, ACC: 0.984375\n",
      "Epoch: 128 Test Loss: 0.111375, ACC: 0.984375\n",
      "Epoch: 130 Test Loss: 0.359724, ACC: 0.921875\n",
      "Epoch: 132 Test Loss: 0.200579, ACC: 0.953125\n",
      "Epoch: 134 Test Loss: 0.132096, ACC: 0.968750\n",
      "Epoch: 136 Test Loss: 0.063271, ACC: 1.000000\n",
      "Epoch: 138 Test Loss: 0.039978, ACC: 1.000000\n",
      "Epoch: 140 Test Loss: 0.067208, ACC: 1.000000\n",
      "Epoch: 142 Test Loss: 0.232498, ACC: 0.953125\n",
      "Epoch: 144 Test Loss: 0.180969, ACC: 0.937500\n",
      "Epoch: 146 Test Loss: 0.151718, ACC: 0.984375\n",
      "Epoch: 148 Test Loss: 0.160027, ACC: 0.984375\n",
      "Epoch: 150 Test Loss: 0.159809, ACC: 0.968750\n",
      "Epoch: 152 Test Loss: 0.354655, ACC: 0.906250\n",
      "Epoch: 154 Test Loss: 0.312593, ACC: 0.937500\n",
      "Epoch: 156 Test Loss: 0.405206, ACC: 0.890625\n",
      "----------Test Done!----------\n",
      "Epoch: 157 Total_Loss: 0.264654 Total_ACC: 0.942100\n"
     ]
    }
   ],
   "source": [
    "# 5.评价模型的性能\n",
    "model.eval()      # 将模型转换为测试状态\n",
    "total_loss = 0\n",
    "total_acc = 0\n",
    "test_epoch = 0 \n",
    "for data in test_loader:\n",
    "    eval_loss = 0\n",
    "    eval_acc = 0\n",
    "    img, label = data      # 获取测试数据\n",
    "#     print(img.shape)\n",
    "    img = img.view(img.size(0), -1)    # 返回一个数据相同但维度不同的tensor\n",
    "    # 由于测试状态下不需方向传播，所以可以释放缓存\n",
    "    with torch.no_grad():\n",
    "        img, label = (Variable(img).cuda(), Variable(label).cuda()) \\\n",
    "                     if torch.cuda.is_available() \\\n",
    "                     else (Variable(img), Variable(label))\n",
    "    out = model(img)     # 计算图像的标签 [img.size(0), 10]\n",
    "    loss = criterion(out, label)\n",
    "    eval_loss += loss.data* label.size(0)   # 计算该批次的总损失\n",
    "    _, pred = torch.max(out, 1)          # 在一行内按列比大小得[64,1],tenso为[64]\n",
    "#     print(_, pred.shape)\n",
    "    num_correct = (pred == label).sum()\n",
    "    eval_acc += num_correct.data\n",
    "#     print(eval_acc)    \n",
    "    total_loss += eval_loss    # 累计所有批次数据的损失和准确率\n",
    "    total_acc  += eval_acc\n",
    "    if (test_epoch + 1) % 2 == 0:\n",
    "        batch_loss  = (eval_loss / img.size(0))        # 计算该批次的损失\n",
    "        batch_acc   = (eval_acc.float() / img.size(0)) # 计算该批次的准确率\n",
    "        print('Epoch: {} Test Loss: {:.6f}, ACC: {:.6f}'.format(test_epoch+1, batch_loss, batch_acc))\n",
    "    test_epoch += 1\n",
    "print('----------Test Done!----------')\n",
    "print('Epoch: {} Total_Loss: {:.6f} Total_ACC: {:.6f}'.format(\\\n",
    "      test_epoch, total_loss/len(test_dataset), total_acc.float()/len(test_dataset)))"
   ]
  },
  {
   "cell_type": "markdown",
   "metadata": {},
   "source": [
    "1.模型一\n",
    "\n",
    "Epoch: 157 Total_Loss: 0.322252 Total_ACC: 0.906100\n",
    "\n",
    "\n",
    "2.模型二\n",
    "\n",
    "Epoch: 157 Total_Loss: 0.329867 Total_ACC: 0.906300\n",
    "\n",
    "3.模型三\n",
    "\n",
    "Epoch: 157 Total_Loss: 0.276453 Total_ACC: 0.940800"
   ]
  }
 ],
 "metadata": {
  "kernelspec": {
   "display_name": "Python 3",
   "language": "python",
   "name": "python3"
  },
  "language_info": {
   "codemirror_mode": {
    "name": "ipython",
    "version": 3
   },
   "file_extension": ".py",
   "mimetype": "text/x-python",
   "name": "python",
   "nbconvert_exporter": "python",
   "pygments_lexer": "ipython3",
   "version": "3.6.4"
  }
 },
 "nbformat": 4,
 "nbformat_minor": 2
}
