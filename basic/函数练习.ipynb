{
 "cells": [
  {
   "cell_type": "markdown",
   "metadata": {},
   "source": [
    "## 1.numpy图像数组的显示问题"
   ]
  },
  {
   "cell_type": "code",
   "execution_count": 99,
   "metadata": {},
   "outputs": [],
   "source": [
    "import torch\n",
    "from torch import nn\n",
    "import numpy as np\n",
    "import torch.nn.functional as F\n",
    "import matplotlib.pyplot as plt"
   ]
  },
  {
   "cell_type": "code",
   "execution_count": 100,
   "metadata": {},
   "outputs": [
    {
     "name": "stdout",
     "output_type": "stream",
     "text": [
      "(28, 28, 3)\n"
     ]
    },
    {
     "data": {
      "text/plain": [
       "<matplotlib.image.AxesImage at 0x2043fecba58>"
      ]
     },
     "execution_count": 100,
     "metadata": {},
     "output_type": "execute_result"
    },
    {
     "data": {
      "image/png": "[encoded data removed]",
      "text/plain": [
       "<matplotlib.figure.Figure at 0x2043fe9d320>"
      ]
     },
     "metadata": {},
     "output_type": "display_data"
    }
   ],
   "source": [
    "img = np.random.rand(28,28,3)\n",
    "img = (img - img.min()) / (img.max()-img.min())   # 将原始缩放到 [0,1]\n",
    "# print(img)\n",
    "print(img.shape)\n",
    "plt.imshow(img,cmap='gray')"
   ]
  },
  {
   "cell_type": "code",
   "execution_count": 101,
   "metadata": {},
   "outputs": [
    {
     "name": "stdout",
     "output_type": "stream",
     "text": [
      "(28, 28)\n"
     ]
    },
    {
     "data": {
      "text/plain": [
       "<matplotlib.image.AxesImage at 0x2043ff0da90>"
      ]
     },
     "execution_count": 101,
     "metadata": {},
     "output_type": "execute_result"
    },
    {
     "data": {
      "image/png": "[encoded data removed]",
      "text/plain": [
       "<matplotlib.figure.Figure at 0x2043f60e898>"
      ]
     },
     "metadata": {},
     "output_type": "display_data"
    }
   ],
   "source": [
    "img = np.random.randn(28,28)\n",
    "img = (img - img.min()) / (img.max()-img.min())   # 将原始缩放到 [0,1]\n",
    "# print(img)\n",
    "print(img.shape)\n",
    "plt.imshow(img,cmap='gray')"
   ]
  },
  {
   "cell_type": "markdown",
   "metadata": {},
   "source": [
    "**总结：**\n",
    "1. 待显示图像的范围一定要在[0,1]内\n",
    "2. 显示3通道的图像，即使设置`cmap='gray'`，仍然会显示彩色图像\n",
    "3. 显示灰度图像，只能使用二维的数据，即(H,W)，如果使用三维数据(H,W,1)会报错"
   ]
  },
  {
   "cell_type": "code",
   "execution_count": 119,
   "metadata": {},
   "outputs": [
    {
     "name": "stdout",
     "output_type": "stream",
     "text": [
      "0.9388154149055481 0.9388154149055481\n"
     ]
    }
   ],
   "source": [
    "x = torch.randn(5,4)         # 注意标准正态分布，是 N(0,1)，但根据3sigma原则，范围大致在(-3,3)内\n",
    "y = torch.randn(5,4)\n",
    "scale = lambda x: (x-x.min())/(x.max()-x.min())\n",
    "x, y = map(scale, [x,y])\n",
    "# print(x.max(), y.min())\n",
    "loss = nn.BCELoss()(x, y)\n",
    "loss2 = F.binary_cross_entropy(x,y)\n",
    "print(loss.data.item(), loss2.data.item())"
   ]
  },
  {
   "cell_type": "code",
   "execution_count": 73,
   "metadata": {},
   "outputs": [
    {
     "name": "stdout",
     "output_type": "stream",
     "text": [
      "[[-0.88985972 -0.11993736  0.0272243   0.42961925]\n",
      " [-1.84090353 -1.88243286  0.15668893 -0.1110186 ]\n",
      " [-0.60489633 -1.18595555 -0.36380515 -0.96873687]]\n",
      "\n",
      "[-0.60489633 -0.11993736  0.15668893  0.42961925]\n",
      "\n",
      "[[-0.28496339  0.         -0.12946463  0.        ]\n",
      " [-1.2360072  -1.7624955   0.         -0.54063785]\n",
      " [ 0.         -1.06601819 -0.52049409 -1.39835612]]\n"
     ]
    }
   ],
   "source": [
    "x = np.random.randn(3,4)\n",
    "print(x)\n",
    "print()\n",
    "print(np.max(x, 0))\n",
    "print()\n",
    "print(x -np.max(x, 0))"
   ]
  },
  {
   "cell_type": "code",
   "execution_count": 124,
   "metadata": {},
   "outputs": [
    {
     "name": "stdout",
     "output_type": "stream",
     "text": [
      "['__builtins__', '__cached__', '__doc__', '__file__', '__loader__', '__name__', '__package__', '__spec__', 'irange', 'make_grid', 'math', 'save_image', 'torch']\n"
     ]
    }
   ],
   "source": [
    "import torchvision.utils as t\n",
    "print(dir(t))"
   ]
  },
  {
   "cell_type": "code",
   "execution_count": null,
   "metadata": {},
   "outputs": [],
   "source": []
  }
 ],
 "metadata": {
  "kernelspec": {
   "display_name": "Python 3",
   "language": "python",
   "name": "python3"
  },
  "language_info": {
   "codemirror_mode": {
    "name": "ipython",
    "version": 3
   },
   "file_extension": ".py",
   "mimetype": "text/x-python",
   "name": "python",
   "nbconvert_exporter": "python",
   "pygments_lexer": "ipython3",
   "version": "3.6.4"
  }
 },
 "nbformat": 4,
 "nbformat_minor": 2
}
