{
 "cells": [
  {
   "cell_type": "markdown",
   "metadata": {},
   "source": [
    "# dog_vs_cat\n",
    "1. 创建数据集\n",
    "2. 数据预处理\n",
    "3. 定义模型"
   ]
  },
  {
   "cell_type": "markdown",
   "metadata": {},
   "source": [
    "## 1. 创建数据集"
   ]
  },
  {
   "cell_type": "code",
   "execution_count": 1,
   "metadata": {},
   "outputs": [
    {
     "name": "stderr",
     "output_type": "stream",
     "text": [
      "D:\\ProgramData\\Anaconda3\\lib\\site-packages\\h5py\\__init__.py:36: FutureWarning: Conversion of the second argument of issubdtype from `float` to `np.floating` is deprecated. In future, it will be treated as `np.float64 == np.dtype(float).type`.\n",
      "  from ._conv import register_converters as _register_converters\n"
     ]
    }
   ],
   "source": [
    "import os\n",
    "import shutil\n",
    "import torch\n",
    "import h5py\n",
    "import numpy as np\n",
    "from torch import nn, optim\n",
    "import torch.nn.functional as F\n",
    "import matplotlib.pyplot as plt\n",
    "from tqdm import tqdm_notebook\n",
    "import matplotlib.pyplot as plt\n",
    "from torch.autograd import Variable\n",
    "from torch.utils.data import DataLoader, Dataset\n",
    "from torchvision import datasets, transforms\n",
    "from torchvision import models\n",
    "from torchvision.utils import save_image\n",
    "from torchvision.datasets import ImageFolder\n",
    "\n",
    "use_cuda = torch.cuda.is_available()                    # gpu可用\n",
    "device = torch.device('cuda' if use_cuda else 'cpu')    # 优先使用gpu"
   ]
  },
  {
   "cell_type": "code",
   "execution_count": 2,
   "metadata": {},
   "outputs": [],
   "source": [
    "batch_size = 10"
   ]
  },
  {
   "cell_type": "code",
   "execution_count": 3,
   "metadata": {
    "scrolled": false
   },
   "outputs": [
    {
     "name": "stdout",
     "output_type": "stream",
     "text": [
      "Data path: ..\\data\\dog_vs_cat\n"
     ]
    }
   ],
   "source": [
    "root_path = os.path.join('..', 'data', 'dog_vs_cat')     # 数据集的根目录     \n",
    "source_path = os.path.join(root_path, 'kaggle_train')    # 原图像的目录\n",
    "print('Data path:', root_path)"
   ]
  },
  {
   "cell_type": "markdown",
   "metadata": {},
   "source": [
    "### 1.1 创建dog和cat的目录"
   ]
  },
  {
   "cell_type": "code",
   "execution_count": 4,
   "metadata": {},
   "outputs": [
    {
     "name": "stdout",
     "output_type": "stream",
     "text": [
      "[('dog', 'train'), ('dog', 'val'), ('cat', 'train'), ('cat', 'val')]\n"
     ]
    }
   ],
   "source": [
    "def create_dir(class_name, phase):\n",
    "    \"\"\"\n",
    "    class_name：类别名称，字符串\n",
    "    phase：train或val\n",
    "    \"\"\"\n",
    "    img_folder = os.path.join(root_path, phase, class_name)\n",
    "    if not os.path.exists(img_folder):     \n",
    "        os.mkdir(img_folder)           # 只能创建一个文件夹，无法创建嵌套的文件夹\n",
    "        print(img_folder)\n",
    "    \n",
    "dir_list = [(i,j) for i in ['dog', 'cat'] for j in ['train', 'val']]  # 分为训练集和验证集\n",
    "print(dir_list)\n",
    "operation = list(map(lambda x: create_dir(*x), dir_list))             # 创建4个对应的目录"
   ]
  },
  {
   "cell_type": "markdown",
   "metadata": {},
   "source": [
    "### 1.2 将图像存放到对应路径"
   ]
  },
  {
   "cell_type": "code",
   "execution_count": 5,
   "metadata": {},
   "outputs": [
    {
     "name": "stdout",
     "output_type": "stream",
     "text": [
      "['cat.0.jpg', 'cat.1.jpg', 'cat.10.jpg', 'cat.100.jpg', 'cat.1000.jpg', 'cat.10000.jpg', 'cat.10001.jpg']\n"
     ]
    }
   ],
   "source": [
    "data_list = os.listdir(source_path)   # 列出原数据集中文件名，列表类型\n",
    "print(data_list[:7])"
   ]
  },
  {
   "cell_type": "code",
   "execution_count": 6,
   "metadata": {},
   "outputs": [
    {
     "name": "stdout",
     "output_type": "stream",
     "text": [
      "['dog.0.jpg', 'dog.1.jpg', 'dog.10.jpg', 'dog.100.jpg', 'dog.1000.jpg', 'dog.10000.jpg', 'dog.10001.jpg']\n",
      "['cat.0.jpg', 'cat.1.jpg', 'cat.10.jpg', 'cat.100.jpg', 'cat.1000.jpg', 'cat.10000.jpg', 'cat.10001.jpg']\n"
     ]
    }
   ],
   "source": [
    "dog_list = list(filter(lambda x:x[:3]=='dog', data_list))     # 筛选出dog类型的文件 列表数据\n",
    "print(dog_list[:7])\n",
    "cat_list = list(filter(lambda x:x[:3]=='cat', data_list))     # 筛选cat类型文件 \n",
    "print(cat_list[:7])"
   ]
  },
  {
   "cell_type": "code",
   "execution_count": 7,
   "metadata": {},
   "outputs": [
    {
     "data": {
      "application/vnd.jupyter.widget-view+json": {
       "model_id": "1d59a6b32acf416f98f84afe6e76799c",
       "version_major": 2,
       "version_minor": 0
      },
      "text/html": [
       "<p>Failed to display Jupyter Widget of type <code>HBox</code>.</p>\n",
       "<p>\n",
       "  If you're reading this message in the Jupyter Notebook or JupyterLab Notebook, it may mean\n",
       "  that the widgets JavaScript is still loading. If this message persists, it\n",
       "  likely means that the widgets JavaScript library is either not installed or\n",
       "  not enabled. See the <a href=\"https://ipywidgets.readthedocs.io/en/stable/user_install.html\">Jupyter\n",
       "  Widgets Documentation</a> for setup instructions.\n",
       "</p>\n",
       "<p>\n",
       "  If you're reading this message in another frontend (for example, a static\n",
       "  rendering on GitHub or <a href=\"https://nbviewer.jupyter.org/\">NBViewer</a>),\n",
       "  it may mean that your frontend doesn't currently support widgets.\n",
       "</p>\n"
      ],
      "text/plain": [
       "HBox(children=(IntProgress(value=0, max=12500), HTML(value='')))"
      ]
     },
     "metadata": {},
     "output_type": "display_data"
    },
    {
     "name": "stdout",
     "output_type": "stream",
     "text": [
      "\n"
     ]
    },
    {
     "data": {
      "application/vnd.jupyter.widget-view+json": {
       "model_id": "8fe23854dbb946bea3ebd581d607f720",
       "version_major": 2,
       "version_minor": 0
      },
      "text/html": [
       "<p>Failed to display Jupyter Widget of type <code>HBox</code>.</p>\n",
       "<p>\n",
       "  If you're reading this message in the Jupyter Notebook or JupyterLab Notebook, it may mean\n",
       "  that the widgets JavaScript is still loading. If this message persists, it\n",
       "  likely means that the widgets JavaScript library is either not installed or\n",
       "  not enabled. See the <a href=\"https://ipywidgets.readthedocs.io/en/stable/user_install.html\">Jupyter\n",
       "  Widgets Documentation</a> for setup instructions.\n",
       "</p>\n",
       "<p>\n",
       "  If you're reading this message in another frontend (for example, a static\n",
       "  rendering on GitHub or <a href=\"https://nbviewer.jupyter.org/\">NBViewer</a>),\n",
       "  it may mean that your frontend doesn't currently support widgets.\n",
       "</p>\n"
      ],
      "text/plain": [
       "HBox(children=(IntProgress(value=0, max=12500), HTML(value='')))"
      ]
     },
     "metadata": {},
     "output_type": "display_data"
    },
    {
     "name": "stdout",
     "output_type": "stream",
     "text": [
      "\n"
     ]
    }
   ],
   "source": [
    "# 运行该程序会显示进度条\n",
    "def copy_data(root_path, file_list, target_class):\n",
    "    \"\"\"\n",
    "    root_path：文件的根目录\n",
    "    file_list：需要复制的文件的list\n",
    "    target_class：需要复制的文件所属类别\n",
    "    \"\"\"\n",
    "    for i in tqdm_notebook(range(len(file_list))):                  # tqdm为了显示进度条\n",
    "        source_path = os.path.join(root_path, 'kaggle_train', file_list[i])\n",
    "#         print(source_path)\n",
    "        phase = 'train' if i < len(dog_list)*0.9 else 'val'         # 选取90%数据为训练，10%验证  \n",
    "        target_path = os.path.join(root_path, phase, target_class, file_list[i])  # 创建目标目录\n",
    "#         print(target_path)\n",
    "        if not os.path.exists(target_path):         # 如果目标文件不存在\n",
    "            shutil.copy(source_path, target_path)   # 复制文件到指定目录\n",
    "copy_data(root_path, cat_list, 'cat')  \n",
    "copy_data(root_path, dog_list, 'dog')"
   ]
  },
  {
   "cell_type": "markdown",
   "metadata": {},
   "source": [
    "### 1.3 显示样本"
   ]
  },
  {
   "cell_type": "code",
   "execution_count": 8,
   "metadata": {},
   "outputs": [
    {
     "data": {
      "text/plain": [
       "<matplotlib.image.AxesImage at 0x24ff248b9b0>"
      ]
     },
     "execution_count": 8,
     "metadata": {},
     "output_type": "execute_result"
    },
    {
     "data": {
      "image/png": "[encoded data removed]",
      "text/plain": [
       "<matplotlib.figure.Figure at 0x24fea7bf278>"
      ]
     },
     "metadata": {},
     "output_type": "display_data"
    }
   ],
   "source": [
    "%matplotlib inline\n",
    "dog_sample = np.random.choice(dog_list, size=1)    # 从列表汇总随机选取一个样本\n",
    "cat_sample = np.random.choice(cat_list, size=1)\n",
    "dog_img = plt.imread(os.path.join(root_path, 'kaggle_train', dog_sample[0]))# (191, 119, 3)\n",
    "# print(dog_img.shape)\n",
    "cat_img = plt.imread(os.path.join(root_path, 'kaggle_train', cat_sample[0]))\n",
    "fig = plt.figure(figsize=(6,3))\n",
    "fig.add_subplot(121)\n",
    "plt.axis('off')\n",
    "plt.imshow(dog_img)\n",
    "fig.add_subplot(122)\n",
    "plt.axis('off')\n",
    "plt.imshow(cat_img)"
   ]
  },
  {
   "cell_type": "markdown",
   "metadata": {},
   "source": [
    "---\n",
    "## 2. 数据预处理"
   ]
  },
  {
   "cell_type": "markdown",
   "metadata": {},
   "source": [
    "### 2.1 数据预处理"
   ]
  },
  {
   "cell_type": "code",
   "execution_count": 63,
   "metadata": {},
   "outputs": [
    {
     "data": {
      "text/plain": [
       "{'cat': 0, 'dog': 1}"
      ]
     },
     "execution_count": 63,
     "metadata": {},
     "output_type": "execute_result"
    }
   ],
   "source": [
    "# 定义数据预处理方法\n",
    "img_transform = transforms.Compose([\n",
    "    transforms.Resize(250),                             # 缩放到250*250\n",
    "    transforms.CenterCrop(224),                         # 裁剪中心224*224尺寸的图像\n",
    "    transforms.ToTensor(),                              # 转换为[0,1]的向量\n",
    "    transforms.Normalize((0.5,0.5,0.5), (0.5,0.5,0.5))  # 转换为[-1,1]，数据零均值处理\n",
    "])\n",
    "def datafolder(phase):        \n",
    "    \"\"\"\n",
    "    func：读取数据并返回ImageFolder类\n",
    "    phase：train或者val\n",
    "    \"\"\"\n",
    "    data = ImageFolder(os.path.join(root_path, phase), transform=img_transform)\n",
    "#     print(data)\n",
    "    return data\n",
    "da = datafolder('val')\n",
    "da.class_to_idx                       # ImageFolder函数为不同名称文件夹自动分配了类别号"
   ]
  },
  {
   "cell_type": "markdown",
   "metadata": {},
   "source": [
    "### 2.2 生成批次数据"
   ]
  },
  {
   "cell_type": "code",
   "execution_count": 10,
   "metadata": {},
   "outputs": [],
   "source": [
    "def dataloader(data_folder, batch_size, phase='train'):\n",
    "    \"\"\"\n",
    "    func：读取数据并返回DataLoader类\n",
    "    data_folder：数据的ImageFolder\n",
    "    batch_size：批次的大小\n",
    "    phase：train或者val\n",
    "    \"\"\"    \n",
    "    loader = DataLoader(data_folder, batch_size=batch_size, shuffle=False, num_workers=4)\n",
    "    return loader  "
   ]
  },
  {
   "cell_type": "code",
   "execution_count": 11,
   "metadata": {},
   "outputs": [],
   "source": [
    "train_loader = dataloader(datafolder('train'), batch_size, 'train')   # 创建数据迭代器\n",
    "val_loader = dataloader(datafolder('val'), batch_size, 'val')"
   ]
  },
  {
   "cell_type": "code",
   "execution_count": 12,
   "metadata": {},
   "outputs": [
    {
     "name": "stdout",
     "output_type": "stream",
     "text": [
      "train numbers: 22500\n",
      "val numbers: 2500\n"
     ]
    }
   ],
   "source": [
    "print('train numbers:', len(train_loader.dataset))\n",
    "print('val numbers:', len(val_loader.dataset))"
   ]
  },
  {
   "cell_type": "code",
   "execution_count": 55,
   "metadata": {},
   "outputs": [
    {
     "name": "stdout",
     "output_type": "stream",
     "text": [
      "torch.Size([10, 3, 224, 224]) torch.Size([10])\n",
      "tensor([0, 0, 0, 0, 0, 0, 0, 0, 0, 0])\n"
     ]
    }
   ],
   "source": [
    "val_data = iter(val_loader)\n",
    "x, y = next(val_data)\n",
    "print(x.shape, y.shape)"
   ]
  },
  {
   "cell_type": "markdown",
   "metadata": {},
   "source": [
    "---"
   ]
  },
  {
   "cell_type": "markdown",
   "metadata": {},
   "source": [
    "## 3. 定义模型"
   ]
  },
  {
   "cell_type": "markdown",
   "metadata": {},
   "source": [
    "### 3.1 定义提取特征的模型"
   ]
  },
  {
   "cell_type": "code",
   "execution_count": 14,
   "metadata": {},
   "outputs": [],
   "source": [
    "# 2.1定义模型来提取特征，为了提取特征向量\n",
    "class feature_net(nn.Module):\n",
    "    def __init__(self, model_name):\n",
    "        super().__init__()\n",
    "        self.model_name = model_name                                        # 添加名字属性，便于识别\n",
    "        assert model_name in ['inceptionv3', 'resnet18', 'squeeze'], 'Wrong model name!'\n",
    "        if model_name == 'inceptionv3':\n",
    "            inception = models.inception_v3(pretrained=True)                # 使用预训练模型\n",
    "            self.features = nn.Sequential(*list(inception.children())[:-1]) # 除去最后一层\n",
    "            self.features._modules.pop('13')                                # 移除13层辅助分类层\n",
    "            # 网络最后输出(N,2048,26,26) => [N, 2048, 1, 1] \n",
    "            self.features.add_module('global average', nn.AvgPool2d(26))    # get (N, 2048, 1,1)\n",
    "        elif model_name == 'resnet18':\n",
    "            resnet = models.resnet18(pretrained=True)\n",
    "            self.features = nn.Sequential(*list(resnet.children())[:-1])    # (N, 512, 1, 1)\n",
    "        elif model_name == 'squeeze':\n",
    "            squeezenet = models.squeezenet1_1(pretrained=True)\n",
    "            self.features = nn.Sequential(*list(squeezenet.children())[:-1]) # (N, 512, 13, 13)\n",
    "            self.features.add_module('global average', nn.AvgPool2d(13))     # (N, 512, 1, 1)\n",
    "    def forward(self, x):\n",
    "        features = self.features(x)  # 提取特征\n",
    "        features_flatten = features.view(x.size(0), -1)\n",
    "        return features_flatten"
   ]
  },
  {
   "cell_type": "code",
   "execution_count": 15,
   "metadata": {},
   "outputs": [
    {
     "name": "stdout",
     "output_type": "stream",
     "text": [
      "torch.Size([1, 512])\n"
     ]
    }
   ],
   "source": [
    "feature_model = feature_net('resnet18')   # 模型测试\n",
    "test_in = torch.randn(1,3,224,224)\n",
    "out = feature_model(test_in)\n",
    "print(out.shape)"
   ]
  },
  {
   "cell_type": "markdown",
   "metadata": {},
   "source": [
    "### 3.2 定义分类模型"
   ]
  },
  {
   "cell_type": "code",
   "execution_count": 30,
   "metadata": {
    "scrolled": false
   },
   "outputs": [],
   "source": [
    "class classifier(nn.Module):\n",
    "    def __init__(self, in_features, out_classes):\n",
    "        super().__init__()\n",
    "        self.fc = nn.Sequential(\n",
    "            nn.Linear(in_features, 512),           # (N,100)\n",
    "            nn.ReLU(),\n",
    "            nn.Dropout(0.5),\n",
    "            nn.Linear(512, out_classes)            # (N,out_classes)\n",
    "        )\n",
    "    def forward(self, x):\n",
    "        out = self.fc(x)\n",
    "        return out"
   ]
  },
  {
   "cell_type": "code",
   "execution_count": 31,
   "metadata": {},
   "outputs": [
    {
     "name": "stdout",
     "output_type": "stream",
     "text": [
      "torch.Size([10, 2])\n"
     ]
    }
   ],
   "source": [
    "classifier_model = classifier(200, 2)   # 模型测试\n",
    "test_in = torch.randn(10, 200)\n",
    "out = classifier_model(test_in)\n",
    "print(out.shape)"
   ]
  },
  {
   "cell_type": "markdown",
   "metadata": {},
   "source": [
    "---\n",
    "## 4.提取特征并存为h5文件"
   ]
  },
  {
   "cell_type": "code",
   "execution_count": 18,
   "metadata": {},
   "outputs": [],
   "source": [
    "# 定义提取特征函数\n",
    "def CreateFeature(model, dataloader, phase, save_path='./feature_h5'):\n",
    "    \"\"\"\n",
    "    model：用于提取特征的模型\n",
    "    dataloader：train、val时使用的数据迭代器\n",
    "    phase：train或val\n",
    "    save_path：特征h5文件保存的路径\n",
    "    \"\"\"\n",
    "    model.to(device)                               # 优先使用GPU\n",
    "    feature_map = torch.FloatTensor().to(device)\n",
    "    label_map = torch.LongTensor().to(device)\n",
    "    idx = 0\n",
    "    for data in tqdm_notebook(dataloader):         # 显示进度条\n",
    "        img, label = data\n",
    "#         print(img.shape)\n",
    "        img, label = map(lambda x:x.to(device), [img, label])   # 选择设备，优先使用GPU\n",
    "        out = model(img)                           # 提取特征\n",
    "        feature_map = torch.cat([feature_map, out.data], 0)     # 在批次方向拼接 (N,-1)\n",
    "        label_map = torch.cat([label_map, label], 0)\n",
    "#         print(feature_map.shape)\n",
    "#         print(label_map.shape)\n",
    "#         print('--------------')\n",
    "#         idx += 1\n",
    "#         if idx == 2:\n",
    "#             break\n",
    "#     feature_map = feature_map.cpu().numpy()  # \n",
    "    label_map = label_map.cpu().numpy()\n",
    "    file_name = '{}_{}_feature.hd5f'.format(model.model_name, phase)      # h5文件名称\n",
    "    h5_path = os.path.join(save_path, file_name)\n",
    "#     print(h5_path)\n",
    "    with h5py.File(h5_path, 'w') as h5_file:\n",
    "        h5_file.create_dataset('data', data=feature_map)\n",
    "        h5_file.create_dataset('label', data=label_map)\n",
    "    print('Finished!')"
   ]
  },
  {
   "cell_type": "code",
   "execution_count": 19,
   "metadata": {},
   "outputs": [],
   "source": [
    "# 创建模型resnet并提取特征\n",
    "resnet = feature_net('resnet18')\n",
    "if not os.path.exists(os.path.join('./feature_h5/', 'resnet18_train_feature.hd5f')): # 如果存在就不提特征\n",
    "    CreateFeature(resnet, train_loader, 'train')\n",
    "if not os.path.exists(os.path.join('./feature_h5/', 'resnet18_val_feature.hd5f')): # 如果存在就不提特征\n",
    "    CreateFeature(resnet, val_loader, 'val')"
   ]
  },
  {
   "cell_type": "code",
   "execution_count": 20,
   "metadata": {},
   "outputs": [
    {
     "name": "stderr",
     "output_type": "stream",
     "text": [
      "D:\\ProgramData\\Anaconda3\\lib\\site-packages\\torchvision\\models\\squeezenet.py:94: UserWarning: nn.init.kaiming_uniform is now deprecated in favor of nn.init.kaiming_uniform_.\n",
      "  init.kaiming_uniform(m.weight.data)\n",
      "D:\\ProgramData\\Anaconda3\\lib\\site-packages\\torchvision\\models\\squeezenet.py:92: UserWarning: nn.init.normal is now deprecated in favor of nn.init.normal_.\n",
      "  init.normal(m.weight.data, mean=0.0, std=0.01)\n"
     ]
    }
   ],
   "source": [
    "# 创建模型squeezenet并提取特征\n",
    "squeezenet = feature_net('squeeze')\n",
    "if not os.path.exists(os.path.join('./feature_h5/', 'squeeze_train_feature.hd5f')): # 如果存在就不提特征\n",
    "    CreateFeature(squeezenet, train_loader, 'train')\n",
    "if not os.path.exists(os.path.join('./feature_h5/', 'squeeze_val_feature.hd5f')): # 如果存在就不提特征\n",
    "    CreateFeature(squeezenet, val_loader, 'val')    "
   ]
  },
  {
   "cell_type": "markdown",
   "metadata": {},
   "source": [
    "<center>生成的特征h5文件</center>\n",
    "<img src='image/h5_file.jpg' height='45%', width='45%' ></img>"
   ]
  },
  {
   "cell_type": "markdown",
   "metadata": {},
   "source": [
    "---\n",
    "## 5. h5特征训练分类器"
   ]
  },
  {
   "cell_type": "markdown",
   "metadata": {},
   "source": [
    "### 5.1 读取h5数据并按照特征维度拼接"
   ]
  },
  {
   "cell_type": "code",
   "execution_count": 21,
   "metadata": {},
   "outputs": [],
   "source": [
    "# 定义h5数据读取类，将不同模型的h5特征进行拼接\n",
    "class h5Dataset(Dataset):\n",
    "    def __init__(self, file_list):\n",
    "        \"\"\"\n",
    "        file_list：需要拼接的h5文件路径列表\n",
    "        \"\"\"\n",
    "        h5_data = torch.FloatTensor()\n",
    "        for file in file_list:\n",
    "            with h5py.File(file, 'r') as temp_file:\n",
    "                # 读取图像和标签\n",
    "                temp_data = temp_file['data'].value\n",
    "                # 转换为torch数据\n",
    "                temp_data = torch.from_numpy(temp_data)\n",
    "                if h5_data.shape == torch.Size([0]):                 # 首次读取数据\n",
    "                    self.label = torch.from_numpy(temp_file['label'].value)  # 保存标签\n",
    "                    \n",
    "                h5_data = torch.cat([h5_data, temp_data], 1)        # 在列上拼接                 \n",
    "        self.data  = h5_data                                        # 保存特征数据\n",
    "#         print(self.data.shape, self.label.shape)\n",
    "        \n",
    "    def __len__(self):                                # 返回一个python常数\n",
    "        return self.label.shape[0]                    # torch.Size([22500])，使用[0]提取数\n",
    "    \n",
    "    def __getitem__(self, index):                     # 按索引读取数据\n",
    "        assert index < len(self), 'index range error'\n",
    "        data = self.data[index]\n",
    "        label = self.label[index]\n",
    "        return (data, label)"
   ]
  },
  {
   "cell_type": "code",
   "execution_count": 22,
   "metadata": {
    "scrolled": true
   },
   "outputs": [
    {
     "name": "stdout",
     "output_type": "stream",
     "text": [
      "Train numbers: 22500\n",
      "Sample: tensor([0.6055, 0.1336, 0.0773,  ..., 0.0970, 2.7742, 0.3208]) tensor(0)\n",
      "torch.Size([1024]) torch.Size([])\n"
     ]
    }
   ],
   "source": [
    "# 生成训练集的dataset  x:[22500,1024] y:[22500]\n",
    "train_h5_list = [os.path.join('./feature_h5', 'resnet18_train_feature.hd5f'),\n",
    "                 os.path.join('./feature_h5', 'squeeze_train_feature.hd5f')]\n",
    "train_h5 = h5Dataset(train_h5_list)\n",
    "print('Train numbers:', train_h5.__len__())\n",
    "sample_data, sample_label = train_h5.__getitem__(0)\n",
    "print('Sample:',sample_data, sample_label)\n",
    "print(sample_data.shape, sample_label.shape)"
   ]
  },
  {
   "cell_type": "code",
   "execution_count": 23,
   "metadata": {},
   "outputs": [
    {
     "name": "stdout",
     "output_type": "stream",
     "text": [
      "Val numbers: 2500\n"
     ]
    }
   ],
   "source": [
    "# 生成验证集的dataset   x:[2500,1024] y:[2500]\n",
    "val_h5_list = [os.path.join('./feature_h5', 'resnet18_val_feature.hd5f'),\n",
    "                 os.path.join('./feature_h5', 'squeeze_val_feature.hd5f')]\n",
    "val_h5 = h5Dataset(val_h5_list)\n",
    "print('Val numbers:', val_h5.__len__())"
   ]
  },
  {
   "cell_type": "markdown",
   "metadata": {},
   "source": [
    "### 5.2 生成批次训练数据"
   ]
  },
  {
   "cell_type": "code",
   "execution_count": 44,
   "metadata": {},
   "outputs": [],
   "source": [
    "train_batch = 32  # 与开头的批次不同，这里的用于训练分类器\n",
    "train_h5_loader = DataLoader(train_h5, batch_size=train_batch, shuffle=True)   # 使用num_workers会报错\n",
    "val_h5_loader = DataLoader(val_h5, batch_size=train_batch, shuffle=False)"
   ]
  },
  {
   "cell_type": "code",
   "execution_count": 45,
   "metadata": {},
   "outputs": [
    {
     "name": "stdout",
     "output_type": "stream",
     "text": [
      "torch.Size([32, 1024]) torch.Size([32])\n"
     ]
    }
   ],
   "source": [
    "val_h5_data = iter(val_h5_loader)\n",
    "x, y = next(val_h5_data)\n",
    "print(x.shape, y.shape)"
   ]
  },
  {
   "cell_type": "markdown",
   "metadata": {},
   "source": [
    "### 5.3. 训练分类器"
   ]
  },
  {
   "cell_type": "code",
   "execution_count": 132,
   "metadata": {},
   "outputs": [],
   "source": [
    "import time\n",
    "classifier_model = classifier(1024, 2)   # 训练分类器,1024是特征的维度\n",
    "criterion = nn.CrossEntropyLoss()\n",
    "optimizer = optim.Adam(classifier_model.parameters(), lr=1e-2)"
   ]
  },
  {
   "cell_type": "code",
   "execution_count": 147,
   "metadata": {
    "scrolled": false
   },
   "outputs": [
    {
     "name": "stdout",
     "output_type": "stream",
     "text": [
      "--------------------Epoch:1--------------------\n",
      "Loss: 0.0068, Acc: 0.9981\n",
      "Loss: 0.0104, Acc: 0.9969\n",
      "Loss: 0.0080, Acc: 0.9977\n",
      "Loss: 0.0093, Acc: 0.9973\n",
      "Loss: 0.0113, Acc: 0.9968\n",
      "Loss: 0.0130, Acc: 0.9961\n",
      "Loss: 0.0118, Acc: 0.9963\n",
      "Loss: 0.0125, Acc: 0.9962\n",
      "Loss: 0.0117, Acc: 0.9963\n",
      "Loss: 0.0112, Acc: 0.9964\n",
      "Loss: 0.0107, Acc: 0.9966\n",
      "Loss: 0.0113, Acc: 0.9964\n",
      "Loss: 0.0108, Acc: 0.9965\n",
      "Loss: 0.0106, Acc: 0.9966\n",
      "Loss: 0.0107, Acc: 0.9965, Time: 3s\n",
      "Validation: Loss: 0.0311, Acc: 0.9928\n",
      "--------------------Epoch:2--------------------\n",
      "Loss: 0.0344, Acc: 0.9912\n",
      "Loss: 0.0264, Acc: 0.9928\n",
      "Loss: 0.0266, Acc: 0.9929\n",
      "Loss: 0.0239, Acc: 0.9931\n",
      "Loss: 0.0209, Acc: 0.9938\n",
      "Loss: 0.0199, Acc: 0.9938\n",
      "Loss: 0.0185, Acc: 0.9939\n",
      "Loss: 0.0168, Acc: 0.9945\n",
      "Loss: 0.0158, Acc: 0.9948\n",
      "Loss: 0.0153, Acc: 0.9949\n",
      "Loss: 0.0150, Acc: 0.9951\n",
      "Loss: 0.0150, Acc: 0.9952\n",
      "Loss: 0.0149, Acc: 0.9951\n",
      "Loss: 0.0144, Acc: 0.9954\n",
      "Loss: 0.0143, Acc: 0.9954, Time: 2s\n",
      "Validation: Loss: 0.0285, Acc: 0.9908\n",
      "--------------------Epoch:3--------------------\n",
      "Loss: 0.0137, Acc: 0.9944\n",
      "Loss: 0.0115, Acc: 0.9947\n",
      "Loss: 0.0097, Acc: 0.9956\n",
      "Loss: 0.0081, Acc: 0.9966\n",
      "Loss: 0.0094, Acc: 0.9961\n",
      "Loss: 0.0098, Acc: 0.9961\n",
      "Loss: 0.0117, Acc: 0.9951\n",
      "Loss: 0.0116, Acc: 0.9952\n",
      "Loss: 0.0109, Acc: 0.9956\n",
      "Loss: 0.0148, Acc: 0.9947\n",
      "Loss: 0.0150, Acc: 0.9946\n",
      "Loss: 0.0141, Acc: 0.9949\n",
      "Loss: 0.0143, Acc: 0.9948\n",
      "Loss: 0.0134, Acc: 0.9951\n",
      "Loss: 0.0134, Acc: 0.9951, Time: 2s\n",
      "Validation: Loss: 0.0327, Acc: 0.9932\n",
      "--------------------Epoch:4--------------------\n",
      "Loss: 0.0138, Acc: 0.9938\n",
      "Loss: 0.0077, Acc: 0.9962\n",
      "Loss: 0.0082, Acc: 0.9967\n",
      "Loss: 0.0064, Acc: 0.9973\n",
      "Loss: 0.0063, Acc: 0.9978\n",
      "Loss: 0.0056, Acc: 0.9981\n",
      "Loss: 0.0059, Acc: 0.9979\n",
      "Loss: 0.0058, Acc: 0.9980\n",
      "Loss: 0.0063, Acc: 0.9978\n",
      "Loss: 0.0064, Acc: 0.9977\n",
      "Loss: 0.0081, Acc: 0.9971\n",
      "Loss: 0.0091, Acc: 0.9968\n",
      "Loss: 0.0088, Acc: 0.9969\n",
      "Loss: 0.0093, Acc: 0.9968\n",
      "Loss: 0.0093, Acc: 0.9968, Time: 2s\n",
      "Validation: Loss: 0.0238, Acc: 0.9928\n",
      "--------------------Epoch:5--------------------\n",
      "Loss: 0.0027, Acc: 0.9988\n",
      "Loss: 0.0029, Acc: 0.9984\n",
      "Loss: 0.0049, Acc: 0.9979\n",
      "Loss: 0.0071, Acc: 0.9972\n",
      "Loss: 0.0081, Acc: 0.9969\n",
      "Loss: 0.0092, Acc: 0.9967\n",
      "Loss: 0.0093, Acc: 0.9966\n",
      "Loss: 0.0101, Acc: 0.9966\n",
      "Loss: 0.0128, Acc: 0.9953\n",
      "Loss: 0.0127, Acc: 0.9954\n",
      "Loss: 0.0117, Acc: 0.9957\n",
      "Loss: 0.0112, Acc: 0.9959\n",
      "Loss: 0.0119, Acc: 0.9959\n",
      "Loss: 0.0112, Acc: 0.9961\n",
      "Loss: 0.0112, Acc: 0.9961, Time: 2s\n",
      "Validation: Loss: 0.0373, Acc: 0.9932\n",
      "Finish Training!\n"
     ]
    }
   ],
   "source": [
    "epoches = 5\n",
    "trainY = []\n",
    "valY = []\n",
    "total_train = len(train_h5_loader.dataset)         # 总训练样本数\n",
    "total_val = len(val_h5_loader.dataset)             # 总验证样本数\n",
    "# print(total_number)\n",
    "for epoch in range(epoches):\n",
    "    print('{}Epoch:{}{}'.format('-'*20, epoch+1, '-'*20))\n",
    "    start = time.time()                             # 开始时间\n",
    "    train_loss = 0\n",
    "    train_acc = 0\n",
    "    for i,data in enumerate(train_h5_loader, 1):    # 后面参数1使i从1开始\n",
    "        feature, label = data                       # 读取数据\n",
    "        feature, label = map(lambda x:x.to(device), [feature, label]) \n",
    "#         print(feature.shape, label.shape)\n",
    "        classifier_model.to(device)\n",
    "    \n",
    "        out = classifier_model(feature)             # 前向传播 (N,1024)\n",
    "#         print(out.shape)\n",
    "        loss = criterion(out,label)\n",
    "        print_loss = loss.item()\n",
    "#         print(print_loss)\n",
    "        optimizer.zero_grad()                       # 梯度归零\n",
    "        loss.backward()                             # 反向传播\n",
    "        optimizer.step()                            # 更新参数\n",
    "        \n",
    "        train_loss += print_loss*label.shape[0]     # 累加一个批次的损失，损失函数默认取平均\n",
    "        _, pred = torch.max(out, 1)                 # 取最大的值为输出\n",
    "        num_correct = torch.sum(pred==label)        # 统计正确的数目\n",
    "        train_acc += num_correct.item()\n",
    "        if i %50 == 0:\n",
    "            current_loss = train_loss/(i*train_batch)\n",
    "            current_acc  = train_acc/(i*train_batch)\n",
    "            trainY.append(current_loss)\n",
    "            print('Loss: {:.4f}, Acc: {:.4f}'.format(current_loss, current_acc))\n",
    "    train_loss /= total_train\n",
    "    train_acc /= total_train\n",
    "    period_time = time.time() - start              # 统计一个epoch的耗时\n",
    "    print('Loss: {:.4f}, Acc: {:.4f}, Time: {:.0f}s'.format(\n",
    "        train_loss, train_acc, period_time))\n",
    "    \n",
    "    # 进行模型验证\n",
    "    print('Validation:', end=' ')\n",
    "    classifier_model.eval()\n",
    "    eval_loss = 0\n",
    "    eval_acc = 0\n",
    "    for data in val_h5_loader:\n",
    "        feature, label = data\n",
    "        feature, label = map(lambda x:x.to(device), [feature, label])\n",
    "        out = classifier_model(feature)\n",
    "        loss = criterion(out, label)\n",
    "        _, pred = torch.max(out, 1)\n",
    "        correct_num = torch.sum(pred==label)\n",
    "        eval_acc += correct_num.item()\n",
    "        eval_loss += loss.item() * label.shape[0]\n",
    "    current_val_loss = eval_loss/total_val\n",
    "    valY.append(current_val_loss)\n",
    "    print('Loss: {:.4f}, Acc: {:.4f}'.format(current_val_loss, eval_acc/total_val))\n",
    "print('Finish Training!')\n",
    "model_path = os.path.join('.', 'model')\n",
    "if not os.path.exists(model_path):\n",
    "    os.mkdir(model_path)\n",
    "save_path = os.path.join(model_path, 'fc2_model.pth')\n",
    "torch.save(classifier_model.state_dict(), save_path)"
   ]
  },
  {
   "cell_type": "code",
   "execution_count": 125,
   "metadata": {},
   "outputs": [
    {
     "data": {
      "text/plain": [
       "704"
      ]
     },
     "execution_count": 125,
     "metadata": {},
     "output_type": "execute_result"
    }
   ],
   "source": []
  },
  {
   "cell_type": "code",
   "execution_count": null,
   "metadata": {},
   "outputs": [],
   "source": []
  },
  {
   "cell_type": "code",
   "execution_count": null,
   "metadata": {},
   "outputs": [],
   "source": []
  },
  {
   "cell_type": "code",
   "execution_count": null,
   "metadata": {},
   "outputs": [],
   "source": []
  },
  {
   "cell_type": "code",
   "execution_count": null,
   "metadata": {},
   "outputs": [],
   "source": [
    "\n"
   ]
  },
  {
   "cell_type": "markdown",
   "metadata": {},
   "source": [
    "1. `torch.FloatTensor()`零维度的向量可以直接与其他维度的向量进行torch.cat拼接\n",
    "2. CrossEntropyLoss对预测输出的大小没有要求，但标签必须是在[0,class-1]内的数字，并且是LongTensor；\n",
    "BCELoss损失函数，预测输出必须在(0,1)内，并且目标是FloatTensor，且维度与预测输出维度一致"
   ]
  },
  {
   "cell_type": "code",
   "execution_count": 124,
   "metadata": {},
   "outputs": [
    {
     "name": "stdout",
     "output_type": "stream",
     "text": [
      "torch.Size([3, 2])\n",
      "torch.Size([3, 2])\n"
     ]
    },
    {
     "data": {
      "text/plain": [
       "tensor(27.6310)"
      ]
     },
     "execution_count": 124,
     "metadata": {},
     "output_type": "execute_result"
    }
   ],
   "source": [
    "loss = nn.BCELoss()\n",
    "# loss = nn.CrossEntropyLoss()\n",
    "out = torch.ones([3,2])\n",
    "print(out.shape)\n",
    "target = torch.FloatTensor(3,2)\n",
    "print(target.shape)\n",
    "loss(out,target)"
   ]
  },
  {
   "cell_type": "code",
   "execution_count": 76,
   "metadata": {},
   "outputs": [],
   "source": [
    "?torch.randint"
   ]
  }
 ],
 "metadata": {
  "kernelspec": {
   "display_name": "Python 3",
   "language": "python",
   "name": "python3"
  },
  "language_info": {
   "codemirror_mode": {
    "name": "ipython",
    "version": 3
   },
   "file_extension": ".py",
   "mimetype": "text/x-python",
   "name": "python",
   "nbconvert_exporter": "python",
   "pygments_lexer": "ipython3",
   "version": "3.6.4"
  }
 },
 "nbformat": 4,
 "nbformat_minor": 2
}
