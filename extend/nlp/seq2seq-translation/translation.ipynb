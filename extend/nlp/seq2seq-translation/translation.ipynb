{
 "cells": [
  {
   "cell_type": "markdown",
   "metadata": {},
   "source": [
    "# translation"
   ]
  },
  {
   "cell_type": "code",
   "execution_count": 1,
   "metadata": {},
   "outputs": [
    {
     "name": "stderr",
     "output_type": "stream",
     "text": [
      "D:\\ProgramData\\Anaconda3\\lib\\site-packages\\h5py\\__init__.py:36: FutureWarning: Conversion of the second argument of issubdtype from `float` to `np.floating` is deprecated. In future, it will be treated as `np.float64 == np.dtype(float).type`.\n",
      "  from ._conv import register_converters as _register_converters\n"
     ]
    }
   ],
   "source": [
    "import os\n",
    "import shutil\n",
    "import torch\n",
    "import h5py\n",
    "import numpy as np\n",
    "from torch import nn, optim\n",
    "import torch.nn.functional as F\n",
    "import matplotlib.pyplot as plt\n",
    "from tqdm import tqdm_notebook\n",
    "import matplotlib.pyplot as plt\n",
    "from torch.autograd import Variable\n",
    "from torch.utils.data import DataLoader, Dataset\n",
    "from torchvision.utils import save_image\n",
    "\n",
    "from dataset import TextDataset                          # custom module\n",
    "from model.seq2seq import AttnDecoderRNN, DecoderRNN, EncoderRNN\n",
    "\n",
    "\n",
    "# use_cuda = torch.cuda.is_available()                     # gpu可用\n",
    "use_cuda = False\n",
    "device = torch.device('cuda' if use_cuda else 'cpu')     # 优先使用gpu"
   ]
  },
  {
   "cell_type": "markdown",
   "metadata": {},
   "source": [
    "## 1.读入数据，设置参数"
   ]
  },
  {
   "cell_type": "code",
   "execution_count": 2,
   "metadata": {},
   "outputs": [],
   "source": [
    "SOS_token = 0\n",
    "EOS_token = 1\n",
    "MAX_LENGTH = 10\n",
    "SOS_token = 0                                           # 词汇表中的起止符\n",
    "EOS_token = 1"
   ]
  },
  {
   "cell_type": "code",
   "execution_count": 3,
   "metadata": {},
   "outputs": [
    {
     "name": "stdout",
     "output_type": "stream",
     "text": [
      "Reading lines...\n",
      "Read 135842 sentence pairs\n",
      "Trimmed to 10853 sentence pairs\n",
      "Counting words...\n",
      "Counted words:\n",
      "fra 4489\n",
      "eng 2925\n",
      "['elles ne sont pas du tout interessees .', 'they are not at all interested .']\n"
     ]
    }
   ],
   "source": [
    "lang_dataset = TextDataset()"
   ]
  },
  {
   "cell_type": "code",
   "execution_count": 4,
   "metadata": {},
   "outputs": [],
   "source": [
    "lang_loader = DataLoader(lang_dataset, shuffle=True)   # use num_workers=4 can be slower???"
   ]
  },
  {
   "cell_type": "code",
   "execution_count": 5,
   "metadata": {},
   "outputs": [
    {
     "name": "stdout",
     "output_type": "stream",
     "text": [
      "source language: tensor([[   6, 2737,  299,  264,    5,    1]])\n",
      "target language: tensor([[  2,   3, 798, 753,  42, 796,   4,   1]])\n",
      "Wall time: 9.03 ms\n"
     ]
    }
   ],
   "source": [
    "%%time\n",
    "for data in lang_loader:\n",
    "    x, y = data\n",
    "    print('source language:', x)\n",
    "    print('target language:', y)\n",
    "    break"
   ]
  },
  {
   "cell_type": "markdown",
   "metadata": {},
   "source": [
    "### 注意数据集批次数据末尾的1表示`<EOS>`结束符，每个数据对都有"
   ]
  },
  {
   "cell_type": "code",
   "execution_count": 6,
   "metadata": {},
   "outputs": [
    {
     "name": "stdout",
     "output_type": "stream",
     "text": [
      "source language vocabulary size: 4489\n",
      "target language vocabulary size: 2925\n"
     ]
    }
   ],
   "source": [
    "input_size = lang_dataset.input_lang_words\n",
    "output_size = lang_dataset.output_lang_words\n",
    "print('source language vocabulary size:', input_size)\n",
    "print('target language vocabulary size:', output_size)"
   ]
  },
  {
   "cell_type": "markdown",
   "metadata": {},
   "source": [
    "## 2. 训练模型"
   ]
  },
  {
   "cell_type": "code",
   "execution_count": 7,
   "metadata": {},
   "outputs": [],
   "source": [
    "# Define hyperparameters\n",
    "hidden_size = 128\n",
    "epochs = 20\n",
    "batch_size = 1\n",
    "use_attn = False       # the sign whether to use attention"
   ]
  },
  {
   "cell_type": "code",
   "execution_count": 8,
   "metadata": {},
   "outputs": [],
   "source": [
    "# define the model\n",
    "encoder = EncoderRNN(vocab_size=input_size, hidden_size=hidden_size, n_layers=2)         # prefer using gpu\n",
    "decoder = DecoderRNN(vocab_size=output_size, hidden_size=hidden_size, n_layers=2)\n",
    "attn_decoder = AttnDecoderRNN(vocab_size=output_size, hidden_size=hidden_size, n_layers=2)"
   ]
  },
  {
   "cell_type": "code",
   "execution_count": 17,
   "metadata": {},
   "outputs": [
    {
     "name": "stdout",
     "output_type": "stream",
     "text": [
      "---------------epoch:1---------------\n",
      "Finish 1/1, Loss:0.005845, Time:0s\n"
     ]
    }
   ],
   "source": [
    "# train the translation model\n",
    "import time\n",
    "plot_losses = []\n",
    "def train(encoder, decoder, epochs, use_attn):\n",
    "    \"\"\"\n",
    "        func: train the seq2seq translation\n",
    "        encoder: RNN encoding model\n",
    "        decoder: RNN decoding model\n",
    "        epochs: the number of iteration\n",
    "        use_attn: whether to use attention, True represents use \n",
    "    \"\"\"\n",
    "    param = list(encoder.parameters()) + list(decoder.parameters())         # the parameters preparaed to optimize\n",
    "    optimizer = optim.Adam(param, lr=1e-3)                                  # define the opimizer\n",
    "    criterion = nn.NLLLoss()                                                # define the negative log likelihood loss\n",
    "    for epoch in range(epochs):\n",
    "        start = time.time()                                                 # calculate consumption time\n",
    "        running_loss = 0                                                    # loss value during training\n",
    "        total_loss = 0                                                      # total loss after training\n",
    "        plt_loss_total = 0                                                  # loss value for plot\n",
    "        print('{}epoch:{}{}'.format('-'*15, epoch+1, '-'*15))\n",
    "        for i, data in enumerate(lang_loader):\n",
    "            in_lang, out_lang = data\n",
    "#             print(in_lang.shape, out_lang.shape)\n",
    "            GPU = lambda x:x.to(device)                                     # prefer using gpu\n",
    "            in_lang, out_lang = map(GPU, [in_lang, out_lang])               \n",
    "            encoder, decoder = map(GPU, [encoder, decoder])\n",
    "            \n",
    "            # 1.encode source language to a context\n",
    "            # encoder_outputs is used to attention decoder，该变量只用于注意力解码中\n",
    "            encoder_outputs = torch.zeros([batch_size, MAX_LENGTH, hidden_size]).to(device)  # create a zero output\n",
    "            encoder_hidden  = encoder.initHidden().to(device)               # initialize h0 state\n",
    "            # in_lang:(N,seq)\n",
    "            \n",
    "            for seq_idx in range(in_lang.shape[0]):\n",
    "                encoder_output, encoder_hidden = encoder(in_lang[:, seq_idx:seq_idx+1], encoder_hidden)\n",
    "                encoder_outputs[:,seq_idx:seq_idx+1] = encoder_output[:,:]           # [1, 1, hidden]\n",
    "#                 print(encoder_outputs[:,seq_idx:seq_idx+1].shape,  encoder_output[:,:].shape)            \n",
    "#             print(encoder_outputs.shape)                                 # (1,10,hidden)\n",
    "            \n",
    "            # 2.decode context to seqence\n",
    "            decoder_input = torch.LongTensor([[SOS_token]]).to(device)     # note [[]] =>  get (1,1)\n",
    "            decoder_hidden = encoder_hidden                                # (1,1,hidden) context tensor !!!\n",
    "            loss = 0\n",
    "            # use attention to decode context\n",
    "            if use_attn:\n",
    "                for seq_idx in range(out_lang.shape[1]):\n",
    "                    # decoder_output: (1,1,vocab_size) decoder_hidden: (1,1,hidden)\n",
    "                    # decoder_attention: (1, 1, MAX_LENGTH)\n",
    "                    decoder_output, decoder_hidden, decoder_attention = decoder(decoder_input, decoder_hidden,\n",
    "                                                                               encoder_outputs)\n",
    "                    loss += criterion(decoder_output.view(1,-1), out_lang[:,seq_idx:seq_idx+1][0])\n",
    "                    topv,topi = decoder_output.data.topk(1)\n",
    "                    if topi.item() == EOS_token:\n",
    "                        break\n",
    "                    decoder_input = out_lang[:,seq_idx:seq_idx+1]      # (1,1)\n",
    "            # use no attention to decode context                    \n",
    "            else:      \n",
    "                for seq_idx in range(out_lang.shape[1]):\n",
    "                    # decoder_output: (1,1,vocab_size) decoder_hidden: (1,1,hidden)\n",
    "                    decoder_output, decoder_hidden = decoder(decoder_input, decoder_hidden)\n",
    "                                        \n",
    "                    # predict:(1,vocab_size)   label:(1)\n",
    "                    loss += criterion(decoder_output.view(1,-1), out_lang[:,seq_idx:seq_idx+1][0])\n",
    "                    topv, topi = decoder_output.data.topk(1)          # select the maximum value\n",
    "                    if topi.item() == EOS_token:                      # finish decoding\n",
    "                        break\n",
    "                    # teacher forcing指在训练过程中直接使用正确的标签来进行解码器的训练，当然可以取当前时刻输出的\n",
    "                    # 最大值作为下一个时刻的输入，但teacher forcing可以加速收敛，但在测试时下一个时刻的输入必须是当前\n",
    "                    # 时刻输出的值(输出字典大小的向量，取最大的值对应的索引当做输出的词)\n",
    "                    decoder_input = out_lang[:,seq_idx:seq_idx+1]   # use teacher forcing to accelerate convergence!!!\n",
    "                    \n",
    "            optimizer.zero_grad()           # clear the gradient\n",
    "            loss.backward()                 # backpropagation\n",
    "            optimizer.step()                # update the parameters\n",
    "            running_loss += loss.item()\n",
    "            plt_loss_total += loss.item()\n",
    "            total_loss += loss.item()\n",
    "            if (i + 1) % 500 == 0:\n",
    "                print('{}/{}, Loss:{:.6f}'.format(i+1, len(lang_loader), running_loss/5000))\n",
    "                running_loss = 0\n",
    "            if (i + 1) % 100 == 0:\n",
    "                plot_loss = plt_loss_total / 100\n",
    "                plot_losses.append(plot_loss)\n",
    "                plt_loss_total = 0\n",
    "\n",
    "        epoch_time = time.time() - start                            # calculate consumption time\n",
    "        print('Finish {}/{}, Loss:{:.6f}, Time:{:.0f}s'.format(epoch+1, epochs, \n",
    "                                                               total_loss/len(lang_loader), epoch_time))\n",
    "    attn = 'attn_' if use_attn else ''\n",
    "    torch.save(encoder.state_dict(), os.path.join('snapshot', 'encoder.pth'))\n",
    "    torch.save(decoder.state_dict(), os.path.join('snapshot', attn+'decoder.pth'))\n",
    "\n",
    "# train(encoder, decoder, 1, use_attn=False)\n",
    "train(encoder, attn_decoder, 1, use_attn=True)"
   ]
  },
  {
   "cell_type": "code",
   "execution_count": null,
   "metadata": {},
   "outputs": [],
   "source": []
  },
  {
   "cell_type": "code",
   "execution_count": null,
   "metadata": {},
   "outputs": [],
   "source": []
  },
  {
   "cell_type": "code",
   "execution_count": null,
   "metadata": {},
   "outputs": [],
   "source": []
  }
 ],
 "metadata": {
  "kernelspec": {
   "display_name": "Python 3",
   "language": "python",
   "name": "python3"
  },
  "language_info": {
   "codemirror_mode": {
    "name": "ipython",
    "version": 3
   },
   "file_extension": ".py",
   "mimetype": "text/x-python",
   "name": "python",
   "nbconvert_exporter": "python",
   "pygments_lexer": "ipython3",
   "version": "3.6.4"
  }
 },
 "nbformat": 4,
 "nbformat_minor": 2
}
