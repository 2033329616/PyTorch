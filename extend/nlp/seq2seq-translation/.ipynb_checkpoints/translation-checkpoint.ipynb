{
 "cells": [
  {
   "cell_type": "markdown",
   "metadata": {},
   "source": [
    "# translation"
   ]
  },
  {
   "cell_type": "code",
   "execution_count": 1,
   "metadata": {},
   "outputs": [
    {
     "name": "stderr",
     "output_type": "stream",
     "text": [
      "D:\\ProgramData\\Anaconda3\\lib\\site-packages\\h5py\\__init__.py:36: FutureWarning: Conversion of the second argument of issubdtype from `float` to `np.floating` is deprecated. In future, it will be treated as `np.float64 == np.dtype(float).type`.\n",
      "  from ._conv import register_converters as _register_converters\n"
     ]
    }
   ],
   "source": [
    "import os\n",
    "import shutil\n",
    "import torch\n",
    "import h5py\n",
    "import numpy as np\n",
    "from torch import nn, optim\n",
    "import torch.nn.functional as F\n",
    "import matplotlib.pyplot as plt\n",
    "from tqdm import tqdm_notebook\n",
    "import matplotlib.pyplot as plt\n",
    "from torch.autograd import Variable\n",
    "from torch.utils.data import DataLoader, Dataset\n",
    "from torchvision.utils import save_image\n",
    "\n",
    "from dataset import TextDataset                          # custom module\n",
    "from model.seq2seq import AttnDecoderRNN, DecoderRNN, EncoderRNN\n",
    "\n",
    "\n",
    "use_cuda = torch.cuda.is_available()                     # gpu可用\n",
    "# use_cuda = False\n",
    "device = torch.device('cuda' if use_cuda else 'cpu')     # 优先使用gpu"
   ]
  },
  {
   "cell_type": "markdown",
   "metadata": {},
   "source": [
    "## 1.读入数据，设置参数"
   ]
  },
  {
   "cell_type": "code",
   "execution_count": 2,
   "metadata": {},
   "outputs": [],
   "source": [
    "SOS_token = 0\n",
    "EOS_token = 1\n",
    "MAX_LENGTH = 10\n",
    "SOS_token = 0                                           # 词汇表中的起止符\n",
    "EOS_token = 1"
   ]
  },
  {
   "cell_type": "code",
   "execution_count": 3,
   "metadata": {},
   "outputs": [
    {
     "name": "stdout",
     "output_type": "stream",
     "text": [
      "Reading lines...\n",
      "Read 135842 sentence pairs\n",
      "Trimmed to 10853 sentence pairs\n",
      "Counting words...\n",
      "Counted words:\n",
      "fra 4489\n",
      "eng 2925\n",
      "['j ai faim .', 'i m feeling hungry .']\n"
     ]
    }
   ],
   "source": [
    "lang_dataset = TextDataset()"
   ]
  },
  {
   "cell_type": "code",
   "execution_count": 4,
   "metadata": {},
   "outputs": [],
   "source": [
    "lang_loader = DataLoader(lang_dataset, shuffle=True)   # use num_workers=4 can be slower???"
   ]
  },
  {
   "cell_type": "code",
   "execution_count": 5,
   "metadata": {},
   "outputs": [
    {
     "name": "stdout",
     "output_type": "stream",
     "text": [
      "source language: tensor([[ 123,  246,   14,  126,  247,  418, 1028,    5,    1]])\n",
      "target language: tensor([[ 77,  78, 148, 202,  33,   4,   1]])\n",
      "Wall time: 96.2 ms\n"
     ]
    }
   ],
   "source": [
    "%%time\n",
    "for data in lang_loader:\n",
    "    x, y = data\n",
    "    print('source language:', x)\n",
    "    print('target language:', y)\n",
    "    break"
   ]
  },
  {
   "cell_type": "markdown",
   "metadata": {},
   "source": [
    "### 注意数据集批次数据末尾的1表示`<EOS>`结束符，每个数据对都有"
   ]
  },
  {
   "cell_type": "code",
   "execution_count": 7,
   "metadata": {},
   "outputs": [
    {
     "name": "stdout",
     "output_type": "stream",
     "text": [
      "source language vocabulary size: 4489\n",
      "target language vocabulary size: 2925\n"
     ]
    }
   ],
   "source": [
    "input_size = lang_dataset.input_lang_words\n",
    "output_size = lang_dataset.output_lang_words\n",
    "print('source language vocabulary size:', input_size)\n",
    "print('target language vocabulary size:', output_size)"
   ]
  },
  {
   "cell_type": "markdown",
   "metadata": {},
   "source": [
    "## 2. 训练模型"
   ]
  },
  {
   "cell_type": "code",
   "execution_count": 8,
   "metadata": {},
   "outputs": [],
   "source": [
    "# Define hyperparameters\n",
    "hidden_size = 128\n",
    "epochs = 20\n",
    "batch_size = 1\n",
    "use_attn = False       # the sign whether to use attention"
   ]
  },
  {
   "cell_type": "code",
   "execution_count": 9,
   "metadata": {},
   "outputs": [],
   "source": [
    "# define the model\n",
    "encoder = EncoderRNN(vocab_size=input_size, hidden_size=hidden_size, n_layers=2)         # prefer using gpu\n",
    "decoder = DecoderRNN(vocab_size=output_size, hidden_size=hidden_size, n_layers=2)\n",
    "attn_decoder = AttnDecoderRNN(vocab_size=output_size, hidden_size=hidden_size, n_layers=2)"
   ]
  },
  {
   "cell_type": "code",
   "execution_count": 9,
   "metadata": {},
   "outputs": [
    {
     "name": "stdout",
     "output_type": "stream",
     "text": [
      "---------------epoch:1---------------\n",
      "500/10853, Loss:25.807502\n",
      "1000/10853, Loss:22.011460\n",
      "1500/10853, Loss:20.183806\n",
      "2000/10853, Loss:19.270040\n",
      "2500/10853, Loss:18.742716\n",
      "3000/10853, Loss:18.813828\n",
      "3500/10853, Loss:18.808442\n",
      "4000/10853, Loss:18.034204\n",
      "4500/10853, Loss:17.569319\n",
      "5000/10853, Loss:17.192035\n",
      "5500/10853, Loss:17.067546\n",
      "6000/10853, Loss:17.099160\n",
      "6500/10853, Loss:16.767265\n",
      "7000/10853, Loss:15.551654\n",
      "7500/10853, Loss:16.567754\n",
      "8000/10853, Loss:15.430640\n",
      "8500/10853, Loss:15.803774\n",
      "9000/10853, Loss:15.492909\n",
      "9500/10853, Loss:15.880076\n",
      "10000/10853, Loss:15.246437\n",
      "10500/10853, Loss:15.564464\n",
      "Finish 1/2, Loss:17.691336, Time:758s\n",
      "---------------epoch:2---------------\n",
      "500/10853, Loss:13.769682\n",
      "1000/10853, Loss:14.189394\n",
      "1500/10853, Loss:13.541191\n",
      "2000/10853, Loss:13.485045\n",
      "2500/10853, Loss:13.231906\n",
      "3000/10853, Loss:14.442784\n",
      "3500/10853, Loss:13.927069\n",
      "4000/10853, Loss:12.750300\n",
      "4500/10853, Loss:13.678055\n",
      "5000/10853, Loss:13.566690\n",
      "5500/10853, Loss:13.580775\n",
      "6000/10853, Loss:13.500978\n",
      "6500/10853, Loss:13.831616\n",
      "7000/10853, Loss:13.844228\n",
      "7500/10853, Loss:13.741371\n",
      "8000/10853, Loss:13.533684\n",
      "8500/10853, Loss:13.399337\n",
      "9000/10853, Loss:13.639605\n",
      "9500/10853, Loss:14.159058\n",
      "10000/10853, Loss:13.313855\n",
      "10500/10853, Loss:14.069042\n",
      "Finish 2/2, Loss:13.685167, Time:743s\n"
     ]
    }
   ],
   "source": [
    "# train the translation model\n",
    "import time\n",
    "plot_losses = []\n",
    "def train(encoder, decoder, epochs, use_attn):\n",
    "    \"\"\"\n",
    "        func: train the seq2seq translation\n",
    "        encoder: RNN encoding model\n",
    "        decoder: RNN decoding model\n",
    "        epochs: the number of iteration\n",
    "        use_attn: whether to use attention, True represents use \n",
    "    \"\"\"\n",
    "    param = list(encoder.parameters()) + list(decoder.parameters())         # the parameters preparaed to optimize\n",
    "    optimizer = optim.Adam(param, lr=1e-3)                                  # define the opimizer\n",
    "    criterion = nn.NLLLoss()                                                # define the negative log likelihood loss\n",
    "    for epoch in range(epochs):\n",
    "        start = time.time()                                                 # calculate consumption time\n",
    "        running_loss = 0                                                    # loss value during training\n",
    "        total_loss = 0                                                      # total loss after training\n",
    "        plt_loss_total = 0                                                  # loss value for plot\n",
    "        print('{}epoch:{}{}'.format('-'*15, epoch+1, '-'*15))\n",
    "        for i, data in enumerate(lang_loader):\n",
    "            in_lang, out_lang = data\n",
    "#             print(in_lang.shape, out_lang.shape)\n",
    "            GPU = lambda x:x.to(device)                                     # prefer using gpu\n",
    "            in_lang, out_lang = map(GPU, [in_lang, out_lang])               \n",
    "            encoder, decoder = map(GPU, [encoder, decoder])\n",
    "            \n",
    "            # 1.encode source language to a context\n",
    "            # encoder_outputs is used to attention decoder，该变量只用于注意力解码中\n",
    "            encoder_outputs = torch.zeros([batch_size, MAX_LENGTH, hidden_size]).to(device)  # create a zero output\n",
    "            encoder_hidden  = encoder.initHidden().to(device)               # initialize h0 state\n",
    "            # in_lang:(N,seq)            \n",
    "            for seq_idx in range(in_lang.shape[1]):\n",
    "                encoder_output, encoder_hidden = encoder(in_lang[:, seq_idx:seq_idx+1], encoder_hidden)\n",
    "                encoder_outputs[:,seq_idx:seq_idx+1] = encoder_output[:,:]           # [1, 1, hidden]\n",
    "#                 print(encoder_outputs[:,seq_idx:seq_idx+1].shape,  encoder_output[:,:].shape)            \n",
    "#             print(encoder_outputs.shape)                                 # (1,10,hidden)\n",
    "            \n",
    "            # 2.decode context to seqence\n",
    "            decoder_input = torch.LongTensor([[SOS_token]]).to(device)     # note [[]] =>  get (1,1)\n",
    "            decoder_hidden = encoder_hidden                                # (1,1,hidden) context tensor !!!\n",
    "            loss = 0\n",
    "            # 2.1 use attention to decode context\n",
    "            if use_attn:\n",
    "                for seq_idx in range(out_lang.shape[1]):\n",
    "                    # decoder_output: (1,1,vocab_size) decoder_hidden: (1,1,hidden)\n",
    "                    # decoder_attention: (1, 1, MAX_LENGTH)\n",
    "                    decoder_output, decoder_hidden, decoder_attention = decoder(decoder_input, decoder_hidden,\n",
    "                                                                                encoder_outputs)\n",
    "                    \n",
    "                    # predict: (1,1,vocab_size)  label:(1)\n",
    "                    loss += criterion(decoder_output.view(1,-1), out_lang[:,seq_idx:seq_idx+1][0])\n",
    "                    topv,topi = decoder_output.data.topk(1)\n",
    "                    if topi[0][0] == EOS_token:\n",
    "                        break\n",
    "                    decoder_input = out_lang[:,seq_idx:seq_idx+1]      # (1,1)\n",
    "            # 2.2 use no attention to decode context                    \n",
    "            else:      \n",
    "                for seq_idx in range(out_lang.shape[1]):\n",
    "                    # decoder_output: (1,1,vocab_size) decoder_hidden: (1,1,hidden)\n",
    "                    decoder_output, decoder_hidden = decoder(decoder_input, decoder_hidden)\n",
    "                                        \n",
    "                    # predict:(1,vocab_size)   label:(1)\n",
    "                    loss += criterion(decoder_output.view(1,-1), out_lang[:,seq_idx:seq_idx+1][0])\n",
    "                    topv, topi = decoder_output.data.topk(1)          # select the maximum value\n",
    "                    if topi.item() == EOS_token:                      # finish decoding\n",
    "                        break\n",
    "                    # teacher forcing指在训练过程中直接使用正确的标签来进行解码器的训练，当然可以取当前时刻输出的\n",
    "                    # 最大值作为下一个时刻的输入，但teacher forcing可以加速收敛，但在测试时下一个时刻的输入必须是当前\n",
    "                    # 时刻输出的值(输出字典大小的向量，取最大的值对应的索引当做输出的词)\n",
    "                    decoder_input = out_lang[:,seq_idx:seq_idx+1]   # use teacher forcing to accelerate convergence!!!\n",
    "                    \n",
    "            optimizer.zero_grad()           # clear the gradient\n",
    "            loss.backward()                 # backpropagation\n",
    "            optimizer.step()                # update the parameters\n",
    "            running_loss += loss.item()\n",
    "            plt_loss_total += loss.item()\n",
    "            total_loss += loss.item()\n",
    "            if (i + 1) % 500 == 0:\n",
    "                print('{}/{}, Loss:{:.6f}'.format(i+1, len(lang_loader), running_loss/500))\n",
    "                running_loss = 0\n",
    "            if (i + 1) % 100 == 0:\n",
    "                plot_loss = plt_loss_total / 100\n",
    "                plot_losses.append(plot_loss)\n",
    "                plt_loss_total = 0\n",
    "\n",
    "        epoch_time = time.time() - start                            # calculate consumption time\n",
    "        print('Finish {}/{}, Loss:{:.6f}, Time:{:.0f}s'.format(epoch+1, epochs, \n",
    "                                                               total_loss/len(lang_loader), epoch_time))\n",
    "    # save the model\n",
    "    attn = 'attn_' if use_attn else ''\n",
    "    torch.save(encoder.state_dict(), os.path.join('snapshot', 'encoder.pth'))\n",
    "    torch.save(decoder.state_dict(), os.path.join('snapshot', attn+'decoder.pth'))\n",
    "\n",
    "# train(encoder, decoder, 1, use_attn=False)\n",
    "train(encoder, attn_decoder, 2, use_attn=True)"
   ]
  },
  {
   "cell_type": "code",
   "execution_count": 18,
   "metadata": {},
   "outputs": [
    {
     "data": {
      "text/plain": [
       "[<matplotlib.lines.Line2D at 0x22c8c05a358>]"
      ]
     },
     "execution_count": 18,
     "metadata": {},
     "output_type": "execute_result"
    },
    {
     "data": {
      "image/png": "[encoded data removed]",
      "text/plain": [
       "<matplotlib.figure.Figure at 0x22c8bf809e8>"
      ]
     },
     "metadata": {},
     "output_type": "display_data"
    }
   ],
   "source": [
    "plt.title('loss curve')\n",
    "plt.xlabel('Iteration*100')\n",
    "plt.ylabel('loss')\n",
    "plt.plot(plot_losses)       # batch_size = 1, so there is a big jitter"
   ]
  },
  {
   "cell_type": "markdown",
   "metadata": {},
   "source": [
    "## 3. 评估模型\n",
    "注意在训练中使用了teacher forcing，即直接将标签输入解码器，但测试时输入只能根据上时刻的输出来得出，一般取最大值对应的索引来表示输入的词的one-hot"
   ]
  },
  {
   "cell_type": "code",
   "execution_count": 10,
   "metadata": {},
   "outputs": [],
   "source": [
    "batch_size = 1\n",
    "hidden_size = 128\n",
    "input_size = lang_dataset.input_lang_words\n",
    "output_size = lang_dataset.output_lang_words"
   ]
  },
  {
   "cell_type": "code",
   "execution_count": 11,
   "metadata": {},
   "outputs": [],
   "source": [
    "eval_encoder = EncoderRNN(vocab_size=input_size, hidden_size=hidden_size, n_layers=2)         # prefer using gpu\n",
    "eval_decoder = DecoderRNN(vocab_size=output_size, hidden_size=hidden_size, n_layers=2)\n",
    "eval_attn_decoder = AttnDecoderRNN(vocab_size=output_size, hidden_size=hidden_size, n_layers=2)"
   ]
  },
  {
   "cell_type": "code",
   "execution_count": 12,
   "metadata": {},
   "outputs": [],
   "source": [
    "# load encoder and decoder's weight\n",
    "encoder_path = os.path.join('snapshot', 'encoder.pth')\n",
    "decoder_path = os.path.join('snapshot', 'attn_decoder.pth')\n",
    "eval_encoder.load_state_dict(torch.load(encoder_path))\n",
    "eval_attn_decoder.load_state_dict(torch.load(decoder_path))"
   ]
  },
  {
   "cell_type": "code",
   "execution_count": 62,
   "metadata": {},
   "outputs": [],
   "source": [
    "# define evaluate function\n",
    "def evaluate(encoder, decoder, in_lang, use_attn, max_length=MAX_LENGTH):\n",
    "    \"\"\"\n",
    "        func: evaluate the seq2seq model\n",
    "        encoder: the RNN encoder\n",
    "        decoder: the RNN decoder\n",
    "        in_lang: input language data(Tensor) dims: (N,seq)\n",
    "        max_length: the maximum length of the sequence\n",
    "    \"\"\"\n",
    "    seq_length = in_lang.shape[1]                              # get the length of the input language sequence\n",
    "    eval_mode = lambda x:x.eval().cpu()\n",
    "    encoder, decoder = map(eval_mode, [encoder, decoder])      # change the model to evaluation model and use CPU\n",
    "    \n",
    "    # 1.encode the input tensor into context\n",
    "    encoder_outputs = torch.zeros([batch_size, max_length, hidden_size])   # for attention!!! (N,max_l,hidden)\n",
    "#     print(encoder_outputs.shape)\n",
    "    encoder_hidden = encoder.initHidden()                                       # (1, N, hidden)\n",
    "    for seq_idx in range(seq_length):\n",
    "        encoder_ouput, encoder_hidden = encoder(in_lang[:,seq_idx:seq_idx+1], encoder_hidden)\n",
    "        # => encoder_output:(N,seq,hidden),seq=1  encoder_hidden:(1,N,hidden)\n",
    "#         print(encoder_ouput.shape, encoder_hidden.shape)\n",
    "#         print(encoder_outputs.shape, encoder_ouput[:,:].shape)\n",
    "        encoder_outputs[:,seq_idx:seq_idx+1] = encoder_ouput[:,:]             # [N, 1, hidden]\n",
    "       \n",
    "    # 2.decode the context into sequence\n",
    "    decoder_input = torch.LongTensor([[SOS_token]])                             # (N,1)\n",
    "    decoder_hidden = encoder_hidden                                             # context (N,1,hidden)\n",
    "    decoded_words = []                                                          # store the generated words\n",
    "    decoder_attentions = torch.zeros([batch_size, max_length, max_length])      # store the attention\n",
    "    # 2.1 use attention to decode \n",
    "    if use_attn:\n",
    "        for seq_idx in range(max_length):\n",
    "            decoder_output, decoder_hidden, attention = decoder(decoder_input, decoder_hidden, encoder_outputs)\n",
    "            # => decoder_output:(N,1,vocab_size)  decoder_hidden:(1,N,hidden)  attention:(N,1,max_length)\n",
    "            decoder_attentions[:,seq_idx:seq_idx+1] = attention.data\n",
    "            topv, topi = decoder_output.data.topk(1)                           # select the maximum value along the last dim\n",
    "            # => topi: (N,1,1) \n",
    "            max_index = topi[0][0]    # (1)\n",
    "            if max_index == EOS_token:\n",
    "                decoded_words.append('<EOS>')\n",
    "                break\n",
    "            else:\n",
    "                decoded_words.append(lang_dataset.output_lang.index2word[max_index.item()])  # return the word\n",
    "                \n",
    "            # max_index with respect to the input in the next step\n",
    "            decoder_input = torch.LongTensor([[max_index]])                    # get (1,1)\n",
    "    else:\n",
    "        for seq_idx in range(max_length):\n",
    "            decoder_output, decoder_hidden = decoder(decoder_input, decoder_hidden)\n",
    "            # => decoder_output:(N,1,vocab_size)   decoder_hidden:(1,N,hidden)\n",
    "            topv, topi = decoder_output.data.top(1)                            # (N,1,1)\n",
    "            max_index = topi[0][0]                                             # (1,)\n",
    "            if max_index == EOS_token:\n",
    "                decoded_words.append('<EOS>')\n",
    "                break\n",
    "            else:\n",
    "                decoded_words.append(lang_dataset.output_lang.index2word[max_index.item()])\n",
    "            \n",
    "            # put prediction to the next input\n",
    "            decoder_input = torch.LongTensor([[max_index]])\n",
    "    if use_attn:\n",
    "        return decoded_words, decoder_attentions[:, :seq_idx+1]\n",
    "    else:\n",
    "        return decoded_words"
   ]
  },
  {
   "cell_type": "code",
   "execution_count": 64,
   "metadata": {},
   "outputs": [
    {
     "name": "stdout",
     "output_type": "stream",
     "text": [
      "--------------------------------------------------\n",
      "source:  elle vend des fleurs .\n",
      "target:  she sells flowers .\n",
      "translation:  she is wearing a hat . <EOS>\n",
      "--------------------------------------------------\n",
      "source:  nous sommes forts .\n",
      "target:  we re strong .\n",
      "translation:  we re different . <EOS>\n",
      "--------------------------------------------------\n",
      "source:  je vais en amerique en avion .\n",
      "target:  i am going to america by plane .\n",
      "translation:  i m going to make a mistake . <EOS>\n",
      "--------------------------------------------------\n",
      "source:  je suis desole d avoir ete si grossier .\n",
      "target:  i m sorry i was rude to you .\n",
      "translation:  i m sorry i invited you . <EOS>\n",
      "--------------------------------------------------\n",
      "source:  il est fort au rugby .\n",
      "target:  he is good at rugby .\n",
      "translation:  he s very sensitive . <EOS>\n",
      "--------------------------------------------------\n",
      "source:  elle n est pas grande .\n",
      "target:  she is not tall .\n",
      "translation:  she s not old . <EOS>\n",
      "--------------------------------------------------\n",
      "source:  je suis en bonne sante .\n",
      "target:  i m in good health .\n",
      "translation:  i m good at it . <EOS>\n",
      "--------------------------------------------------\n",
      "source:  je ne suis pas raciste .\n",
      "target:  i m not racist .\n",
      "translation:  i m not married . <EOS>\n",
      "--------------------------------------------------\n",
      "source:  je suis introvertie .\n",
      "target:  i m introverted .\n",
      "translation:  i m exhausted . <EOS>\n",
      "--------------------------------------------------\n",
      "source:  je suis prepare a mourir .\n",
      "target:  i am ready to die .\n",
      "translation:  i m a stranger here . <EOS>\n"
     ]
    }
   ],
   "source": [
    "import random\n",
    "def test(encoder,decoder,n=10, use_attn=True):\n",
    "    for i in range(10):\n",
    "        sample_index = random.choice(range(len(lang_dataset)))       # randomly pick a index\n",
    "        sample_pair = lang_dataset.pairs[sample_index]               # get the string pair w.r.t index\n",
    "        in_lang, out_lang = lang_dataset[sample_index]               # get the tensor of the pairs     \n",
    "        in_lang, out_lang = map(lambda x:x.unsqueeze(0), [in_lang, out_lang])   # get (N,seq)\n",
    "#         print(in_lang.shape, out_lang.shape)\n",
    "        if use_attn:\n",
    "            output_words, decoder_attentions = evaluate(encoder, decoder, in_lang, use_attn=True)\n",
    "        else:\n",
    "            output_words = evaluate(encoder, decoder, in_lang)\n",
    "        output_sentence = ' '.join(output_words)\n",
    "        print('-'*50)\n",
    "        print('source: ', sample_pair[0])\n",
    "        print('target: ', sample_pair[1])\n",
    "        print('translation: ', output_sentence)\n",
    "test(eval_encoder, eval_attn_decoder)"
   ]
  },
  {
   "cell_type": "markdown",
   "metadata": {},
   "source": [
    "注意\n",
    "\n",
    "1. CrossEntropyLoss及NLLLoss的标签都是1维度的，否则会报错\n",
    "2. decoder_output.data.topk(top_num)默认是沿着最后一维，也可以使用dim=2来指定特定的维度"
   ]
  },
  {
   "cell_type": "code",
   "execution_count": null,
   "metadata": {},
   "outputs": [],
   "source": []
  }
 ],
 "metadata": {
  "kernelspec": {
   "display_name": "Python 3",
   "language": "python",
   "name": "python3"
  },
  "language_info": {
   "codemirror_mode": {
    "name": "ipython",
    "version": 3
   },
   "file_extension": ".py",
   "mimetype": "text/x-python",
   "name": "python",
   "nbconvert_exporter": "python",
   "pygments_lexer": "ipython3",
   "version": "3.6.4"
  }
 },
 "nbformat": 4,
 "nbformat_minor": 2
}
