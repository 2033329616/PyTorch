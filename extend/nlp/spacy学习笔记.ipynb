{
 "cells": [
  {
   "cell_type": "markdown",
   "metadata": {},
   "source": [
    "# spacy库的使用\n",
    "参考：[如何用Python处理自然语言](http://blog.sciencenet.cn/blog-377709-1113703.html)\n",
    "\n",
    "根据[官网](https://spacy.io/usage/)进行安装"
   ]
  },
  {
   "cell_type": "code",
   "execution_count": 1,
   "metadata": {},
   "outputs": [],
   "source": [
    "import spacy     # 导入函数库"
   ]
  },
  {
   "cell_type": "code",
   "execution_count": 2,
   "metadata": {},
   "outputs": [],
   "source": [
    "text = \"The sequel, Yes, Prime Minister, ran from 1986 to 1988. In total there were 38 episodes, of which all but one lasted half an hour. Almost all episodes ended with a variation of the title of the series spoken as the answer to a question posed by the same character, Jim Hacker. Several episodes were adapted for BBC Radio, and a stage play was produced in 2010, the latter leading to a new television series on UKTV Gold in 2013.\""
   ]
  },
  {
   "cell_type": "code",
   "execution_count": 3,
   "metadata": {},
   "outputs": [
    {
     "name": "stdout",
     "output_type": "stream",
     "text": [
      "The sequel, Yes, Prime Minister, ran from 1986 to 1988. In total there were 38 episodes, of which all but one lasted half an hour. Almost all episodes ended with a variation of the title of the series spoken as the answer to a question posed by the same character, Jim Hacker. Several episodes were adapted for BBC Radio, and a stage play was produced in 2010, the latter leading to a new television series on UKTV Gold in 2013.\n"
     ]
    }
   ],
   "source": [
    "print(text)"
   ]
  },
  {
   "cell_type": "markdown",
   "metadata": {},
   "source": [
    "### 1. 分析文本"
   ]
  },
  {
   "cell_type": "code",
   "execution_count": 5,
   "metadata": {},
   "outputs": [
    {
     "data": {
      "text/plain": [
       "The sequel, Yes, Prime Minister, ran from 1986 to 1988. In total there were 38 episodes, of which all but one lasted half an hour. Almost all episodes ended with a variation of the title of the series spoken as the answer to a question posed by the same character, Jim Hacker. Several episodes were adapted for BBC Radio, and a stage play was produced in 2010, the latter leading to a new television series on UKTV Gold in 2013."
      ]
     },
     "execution_count": 5,
     "metadata": {},
     "output_type": "execute_result"
    }
   ],
   "source": [
    "nlp = spacy.load('en')                       # 加载英语模型\n",
    "doc = nlp(text)\n",
    "doc"
   ]
  },
  {
   "cell_type": "code",
   "execution_count": 6,
   "metadata": {},
   "outputs": [
    {
     "name": "stdout",
     "output_type": "stream",
     "text": [
      "\"The\"\n",
      "\"sequel\"\n",
      "\",\"\n",
      "\"Yes\"\n",
      "\",\"\n",
      "\"Prime\"\n",
      "\"Minister\"\n",
      "\",\"\n",
      "\"ran\"\n",
      "\"from\"\n"
     ]
    }
   ],
   "source": [
    "for token in doc[:10]:\n",
    "    print('\"{}\"'.format(token.text))         # 输出序列的每个词(token，包括符号)"
   ]
  },
  {
   "cell_type": "markdown",
   "metadata": {},
   "source": [
    "### 2. 显示文本的各属性"
   ]
  },
  {
   "cell_type": "code",
   "execution_count": 7,
   "metadata": {},
   "outputs": [
    {
     "name": "stdout",
     "output_type": "stream",
     "text": [
      "The       0    the       False\tFalse\tXxx    DET    DT   \n",
      "sequel    4    sequel    False\tFalse\txxxx   NOUN   NN   \n",
      ",         10   ,         True\tFalse\t,      PUNCT  ,    \n",
      "Yes       12   yes       False\tFalse\tXxx    INTJ   UH   \n",
      ",         15   ,         True\tFalse\t,      PUNCT  ,    \n",
      "Prime     17   prime     False\tFalse\tXxxxx  PROPN  NNP  \n",
      "Minister  23   minister  False\tFalse\tXxxxx  PROPN  NNP  \n",
      ",         31   ,         True\tFalse\t,      PUNCT  ,    \n",
      "ran       33   run       False\tFalse\txxx    VERB   VBD  \n",
      "from      37   from      False\tFalse\txxxx   ADP    IN   \n"
     ]
    }
   ],
   "source": [
    "for token in doc[:10]:\n",
    "    print('{0:<10}{1:<5}{2:<10}{3}\\t{4}\\t{5:<7}{6:<7}{7:<5}'.format(\n",
    "        token.text,                 # 文本\n",
    "        token.idx,                  # 索引值，按照字母序号，在原文中的定位(包括空格)\n",
    "        token.lemma_,               # 词元\n",
    "        token.is_punct,             # 是否为标点 punctuation\n",
    "        token.is_space,             # 是否是空格\n",
    "        token.shape_,               # 形状，主要针对大小写\n",
    "        token.pos_,                 # 词性\n",
    "        token.tag_                  # 标记\n",
    "    ))"
   ]
  },
  {
   "cell_type": "markdown",
   "metadata": {},
   "source": [
    "### 3. 输出实体词汇"
   ]
  },
  {
   "cell_type": "code",
   "execution_count": 8,
   "metadata": {},
   "outputs": [
    {
     "name": "stdout",
     "output_type": "stream",
     "text": [
      "1986 to 1988        DATE      \n",
      "38                  CARDINAL  \n",
      "one                 CARDINAL  \n",
      "half an hour        TIME      \n",
      "Jim Hacker          PERSON    \n",
      "BBC Radio           ORG       \n",
      "2010                DATE      \n",
      "UKTV Gold           ORG       \n",
      "2013                DATE      \n"
     ]
    }
   ],
   "source": [
    "# cardinal:基数    org：机构\n",
    "for ent in doc.ents:\n",
    "    print('{:<20}{:<10}'.format(ent.text, ent.label_))"
   ]
  },
  {
   "cell_type": "code",
   "execution_count": 9,
   "metadata": {},
   "outputs": [
    {
     "data": {
      "text/html": [
       "<div class=\"entities\" style=\"line-height: 2.5\">The sequel, Yes, Prime Minister, ran from \n",
       "<mark class=\"entity\" style=\"background: #bfe1d9; padding: 0.45em 0.6em; margin: 0 0.25em; line-height: 1; border-radius: 0.35em; box-decoration-break: clone; -webkit-box-decoration-break: clone\">\n",
       "    1986 to 1988\n",
       "    <span style=\"font-size: 0.8em; font-weight: bold; line-height: 1; border-radius: 0.35em; text-transform: uppercase; vertical-align: middle; margin-left: 0.5rem\">DATE</span>\n",
       "</mark>\n",
       ". In total there were \n",
       "<mark class=\"entity\" style=\"background: #e4e7d2; padding: 0.45em 0.6em; margin: 0 0.25em; line-height: 1; border-radius: 0.35em; box-decoration-break: clone; -webkit-box-decoration-break: clone\">\n",
       "    38\n",
       "    <span style=\"font-size: 0.8em; font-weight: bold; line-height: 1; border-radius: 0.35em; text-transform: uppercase; vertical-align: middle; margin-left: 0.5rem\">CARDINAL</span>\n",
       "</mark>\n",
       " episodes, of which all but \n",
       "<mark class=\"entity\" style=\"background: #e4e7d2; padding: 0.45em 0.6em; margin: 0 0.25em; line-height: 1; border-radius: 0.35em; box-decoration-break: clone; -webkit-box-decoration-break: clone\">\n",
       "    one\n",
       "    <span style=\"font-size: 0.8em; font-weight: bold; line-height: 1; border-radius: 0.35em; text-transform: uppercase; vertical-align: middle; margin-left: 0.5rem\">CARDINAL</span>\n",
       "</mark>\n",
       " lasted \n",
       "<mark class=\"entity\" style=\"background: #bfe1d9; padding: 0.45em 0.6em; margin: 0 0.25em; line-height: 1; border-radius: 0.35em; box-decoration-break: clone; -webkit-box-decoration-break: clone\">\n",
       "    half an hour\n",
       "    <span style=\"font-size: 0.8em; font-weight: bold; line-height: 1; border-radius: 0.35em; text-transform: uppercase; vertical-align: middle; margin-left: 0.5rem\">TIME</span>\n",
       "</mark>\n",
       ". Almost all episodes ended with a variation of the title of the series spoken as the answer to a question posed by the same character, \n",
       "<mark class=\"entity\" style=\"background: #aa9cfc; padding: 0.45em 0.6em; margin: 0 0.25em; line-height: 1; border-radius: 0.35em; box-decoration-break: clone; -webkit-box-decoration-break: clone\">\n",
       "    Jim Hacker\n",
       "    <span style=\"font-size: 0.8em; font-weight: bold; line-height: 1; border-radius: 0.35em; text-transform: uppercase; vertical-align: middle; margin-left: 0.5rem\">PERSON</span>\n",
       "</mark>\n",
       ". Several episodes were adapted for \n",
       "<mark class=\"entity\" style=\"background: #7aecec; padding: 0.45em 0.6em; margin: 0 0.25em; line-height: 1; border-radius: 0.35em; box-decoration-break: clone; -webkit-box-decoration-break: clone\">\n",
       "    BBC Radio\n",
       "    <span style=\"font-size: 0.8em; font-weight: bold; line-height: 1; border-radius: 0.35em; text-transform: uppercase; vertical-align: middle; margin-left: 0.5rem\">ORG</span>\n",
       "</mark>\n",
       ", and a stage play was produced in \n",
       "<mark class=\"entity\" style=\"background: #bfe1d9; padding: 0.45em 0.6em; margin: 0 0.25em; line-height: 1; border-radius: 0.35em; box-decoration-break: clone; -webkit-box-decoration-break: clone\">\n",
       "    2010\n",
       "    <span style=\"font-size: 0.8em; font-weight: bold; line-height: 1; border-radius: 0.35em; text-transform: uppercase; vertical-align: middle; margin-left: 0.5rem\">DATE</span>\n",
       "</mark>\n",
       ", the latter leading to a new television series on \n",
       "<mark class=\"entity\" style=\"background: #7aecec; padding: 0.45em 0.6em; margin: 0 0.25em; line-height: 1; border-radius: 0.35em; box-decoration-break: clone; -webkit-box-decoration-break: clone\">\n",
       "    UKTV Gold\n",
       "    <span style=\"font-size: 0.8em; font-weight: bold; line-height: 1; border-radius: 0.35em; text-transform: uppercase; vertical-align: middle; margin-left: 0.5rem\">ORG</span>\n",
       "</mark>\n",
       " in \n",
       "<mark class=\"entity\" style=\"background: #bfe1d9; padding: 0.45em 0.6em; margin: 0 0.25em; line-height: 1; border-radius: 0.35em; box-decoration-break: clone; -webkit-box-decoration-break: clone\">\n",
       "    2013\n",
       "    <span style=\"font-size: 0.8em; font-weight: bold; line-height: 1; border-radius: 0.35em; text-transform: uppercase; vertical-align: middle; margin-left: 0.5rem\">DATE</span>\n",
       "</mark>\n",
       ".</div>"
      ],
      "text/plain": [
       "<IPython.core.display.HTML object>"
      ]
     },
     "metadata": {},
     "output_type": "display_data"
    }
   ],
   "source": [
    "# 显示实体词汇\n",
    "from spacy import displacy\n",
    "displacy.render(doc, style='ent', jupyter=True)"
   ]
  },
  {
   "cell_type": "markdown",
   "metadata": {},
   "source": [
    "### 4. 将段落拆解为语句"
   ]
  },
  {
   "cell_type": "code",
   "execution_count": 10,
   "metadata": {},
   "outputs": [
    {
     "name": "stdout",
     "output_type": "stream",
     "text": [
      "The sequel, Yes, Prime Minister, ran from 1986 to 1988.\n",
      "\n",
      "In total there were 38 episodes, of which all but one lasted half an hour.\n",
      "\n",
      "Almost all episodes ended with a variation of the title of the series spoken as the answer to a question posed by the same character, Jim Hacker.\n",
      "\n",
      "Several episodes were adapted for BBC Radio, and a stage play was produced in 2010, the latter leading to a new television series on UKTV Gold in 2013.\n",
      "\n"
     ]
    }
   ],
   "source": [
    "for sentence in doc.sents: \n",
    "    print(sentence)\n",
    "    print()"
   ]
  },
  {
   "cell_type": "code",
   "execution_count": 11,
   "metadata": {},
   "outputs": [
    {
     "name": "stdout",
     "output_type": "stream",
     "text": [
      "<generator object at 0x0000024519C20048>\n",
      "\n",
      "[The sequel, Yes, Prime Minister, ran from 1986 to 1988., In total there were 38 episodes, of which all but one lasted half an hour., Almost all episodes ended with a variation of the title of the series spoken as the answer to a question posed by the same character, Jim Hacker., Several episodes were adapted for BBC Radio, and a stage play was produced in 2010, the latter leading to a new television series on UKTV Gold in 2013.]\n"
     ]
    }
   ],
   "source": [
    "print(doc.sents)             # 注意doc.sents是生成器\n",
    "print()\n",
    "print(list(doc.sents))       # 先转换为list再进行操作"
   ]
  },
  {
   "cell_type": "markdown",
   "metadata": {},
   "source": [
    "### 5. 处理单独的句子"
   ]
  },
  {
   "cell_type": "code",
   "execution_count": 12,
   "metadata": {},
   "outputs": [
    {
     "data": {
      "text/plain": [
       "The sequel, Yes, Prime Minister, ran from 1986 to 1988."
      ]
     },
     "execution_count": 12,
     "metadata": {},
     "output_type": "execute_result"
    }
   ],
   "source": [
    "newdoc = nlp(list(doc.sents)[0].text)          # 将首句提出来进行分析\n",
    "newdoc"
   ]
  },
  {
   "cell_type": "markdown",
   "metadata": {},
   "source": [
    "#### 5.1 分析词例的依赖关系"
   ]
  },
  {
   "cell_type": "code",
   "execution_count": 13,
   "metadata": {},
   "outputs": [
    {
     "name": "stdout",
     "output_type": "stream",
     "text": [
      "(The       DT   )  <--det     --  (sequel    NN   )\n",
      "(sequel    NN   )  <--nsubj   --  (ran       VBD  )\n",
      "(,         ,    )  <--punct   --  (sequel    NN   )\n",
      "(Yes       UH   )  <--intj    --  (sequel    NN   )\n",
      "(,         ,    )  <--punct   --  (sequel    NN   )\n",
      "(Prime     NNP  )  <--compound--  (Minister  NNP  )\n",
      "(Minister  NNP  )  <--appos   --  (sequel    NN   )\n",
      "(,         ,    )  <--punct   --  (sequel    NN   )\n",
      "(ran       VBD  )  <--ROOT    --  (ran       VBD  )\n",
      "(from      IN   )  <--prep    --  (ran       VBD  )\n",
      "(1986      CD   )  <--pobj    --  (from      IN   )\n",
      "(to        IN   )  <--prep    --  (from      IN   )\n",
      "(1988      CD   )  <--pobj    --  (to        IN   )\n",
      "(.         .    )  <--punct   --  (ran       VBD  )\n"
     ]
    }
   ],
   "source": [
    "for token in newdoc:\n",
    "    print('({0:<10}{1:<5})  <--{2:<8}--  ({3:<10}{4:<5})'.format(\n",
    "        token.text,                        # 句子文本 \n",
    "        token.tag_,                        # 标记\n",
    "        token.dep_,                        # 依赖\n",
    "        token.head.text,                   # head的文本\n",
    "        token.head.tag_                    # head的标记\n",
    "    ))"
   ]
  },
  {
   "cell_type": "markdown",
   "metadata": {},
   "source": [
    "#### 5.2 可视化依赖关系"
   ]
  },
  {
   "cell_type": "markdown",
   "metadata": {},
   "source": [
    "## 注意！！！\n",
    "修改D:\\ProgramData\\Anaconda3\\Lib\\site-packages\\spacy的util.py文件，将486行中`return msgpack.dumps(serialized, use_bin_type=True, encoding='utf8')`的encoding='utf8'去掉\n",
    "\n",
    "否则会出现[TypeError: __init__() got an unexpected keyword argument 'encoding'](https://github.com/explosion/spaCy/issues/2868)错误"
   ]
  },
  {
   "cell_type": "code",
   "execution_count": 14,
   "metadata": {},
   "outputs": [
    {
     "data": {
      "text/html": [
       "<svg xmlns=\"http://www.w3.org/2000/svg\" xmlns:xlink=\"http://www.w3.org/1999/xlink\" id=\"0\" class=\"displacy\" width=\"950\" height=\"317.0\" style=\"max-width: none; height: 317.0px; color: #000000; background: #ffffff; font-family: Arial\">\n",
       "<text class=\"displacy-token\" fill=\"currentColor\" text-anchor=\"middle\" y=\"227.0\">\n",
       "    <tspan class=\"displacy-word\" fill=\"currentColor\" x=\"50\">The</tspan>\n",
       "    <tspan class=\"displacy-tag\" dy=\"2em\" fill=\"currentColor\" x=\"50\">DET</tspan>\n",
       "</text>\n",
       "\n",
       "<text class=\"displacy-token\" fill=\"currentColor\" text-anchor=\"middle\" y=\"227.0\">\n",
       "    <tspan class=\"displacy-word\" fill=\"currentColor\" x=\"140\">sequel,</tspan>\n",
       "    <tspan class=\"displacy-tag\" dy=\"2em\" fill=\"currentColor\" x=\"140\">NOUN</tspan>\n",
       "</text>\n",
       "\n",
       "<text class=\"displacy-token\" fill=\"currentColor\" text-anchor=\"middle\" y=\"227.0\">\n",
       "    <tspan class=\"displacy-word\" fill=\"currentColor\" x=\"230\">Yes,</tspan>\n",
       "    <tspan class=\"displacy-tag\" dy=\"2em\" fill=\"currentColor\" x=\"230\">INTJ</tspan>\n",
       "</text>\n",
       "\n",
       "<text class=\"displacy-token\" fill=\"currentColor\" text-anchor=\"middle\" y=\"227.0\">\n",
       "    <tspan class=\"displacy-word\" fill=\"currentColor\" x=\"320\">Prime</tspan>\n",
       "    <tspan class=\"displacy-tag\" dy=\"2em\" fill=\"currentColor\" x=\"320\">PROPN</tspan>\n",
       "</text>\n",
       "\n",
       "<text class=\"displacy-token\" fill=\"currentColor\" text-anchor=\"middle\" y=\"227.0\">\n",
       "    <tspan class=\"displacy-word\" fill=\"currentColor\" x=\"410\">Minister,</tspan>\n",
       "    <tspan class=\"displacy-tag\" dy=\"2em\" fill=\"currentColor\" x=\"410\">PROPN</tspan>\n",
       "</text>\n",
       "\n",
       "<text class=\"displacy-token\" fill=\"currentColor\" text-anchor=\"middle\" y=\"227.0\">\n",
       "    <tspan class=\"displacy-word\" fill=\"currentColor\" x=\"500\">ran</tspan>\n",
       "    <tspan class=\"displacy-tag\" dy=\"2em\" fill=\"currentColor\" x=\"500\">VERB</tspan>\n",
       "</text>\n",
       "\n",
       "<text class=\"displacy-token\" fill=\"currentColor\" text-anchor=\"middle\" y=\"227.0\">\n",
       "    <tspan class=\"displacy-word\" fill=\"currentColor\" x=\"590\">from</tspan>\n",
       "    <tspan class=\"displacy-tag\" dy=\"2em\" fill=\"currentColor\" x=\"590\">ADP</tspan>\n",
       "</text>\n",
       "\n",
       "<text class=\"displacy-token\" fill=\"currentColor\" text-anchor=\"middle\" y=\"227.0\">\n",
       "    <tspan class=\"displacy-word\" fill=\"currentColor\" x=\"680\">1986</tspan>\n",
       "    <tspan class=\"displacy-tag\" dy=\"2em\" fill=\"currentColor\" x=\"680\">NUM</tspan>\n",
       "</text>\n",
       "\n",
       "<text class=\"displacy-token\" fill=\"currentColor\" text-anchor=\"middle\" y=\"227.0\">\n",
       "    <tspan class=\"displacy-word\" fill=\"currentColor\" x=\"770\">to</tspan>\n",
       "    <tspan class=\"displacy-tag\" dy=\"2em\" fill=\"currentColor\" x=\"770\">ADP</tspan>\n",
       "</text>\n",
       "\n",
       "<text class=\"displacy-token\" fill=\"currentColor\" text-anchor=\"middle\" y=\"227.0\">\n",
       "    <tspan class=\"displacy-word\" fill=\"currentColor\" x=\"860\">1988.</tspan>\n",
       "    <tspan class=\"displacy-tag\" dy=\"2em\" fill=\"currentColor\" x=\"860\">NUM</tspan>\n",
       "</text>\n",
       "\n",
       "<g class=\"displacy-arrow\">\n",
       "    <path class=\"displacy-arc\" id=\"arrow-0-0\" stroke-width=\"2px\" d=\"M70,182.0 C70,137.0 125.0,137.0 125.0,182.0\" fill=\"none\" stroke=\"currentColor\"/>\n",
       "    <text dy=\"1.25em\" style=\"font-size: 0.8em; letter-spacing: 1px\">\n",
       "        <textPath xlink:href=\"#arrow-0-0\" class=\"displacy-label\" startOffset=\"50%\" fill=\"currentColor\" text-anchor=\"middle\">det</textPath>\n",
       "    </text>\n",
       "    <path class=\"displacy-arrowhead\" d=\"M70,184.0 L62,172.0 78,172.0\" fill=\"currentColor\"/>\n",
       "</g>\n",
       "\n",
       "<g class=\"displacy-arrow\">\n",
       "    <path class=\"displacy-arc\" id=\"arrow-0-1\" stroke-width=\"2px\" d=\"M160,182.0 C160,2.0 500.0,2.0 500.0,182.0\" fill=\"none\" stroke=\"currentColor\"/>\n",
       "    <text dy=\"1.25em\" style=\"font-size: 0.8em; letter-spacing: 1px\">\n",
       "        <textPath xlink:href=\"#arrow-0-1\" class=\"displacy-label\" startOffset=\"50%\" fill=\"currentColor\" text-anchor=\"middle\">nsubj</textPath>\n",
       "    </text>\n",
       "    <path class=\"displacy-arrowhead\" d=\"M160,184.0 L152,172.0 168,172.0\" fill=\"currentColor\"/>\n",
       "</g>\n",
       "\n",
       "<g class=\"displacy-arrow\">\n",
       "    <path class=\"displacy-arc\" id=\"arrow-0-2\" stroke-width=\"2px\" d=\"M160,182.0 C160,137.0 215.0,137.0 215.0,182.0\" fill=\"none\" stroke=\"currentColor\"/>\n",
       "    <text dy=\"1.25em\" style=\"font-size: 0.8em; letter-spacing: 1px\">\n",
       "        <textPath xlink:href=\"#arrow-0-2\" class=\"displacy-label\" startOffset=\"50%\" fill=\"currentColor\" text-anchor=\"middle\">intj</textPath>\n",
       "    </text>\n",
       "    <path class=\"displacy-arrowhead\" d=\"M215.0,184.0 L223.0,172.0 207.0,172.0\" fill=\"currentColor\"/>\n",
       "</g>\n",
       "\n",
       "<g class=\"displacy-arrow\">\n",
       "    <path class=\"displacy-arc\" id=\"arrow-0-3\" stroke-width=\"2px\" d=\"M340,182.0 C340,137.0 395.0,137.0 395.0,182.0\" fill=\"none\" stroke=\"currentColor\"/>\n",
       "    <text dy=\"1.25em\" style=\"font-size: 0.8em; letter-spacing: 1px\">\n",
       "        <textPath xlink:href=\"#arrow-0-3\" class=\"displacy-label\" startOffset=\"50%\" fill=\"currentColor\" text-anchor=\"middle\">compound</textPath>\n",
       "    </text>\n",
       "    <path class=\"displacy-arrowhead\" d=\"M340,184.0 L332,172.0 348,172.0\" fill=\"currentColor\"/>\n",
       "</g>\n",
       "\n",
       "<g class=\"displacy-arrow\">\n",
       "    <path class=\"displacy-arc\" id=\"arrow-0-4\" stroke-width=\"2px\" d=\"M160,182.0 C160,47.0 405.0,47.0 405.0,182.0\" fill=\"none\" stroke=\"currentColor\"/>\n",
       "    <text dy=\"1.25em\" style=\"font-size: 0.8em; letter-spacing: 1px\">\n",
       "        <textPath xlink:href=\"#arrow-0-4\" class=\"displacy-label\" startOffset=\"50%\" fill=\"currentColor\" text-anchor=\"middle\">appos</textPath>\n",
       "    </text>\n",
       "    <path class=\"displacy-arrowhead\" d=\"M405.0,184.0 L413.0,172.0 397.0,172.0\" fill=\"currentColor\"/>\n",
       "</g>\n",
       "\n",
       "<g class=\"displacy-arrow\">\n",
       "    <path class=\"displacy-arc\" id=\"arrow-0-5\" stroke-width=\"2px\" d=\"M520,182.0 C520,137.0 575.0,137.0 575.0,182.0\" fill=\"none\" stroke=\"currentColor\"/>\n",
       "    <text dy=\"1.25em\" style=\"font-size: 0.8em; letter-spacing: 1px\">\n",
       "        <textPath xlink:href=\"#arrow-0-5\" class=\"displacy-label\" startOffset=\"50%\" fill=\"currentColor\" text-anchor=\"middle\">prep</textPath>\n",
       "    </text>\n",
       "    <path class=\"displacy-arrowhead\" d=\"M575.0,184.0 L583.0,172.0 567.0,172.0\" fill=\"currentColor\"/>\n",
       "</g>\n",
       "\n",
       "<g class=\"displacy-arrow\">\n",
       "    <path class=\"displacy-arc\" id=\"arrow-0-6\" stroke-width=\"2px\" d=\"M610,182.0 C610,137.0 665.0,137.0 665.0,182.0\" fill=\"none\" stroke=\"currentColor\"/>\n",
       "    <text dy=\"1.25em\" style=\"font-size: 0.8em; letter-spacing: 1px\">\n",
       "        <textPath xlink:href=\"#arrow-0-6\" class=\"displacy-label\" startOffset=\"50%\" fill=\"currentColor\" text-anchor=\"middle\">pobj</textPath>\n",
       "    </text>\n",
       "    <path class=\"displacy-arrowhead\" d=\"M665.0,184.0 L673.0,172.0 657.0,172.0\" fill=\"currentColor\"/>\n",
       "</g>\n",
       "\n",
       "<g class=\"displacy-arrow\">\n",
       "    <path class=\"displacy-arc\" id=\"arrow-0-7\" stroke-width=\"2px\" d=\"M610,182.0 C610,92.0 760.0,92.0 760.0,182.0\" fill=\"none\" stroke=\"currentColor\"/>\n",
       "    <text dy=\"1.25em\" style=\"font-size: 0.8em; letter-spacing: 1px\">\n",
       "        <textPath xlink:href=\"#arrow-0-7\" class=\"displacy-label\" startOffset=\"50%\" fill=\"currentColor\" text-anchor=\"middle\">prep</textPath>\n",
       "    </text>\n",
       "    <path class=\"displacy-arrowhead\" d=\"M760.0,184.0 L768.0,172.0 752.0,172.0\" fill=\"currentColor\"/>\n",
       "</g>\n",
       "\n",
       "<g class=\"displacy-arrow\">\n",
       "    <path class=\"displacy-arc\" id=\"arrow-0-8\" stroke-width=\"2px\" d=\"M790,182.0 C790,137.0 845.0,137.0 845.0,182.0\" fill=\"none\" stroke=\"currentColor\"/>\n",
       "    <text dy=\"1.25em\" style=\"font-size: 0.8em; letter-spacing: 1px\">\n",
       "        <textPath xlink:href=\"#arrow-0-8\" class=\"displacy-label\" startOffset=\"50%\" fill=\"currentColor\" text-anchor=\"middle\">pobj</textPath>\n",
       "    </text>\n",
       "    <path class=\"displacy-arrowhead\" d=\"M845.0,184.0 L853.0,172.0 837.0,172.0\" fill=\"currentColor\"/>\n",
       "</g>\n",
       "</svg>"
      ],
      "text/plain": [
       "<IPython.core.display.HTML object>"
      ]
     },
     "metadata": {},
     "output_type": "display_data"
    }
   ],
   "source": [
    "newdoc = nlp(list(doc.sents)[0].text)\n",
    "displacy.render(newdoc, style='dep', jupyter=True, options={'distance': 90})"
   ]
  },
  {
   "cell_type": "markdown",
   "metadata": {},
   "source": [
    "---"
   ]
  },
  {
   "cell_type": "markdown",
   "metadata": {},
   "source": [
    "### 6. 词嵌入分析语义\n",
    "需导入的模型快捷方式在`D:\\ProgramData\\Anaconda3\\Lib\\site-packages\\spacy\\data`路径下，模型存在`C:\\Users\\David\\AppData\\Local\\pip\\cache\\wheels`路径下\n",
    "\n",
    "安装方法参考：[spaCy下载模型en_core_web失败：Read timed out](https://blog.csdn.net/wmq104/article/details/82766318)"
   ]
  },
  {
   "cell_type": "code",
   "execution_count": 17,
   "metadata": {},
   "outputs": [],
   "source": [
    "nlp = spacy.load('en_core_web_lg')               # 导入word2vec模型"
   ]
  },
  {
   "cell_type": "code",
   "execution_count": 25,
   "metadata": {},
   "outputs": [
    {
     "data": {
      "text/plain": [
       "array([-0.32239 ,  0.38982 ,  0.64522 ,  0.087596,  0.40262 , -0.41253 ,\n",
       "        0.13804 , -0.40226 , -0.30679 ,  3.652   , -0.61745 , -0.24114 ,\n",
       "        0.17488 , -0.25995 , -0.38512 , -0.13747 , -0.37446 , -0.80867 ,\n",
       "        0.28081 ,  0.29735 ], dtype=float32)"
      ]
     },
     "execution_count": 25,
     "metadata": {},
     "output_type": "execute_result"
    }
   ],
   "source": [
    "word_vector = nlp.vocab['minister'].vector       # 进行词嵌入 维度：(300,)\n",
    "word_vector[:20]"
   ]
  },
  {
   "cell_type": "markdown",
   "metadata": {},
   "source": [
    "#### 6.1 比较词语相似性"
   ]
  },
  {
   "cell_type": "code",
   "execution_count": 34,
   "metadata": {},
   "outputs": [
    {
     "name": "stdout",
     "output_type": "stream",
     "text": [
      "1.dog vs cat: 0.80168545\n",
      "2.dog vs apple: 0.2633902\n",
      "3.apple vs orange: 0.5618917\n"
     ]
    }
   ],
   "source": [
    "dog = nlp.vocab['dog']\n",
    "cat = nlp.vocab['cat']\n",
    "apple = nlp.vocab['apple']\n",
    "orange = nlp.vocab['orange']\n",
    "print('1.dog vs cat:', dog.similarity(cat))     # 比较词语间的相似性，但similarity只计算词典中向量\n",
    "print('2.dog vs apple:', dog.similarity(apple))\n",
    "print('3.apple vs orange:', apple.similarity(orange))"
   ]
  },
  {
   "cell_type": "code",
   "execution_count": 45,
   "metadata": {},
   "outputs": [
    {
     "name": "stdout",
     "output_type": "stream",
     "text": [
      "1.cosine similarity: 0.8016855120658875\n",
      "2.spacy similarity: 0.80168545\n"
     ]
    }
   ],
   "source": [
    "from scipy.spatial.distance import cosine               # 使用余弦函数计算相似度\n",
    "similarity = 1- cosine(dog.vector, cat.vector)\n",
    "print('1.cosine similarity:', similarity)                      # 两种方法得到的结果差不多\n",
    "print('2.spacy similarity:', dog.similarity(cat))"
   ]
  },
  {
   "cell_type": "markdown",
   "metadata": {},
   "source": [
    "#### 6.2 词语向量间的运算\n",
    "例子：guess_word = king -queen + woman"
   ]
  },
  {
   "cell_type": "code",
   "execution_count": 52,
   "metadata": {},
   "outputs": [],
   "source": [
    "def vector_similarity(x, y):                      # 计算余弦相似性\n",
    "    return 1 - cosine(x,y)\n",
    "def make_guess_word(words):                       # 获取运算后的词向量\n",
    "    [first, second, third] = words\n",
    "    return nlp.vocab[first].vector - nlp.vocab[second].vector + nlp.vocab[third].vector\n",
    "def get_similar_word(words, scope=nlp.vocab):     #  搜索相似词语\n",
    "    guess_word = make_guess_word(words)\n",
    "    \n",
    "    similarities = []\n",
    "    for word in scope:                            # 在全局范围内找相似向量\n",
    "        if not word.has_vector:                   # 该单词有词向量\n",
    "            continue\n",
    "        similarity = vector_similarity(guess_word, word.vector)\n",
    "        similarities.append((word, similarity))\n",
    "    similarities = sorted(similarities, key=lambda x:x[1], reverse=True)   # 从大到小排序\n",
    "    print([word[0].text for word in similarities[:10]])"
   ]
  },
  {
   "cell_type": "code",
   "execution_count": 59,
   "metadata": {},
   "outputs": [
    {
     "name": "stdout",
     "output_type": "stream",
     "text": [
      "['MAN', 'Man', 'mAn', 'MAn', 'MaN', 'man', 'mAN', 'WOMAN', 'womAn', 'WOman']\n",
      "Wall time: 31.3 s\n"
     ]
    }
   ],
   "source": [
    "%%time\n",
    "words = ['king', 'queen', 'woman']\n",
    "get_similar_word(words)"
   ]
  },
  {
   "cell_type": "code",
   "execution_count": 60,
   "metadata": {},
   "outputs": [
    {
     "name": "stdout",
     "output_type": "stream",
     "text": [
      "['PAIRS', 'pairs', 'Pairs', 'pair', 'PAIR', 'Pair', 'paired', 'PAIRED', 'Paired', 'IDENTICAL']\n",
      "Wall time: 31.7 s\n"
     ]
    }
   ],
   "source": [
    "%%time\n",
    "words = ['Pairs', 'London', 'England']\n",
    "get_similar_word(words)"
   ]
  },
  {
   "cell_type": "code",
   "execution_count": 61,
   "metadata": {},
   "outputs": [
    {
     "data": {
      "text/plain": [
       "1344233"
      ]
     },
     "execution_count": 61,
     "metadata": {},
     "output_type": "execute_result"
    }
   ],
   "source": [
    "len(nlp.vocab)                                # 字典大小"
   ]
  },
  {
   "cell_type": "markdown",
   "metadata": {},
   "source": [
    "#### 6.3 词嵌入可视化"
   ]
  },
  {
   "cell_type": "code",
   "execution_count": 62,
   "metadata": {},
   "outputs": [],
   "source": [
    "import numpy as np"
   ]
  },
  {
   "cell_type": "code",
   "execution_count": 74,
   "metadata": {},
   "outputs": [
    {
     "name": "stdout",
     "output_type": "stream",
     "text": [
      "['The', 'sequel', 'Yes', 'Prime', 'Minister', 'ran', 'from', '1986', 'to', '1988', 'In', 'total', 'there', 'were', '38', 'episodes', 'of', 'which', 'all', 'but', 'one', 'lasted', 'half', 'an', 'hour', 'Almost', 'ended', 'with', 'a', 'variation', 'the', 'title', 'series', 'spoken', 'as', 'answer', 'question', 'posed', 'by', 'same', 'character', 'Jim', 'Hacker', 'Several', 'adapted', 'for', 'BBC', 'Radio', 'and', 'stage', 'play', 'was', 'produced', 'in', '2010', 'latter', 'leading', 'new', 'television', 'on', 'UKTV', 'Gold', '2013'] 63\n"
     ]
    }
   ],
   "source": [
    "word_list = []                    # 需要演示的列表\n",
    "for token in doc:                 # 开头的text文本\n",
    "    # 当token不是标点且没有在词汇表中才进行添加\n",
    "    if not(token.is_punct) and not(token.text in word_list):\n",
    "        word_list.append(token.text)\n",
    "print(word_list, len(word_list))"
   ]
  },
  {
   "cell_type": "code",
   "execution_count": 82,
   "metadata": {},
   "outputs": [
    {
     "name": "stdout",
     "output_type": "stream",
     "text": [
      "[[ 0.27204001 -0.06203    -0.1884     ...  0.13015001 -0.18317001\n",
      "   0.1323    ]\n",
      " [ 0.14253999 -0.45322999 -0.27893999 ... -0.24725001 -0.45203999\n",
      "   0.17431   ]\n",
      " [-0.13747001  0.19227999 -0.53451997 ... -0.039257   -0.13017\n",
      "  -0.14871   ]\n",
      " ...\n",
      " [ 0.68823999 -0.29369     0.14425001 ... -0.44117001 -0.22014999\n",
      "  -0.29587001]\n",
      " [-0.19140001 -0.071784    0.49133    ... -0.58276999 -0.051528\n",
      "   0.59271002]\n",
      " [ 0.35486001  0.15902001  0.77482998 ... -0.18777999  0.20765001\n",
      "   0.78201002]] (63, 300)\n"
     ]
    }
   ],
   "source": [
    "# 将每个词汇对应的嵌入向量保存到嵌入矩阵中\n",
    "embedding = np.zeros([len(word_list), 300])          # 先创建空矩阵 (63,300)\n",
    "for i, word in enumerate(word_list):\n",
    "#     embedding[i] = np.append(embedding, nlp.vocab[word].vector)\n",
    "    embedding[i] = nlp.vocab[word].vector            # (300,)\n",
    "print(embedding, embedding.shape)"
   ]
  },
  {
   "cell_type": "code",
   "execution_count": 83,
   "metadata": {},
   "outputs": [],
   "source": [
    "from sklearn.manifold import TSNE\n",
    "import matplotlib.pyplot as plt\n",
    "tsne = TSNE()               # 将高维向量压缩为2维向量，可以在平面上绘图\n",
    "low_dim_embedding = tsne.fit_transform(embedding)"
   ]
  },
  {
   "cell_type": "code",
   "execution_count": 97,
   "metadata": {},
   "outputs": [
    {
     "data": {
      "image/png": "[encoded data removed]",
      "text/plain": [
       "<matplotlib.figure.Figure at 0x245309ee8d0>"
      ]
     },
     "metadata": {},
     "output_type": "display_data"
    }
   ],
   "source": [
    "def plot_wordvec(low_dim_embed, labels, filename='tsne.pdf'):\n",
    "    assert low_dim_embed.shape[0] == len(labels), 'labels and samples do not match'\n",
    "    plt.figure(figsize=(18,18))\n",
    "    for i, label in enumerate(labels):\n",
    "        x, y = low_dim_embed[i,:]\n",
    "#         plt.xlim(-200,200)                           # 限定坐标显示范围\n",
    "#         plt.ylim(-200,200)\n",
    "        plt.scatter(x,y)                               # 画散点图\n",
    "        plt.annotate(label, xy=(x,y), xytext=(5,2), textcoords='offset points', \n",
    "                    ha='right', va='bottom')           # 标注\n",
    "    plt.show()\n",
    "#     plt.savefig(filename)\n",
    "plot_wordvec(low_dim_embedding, word_list)"
   ]
  },
  {
   "cell_type": "code",
   "execution_count": null,
   "metadata": {},
   "outputs": [],
   "source": []
  }
 ],
 "metadata": {
  "kernelspec": {
   "display_name": "Python 3",
   "language": "python",
   "name": "python3"
  },
  "language_info": {
   "codemirror_mode": {
    "name": "ipython",
    "version": 3
   },
   "file_extension": ".py",
   "mimetype": "text/x-python",
   "name": "python",
   "nbconvert_exporter": "python",
   "pygments_lexer": "ipython3",
   "version": "3.6.4"
  }
 },
 "nbformat": 4,
 "nbformat_minor": 2
}
